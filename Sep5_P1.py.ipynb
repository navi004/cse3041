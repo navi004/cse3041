{
 "cells": [
  {
   "cell_type": "code",
   "execution_count": 1,
   "id": "2b60c87d",
   "metadata": {},
   "outputs": [],
   "source": [
    "import numpy as np"
   ]
  },
  {
   "cell_type": "markdown",
   "id": "61484ba8",
   "metadata": {},
   "source": [
    "# Pandas in Python"
   ]
  },
  {
   "cell_type": "markdown",
   "id": "f1b41c5e",
   "metadata": {},
   "source": [
    "* Pandas is a python package for data analysis \n",
    "* Pandal Data System and Python and data analysis\n",
    "* It is built on top of numpy\n"
   ]
  },
  {
   "cell_type": "markdown",
   "id": "63dd3b58",
   "metadata": {},
   "source": [
    "data structures of Pandas\n",
    " - series      1D homogenous array,size immutable\n",
    " - Data Frames 2D labeled ,size mutable tabular structure with potentially heterogeneous--excel and csv\n",
    " - Panel       3D\n"
   ]
  },
  {
   "cell_type": "markdown",
   "id": "575c0911",
   "metadata": {},
   "source": [
    "## Pandas Series"
   ]
  },
  {
   "cell_type": "markdown",
   "id": "ec9e38f2",
   "metadata": {},
   "source": [
    "#Syntax : pandas.Series(data,index,dtype,copy)"
   ]
  },
  {
   "cell_type": "raw",
   "id": "a4d8a1d1",
   "metadata": {},
   "source": [
    "sereis can be created with \n",
    "arrays\n",
    "Dictionary\n"
   ]
  },
  {
   "cell_type": "code",
   "execution_count": 2,
   "id": "84a0e10d",
   "metadata": {},
   "outputs": [],
   "source": [
    "import pandas as pd"
   ]
  },
  {
   "cell_type": "markdown",
   "id": "566de287",
   "metadata": {},
   "source": [
    "Creating Series from an array"
   ]
  },
  {
   "cell_type": "code",
   "execution_count": 4,
   "id": "b1fb46f2",
   "metadata": {},
   "outputs": [
    {
     "name": "stdout",
     "output_type": "stream",
     "text": [
      "0    10\n",
      "1    20\n",
      "2    30\n",
      "3    40\n",
      "4    50\n",
      "5    60\n",
      "dtype: int64\n"
     ]
    }
   ],
   "source": [
    "data = np.array([10,20,30,40,50,60])\n",
    "ser = pd.Series(data)\n",
    "print(ser)"
   ]
  },
  {
   "cell_type": "markdown",
   "id": "395e65fa",
   "metadata": {},
   "source": [
    "Creating a series from a list"
   ]
  },
  {
   "cell_type": "code",
   "execution_count": 6,
   "id": "826557a7",
   "metadata": {},
   "outputs": [
    {
     "name": "stdout",
     "output_type": "stream",
     "text": [
      "0    a\n",
      "1    e\n",
      "2    i\n",
      "3    o\n",
      "dtype: object\n"
     ]
    }
   ],
   "source": [
    "l = ['a','e','i','o']\n",
    "ser = pd.Series(l)\n",
    "print(ser)"
   ]
  },
  {
   "cell_type": "code",
   "execution_count": 8,
   "id": "e66e5c55",
   "metadata": {},
   "outputs": [
    {
     "data": {
      "text/plain": [
       "Maths      100\n",
       "Science     98\n",
       "Social      87\n",
       "Science     89\n",
       "dtype: int64"
      ]
     },
     "execution_count": 8,
     "metadata": {},
     "output_type": "execute_result"
    }
   ],
   "source": [
    "#To set index for the series \n",
    "subj = [\"Maths\",\"Science\",\"Social\",\"Science\"]\n",
    "marks = [100,98,87,89]\n",
    "pd.Series(marks,index = subj)\n"
   ]
  },
  {
   "cell_type": "code",
   "execution_count": 10,
   "id": "248f694c",
   "metadata": {},
   "outputs": [
    {
     "data": {
      "text/plain": [
       "Maths      100\n",
       "Science     89\n",
       "Social      87\n",
       "dtype: int64"
      ]
     },
     "execution_count": 10,
     "metadata": {},
     "output_type": "execute_result"
    }
   ],
   "source": [
    "#Create a series from a dictionary\n",
    "sub_marks = {\"Maths\":100,\"Science\":98,\"Social\":87,\"Science\":89}\n",
    "pd.Series(sub_marks)"
   ]
  },
  {
   "cell_type": "code",
   "execution_count": 12,
   "id": "eceea6c3",
   "metadata": {},
   "outputs": [
    {
     "data": {
      "text/plain": [
       "Maths       100.0\n",
       "Science      89.0\n",
       "Social       87.0\n",
       "Language      NaN\n",
       "dtype: float64"
      ]
     },
     "execution_count": 12,
     "metadata": {},
     "output_type": "execute_result"
    }
   ],
   "source": [
    "#Series with missing values\n",
    "subj = [\"Maths\",\"Science\",\"Social\",\"Language\"]\n",
    "mark_series = pd.Series(sub_marks,index = subj)\n",
    "mark_series"
   ]
  },
  {
   "cell_type": "markdown",
   "id": "a420450e",
   "metadata": {},
   "source": [
    "### Operations in series"
   ]
  },
  {
   "cell_type": "code",
   "execution_count": 13,
   "id": "585b1f35",
   "metadata": {},
   "outputs": [
    {
     "data": {
      "text/plain": [
       "Maths        True\n",
       "Science     False\n",
       "Social      False\n",
       "Language    False\n",
       "dtype: bool"
      ]
     },
     "execution_count": 13,
     "metadata": {},
     "output_type": "execute_result"
    }
   ],
   "source": [
    "#Extracting subjects above 90\n",
    "mark_series > 90"
   ]
  },
  {
   "cell_type": "code",
   "execution_count": 14,
   "id": "a3364ad9",
   "metadata": {},
   "outputs": [
    {
     "data": {
      "text/plain": [
       "Maths    100.0\n",
       "dtype: float64"
      ]
     },
     "execution_count": 14,
     "metadata": {},
     "output_type": "execute_result"
    }
   ],
   "source": [
    "#Extracting subjects above 90\n",
    "mark_series[mark_series>90]"
   ]
  },
  {
   "cell_type": "markdown",
   "id": "5ccf53d4",
   "metadata": {},
   "source": [
    "#### Sort"
   ]
  },
  {
   "cell_type": "markdown",
   "id": "6663a111",
   "metadata": {},
   "source": [
    "mark_series.sort_values()"
   ]
  },
  {
   "cell_type": "code",
   "execution_count": 15,
   "id": "4dc1c006",
   "metadata": {},
   "outputs": [
    {
     "data": {
      "text/plain": [
       "Maths       100.0\n",
       "Science      89.0\n",
       "Social       87.0\n",
       "Language      NaN\n",
       "dtype: float64"
      ]
     },
     "execution_count": 15,
     "metadata": {},
     "output_type": "execute_result"
    }
   ],
   "source": [
    "#To sort\n",
    "\n",
    "mark_series.sort_values(ascending=False)\n"
   ]
  },
  {
   "cell_type": "markdown",
   "id": "a9f5ebfd",
   "metadata": {},
   "source": [
    "#### Rank"
   ]
  },
  {
   "cell_type": "markdown",
   "id": "023b7000",
   "metadata": {},
   "source": [
    "mark_series.rank()"
   ]
  },
  {
   "cell_type": "code",
   "execution_count": 16,
   "id": "9871a869",
   "metadata": {},
   "outputs": [
    {
     "data": {
      "text/plain": [
       "Maths       1.0\n",
       "Science     2.0\n",
       "Social      3.0\n",
       "Language    NaN\n",
       "dtype: float64"
      ]
     },
     "execution_count": 16,
     "metadata": {},
     "output_type": "execute_result"
    }
   ],
   "source": [
    "#Ranking values\n",
    "#mark_series.rank()\n",
    "mark_series.rank(ascending = False)"
   ]
  },
  {
   "cell_type": "markdown",
   "id": "992655b2",
   "metadata": {},
   "source": [
    "> ** BASIC Statistics\n",
    "<br>mark_series.sum()\n",
    "<br>mark_series.mean()\n",
    "<br>mark_series.median()\n",
    "<br>mark_series.std()  - standard deviation\n",
    "<br>mark_series.max()\n",
    "<br>mark_series.idxmax() - to return max and index\n",
    "<br>mark_series.min()\n",
    "<br>mark_series.idxmin()\n",
    "<br>mark_series.count()"
   ]
  },
  {
   "cell_type": "code",
   "execution_count": 30,
   "id": "d4136a9d",
   "metadata": {},
   "outputs": [
    {
     "data": {
      "text/plain": [
       "276.0"
      ]
     },
     "execution_count": 30,
     "metadata": {},
     "output_type": "execute_result"
    }
   ],
   "source": [
    "mark_series.sum()"
   ]
  },
  {
   "cell_type": "code",
   "execution_count": 20,
   "id": "e1270760",
   "metadata": {},
   "outputs": [
    {
     "data": {
      "text/plain": [
       "92.0"
      ]
     },
     "execution_count": 20,
     "metadata": {},
     "output_type": "execute_result"
    }
   ],
   "source": [
    "mark_series.mean()"
   ]
  },
  {
   "cell_type": "code",
   "execution_count": 21,
   "id": "e6152f7d",
   "metadata": {},
   "outputs": [
    {
     "data": {
      "text/plain": [
       "89.0"
      ]
     },
     "execution_count": 21,
     "metadata": {},
     "output_type": "execute_result"
    }
   ],
   "source": [
    "mark_series.median()"
   ]
  },
  {
   "cell_type": "code",
   "execution_count": 22,
   "id": "3a5bdbda",
   "metadata": {},
   "outputs": [
    {
     "data": {
      "text/plain": [
       "7.0"
      ]
     },
     "execution_count": 22,
     "metadata": {},
     "output_type": "execute_result"
    }
   ],
   "source": [
    "mark_series.std()"
   ]
  },
  {
   "cell_type": "code",
   "execution_count": 23,
   "id": "369d2ab3",
   "metadata": {},
   "outputs": [
    {
     "data": {
      "text/plain": [
       "100.0"
      ]
     },
     "execution_count": 23,
     "metadata": {},
     "output_type": "execute_result"
    }
   ],
   "source": [
    "mark_series.max()"
   ]
  },
  {
   "cell_type": "code",
   "execution_count": 25,
   "id": "57573596",
   "metadata": {},
   "outputs": [
    {
     "data": {
      "text/plain": [
       "'Maths'"
      ]
     },
     "execution_count": 25,
     "metadata": {},
     "output_type": "execute_result"
    }
   ],
   "source": [
    "mark_series.idxmax()"
   ]
  },
  {
   "cell_type": "code",
   "execution_count": 27,
   "id": "6878b927",
   "metadata": {},
   "outputs": [
    {
     "data": {
      "text/plain": [
       "87.0"
      ]
     },
     "execution_count": 27,
     "metadata": {},
     "output_type": "execute_result"
    }
   ],
   "source": [
    "mark_series.min()"
   ]
  },
  {
   "cell_type": "code",
   "execution_count": 28,
   "id": "74dd9029",
   "metadata": {},
   "outputs": [
    {
     "data": {
      "text/plain": [
       "'Social'"
      ]
     },
     "execution_count": 28,
     "metadata": {},
     "output_type": "execute_result"
    }
   ],
   "source": [
    "mark_series.idxmin()"
   ]
  },
  {
   "cell_type": "code",
   "execution_count": 29,
   "id": "f7332dfe",
   "metadata": {},
   "outputs": [
    {
     "data": {
      "text/plain": [
       "3"
      ]
     },
     "execution_count": 29,
     "metadata": {},
     "output_type": "execute_result"
    }
   ],
   "source": [
    "mark_series.count()"
   ]
  },
  {
   "cell_type": "markdown",
   "id": "e8fd0750",
   "metadata": {},
   "source": [
    "#### Summary"
   ]
  },
  {
   "cell_type": "code",
   "execution_count": 31,
   "id": "6f12b640",
   "metadata": {},
   "outputs": [
    {
     "data": {
      "text/plain": [
       "count      3.0\n",
       "mean      92.0\n",
       "std        7.0\n",
       "min       87.0\n",
       "25%       88.0\n",
       "50%       89.0\n",
       "75%       94.5\n",
       "max      100.0\n",
       "dtype: float64"
      ]
     },
     "execution_count": 31,
     "metadata": {},
     "output_type": "execute_result"
    }
   ],
   "source": [
    "#Summary Statistics\n",
    "mark_series.describe()"
   ]
  },
  {
   "cell_type": "markdown",
   "id": "058c3020",
   "metadata": {},
   "source": [
    "<b>count"
   ]
  },
  {
   "cell_type": "code",
   "execution_count": 32,
   "id": "e7e3c02a",
   "metadata": {},
   "outputs": [
    {
     "data": {
      "text/plain": [
       "100.0    1\n",
       "89.0     1\n",
       "87.0     1\n",
       "dtype: int64"
      ]
     },
     "execution_count": 32,
     "metadata": {},
     "output_type": "execute_result"
    }
   ],
   "source": [
    "mark_series.value_counts()"
   ]
  },
  {
   "cell_type": "code",
   "execution_count": 33,
   "id": "52861731",
   "metadata": {},
   "outputs": [
    {
     "data": {
      "text/plain": [
       "Maths      100.0\n",
       "Science     89.0\n",
       "Social      87.0\n",
       "dtype: float64"
      ]
     },
     "execution_count": 33,
     "metadata": {},
     "output_type": "execute_result"
    }
   ],
   "source": [
    "mark_series.dropna()"
   ]
  },
  {
   "cell_type": "markdown",
   "id": "6c39c61b",
   "metadata": {},
   "source": [
    "#### Accessing index "
   ]
  },
  {
   "cell_type": "code",
   "execution_count": 34,
   "id": "f355cf18",
   "metadata": {},
   "outputs": [
    {
     "data": {
      "text/plain": [
       "87.0"
      ]
     },
     "execution_count": 34,
     "metadata": {},
     "output_type": "execute_result"
    }
   ],
   "source": [
    "mark_series.iloc[2]"
   ]
  },
  {
   "cell_type": "code",
   "execution_count": 35,
   "id": "b9718cec",
   "metadata": {},
   "outputs": [
    {
     "data": {
      "text/plain": [
       "87.0"
      ]
     },
     "execution_count": 35,
     "metadata": {},
     "output_type": "execute_result"
    }
   ],
   "source": [
    "mark_series.loc[\"Social\"]"
   ]
  },
  {
   "cell_type": "code",
   "execution_count": 36,
   "id": "5f608d80",
   "metadata": {},
   "outputs": [
    {
     "data": {
      "text/plain": [
       "87.0"
      ]
     },
     "execution_count": 36,
     "metadata": {},
     "output_type": "execute_result"
    }
   ],
   "source": [
    "mark_series[2]"
   ]
  },
  {
   "cell_type": "markdown",
   "id": "3269ffcc",
   "metadata": {},
   "source": [
    "<b>Slicing"
   ]
  },
  {
   "cell_type": "code",
   "execution_count": 37,
   "id": "fa3d7c07",
   "metadata": {},
   "outputs": [
    {
     "data": {
      "text/plain": [
       "Maths      100.0\n",
       "Science     89.0\n",
       "dtype: float64"
      ]
     },
     "execution_count": 37,
     "metadata": {},
     "output_type": "execute_result"
    }
   ],
   "source": [
    "mark_series[:2]"
   ]
  },
  {
   "cell_type": "markdown",
   "id": "6241c042",
   "metadata": {},
   "source": [
    "## Data Frame"
   ]
  },
  {
   "cell_type": "markdown",
   "id": "6c86b478",
   "metadata": {},
   "source": [
    "<b> A dataframe is a two dimensional data structure, i.e, data is aligned in a tabular fashion in rows and columns "
   ]
  },
  {
   "cell_type": "markdown",
   "id": "4cd6f7b9",
   "metadata": {},
   "source": [
    "> * Potentially columns are different data types\n",
    "> * <br> Size -- Mutables\n",
    "> * <br> Labeled axes (rows and columns)\n",
    "> * <br> Can Perform Arithmetic operations on rows and columns "
   ]
  },
  {
   "cell_type": "markdown",
   "id": "85e68be6",
   "metadata": {},
   "source": [
    "#### Syntax\n",
    "pd.Series(data,index,dtype,copy)\n",
    "<br>pd.Series"
   ]
  },
  {
   "cell_type": "code",
   "execution_count": 38,
   "id": "a57a8995",
   "metadata": {},
   "outputs": [
    {
     "name": "stdout",
     "output_type": "stream",
     "text": [
      "Empty DataFrame\n",
      "Columns: []\n",
      "Index: []\n"
     ]
    }
   ],
   "source": [
    "#Creating an Empty DataFrame\n",
    "df = pd.DataFrame()\n",
    "print(df)"
   ]
  },
  {
   "cell_type": "code",
   "execution_count": 39,
   "id": "49b37d57",
   "metadata": {},
   "outputs": [
    {
     "data": {
      "text/html": [
       "<div>\n",
       "<style scoped>\n",
       "    .dataframe tbody tr th:only-of-type {\n",
       "        vertical-align: middle;\n",
       "    }\n",
       "\n",
       "    .dataframe tbody tr th {\n",
       "        vertical-align: top;\n",
       "    }\n",
       "\n",
       "    .dataframe thead th {\n",
       "        text-align: right;\n",
       "    }\n",
       "</style>\n",
       "<table border=\"1\" class=\"dataframe\">\n",
       "  <thead>\n",
       "    <tr style=\"text-align: right;\">\n",
       "      <th></th>\n",
       "      <th>Name</th>\n",
       "      <th>Age</th>\n",
       "      <th>Gender</th>\n",
       "    </tr>\n",
       "  </thead>\n",
       "  <tbody>\n",
       "    <tr>\n",
       "      <th>0</th>\n",
       "      <td>Ankir</td>\n",
       "      <td>19</td>\n",
       "      <td>M</td>\n",
       "    </tr>\n",
       "    <tr>\n",
       "      <th>1</th>\n",
       "      <td>Anitha</td>\n",
       "      <td>18</td>\n",
       "      <td>F</td>\n",
       "    </tr>\n",
       "    <tr>\n",
       "      <th>2</th>\n",
       "      <td>Yash</td>\n",
       "      <td>20</td>\n",
       "      <td>M</td>\n",
       "    </tr>\n",
       "  </tbody>\n",
       "</table>\n",
       "</div>"
      ],
      "text/plain": [
       "     Name  Age Gender\n",
       "0   Ankir   19      M\n",
       "1  Anitha   18      F\n",
       "2    Yash   20      M"
      ]
     },
     "execution_count": 39,
     "metadata": {},
     "output_type": "execute_result"
    }
   ],
   "source": [
    "#Append Columns to an empty DataFrame\n",
    "df['Name'] = ['Ankir','Anitha','Yash']\n",
    "df['Age'] = [19,18,20]\n",
    "df['Gender'] = ['M','F','M']\n",
    "df"
   ]
  },
  {
   "cell_type": "code",
   "execution_count": null,
   "id": "35310bc6",
   "metadata": {},
   "outputs": [],
   "source": []
  }
 ],
 "metadata": {
  "kernelspec": {
   "display_name": "Python 3 (ipykernel)",
   "language": "python",
   "name": "python3"
  },
  "language_info": {
   "codemirror_mode": {
    "name": "ipython",
    "version": 3
   },
   "file_extension": ".py",
   "mimetype": "text/x-python",
   "name": "python",
   "nbconvert_exporter": "python",
   "pygments_lexer": "ipython3",
   "version": "3.8.10"
  }
 },
 "nbformat": 4,
 "nbformat_minor": 5
}
