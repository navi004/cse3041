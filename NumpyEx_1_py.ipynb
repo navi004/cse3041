{
  "nbformat": 4,
  "nbformat_minor": 0,
  "metadata": {
    "colab": {
      "provenance": [],
      "authorship_tag": "ABX9TyM0d/I4KYEOe7o1ui8fcT2f",
      "include_colab_link": true
    },
    "kernelspec": {
      "name": "python3",
      "display_name": "Python 3"
    },
    "language_info": {
      "name": "python"
    }
  },
  "cells": [
    {
      "cell_type": "markdown",
      "metadata": {
        "id": "view-in-github",
        "colab_type": "text"
      },
      "source": [
        "<a href=\"https://colab.research.google.com/github/navi004/cse3041/blob/main/NumpyEx_1_py.ipynb\" target=\"_parent\"><img src=\"https://colab.research.google.com/assets/colab-badge.svg\" alt=\"Open In Colab\"/></a>"
      ]
    },
    {
      "cell_type": "code",
      "execution_count": 1,
      "metadata": {
        "id": "4R9J0Lrrqtrr"
      },
      "outputs": [],
      "source": [
        "import numpy as np\n"
      ]
    },
    {
      "cell_type": "code",
      "source": [
        "#Creating a rank 1 array\n",
        "arr = np.array([1,2,3])\n",
        "print(\"Array with rank : 1 \\n\",arr)\n",
        "#Printing the datatype\n",
        "print(type(arr))\n",
        "#Creating a rank 2 Array\n",
        "arr = np.array([[1,2,3],[4,5,6]])\n",
        "#printing the dimensions\n",
        "print(arr.ndim)\n",
        "#printing shpae of the array\n",
        "print(arr.shape)\n",
        "print(\"Array with Rank 2 : \\n\",arr)\n",
        "#Printing type of elements\n",
        "print(arr.dtype)"
      ],
      "metadata": {
        "colab": {
          "base_uri": "https://localhost:8080/"
        },
        "id": "TWUhT5YHq-g7",
        "outputId": "afa2a525-1e23-41e3-d00c-f7785856b66a"
      },
      "execution_count": 29,
      "outputs": [
        {
          "output_type": "stream",
          "name": "stdout",
          "text": [
            "Array with rank : 1 \n",
            " [1 2 3]\n",
            "<class 'numpy.ndarray'>\n",
            "2\n",
            "(2, 3)\n",
            "Array with Rank 2 : \n",
            " [[1 2 3]\n",
            " [4 5 6]]\n",
            "int64\n"
          ]
        }
      ]
    },
    {
      "cell_type": "code",
      "source": [
        "#Creating a list of array with float data type\n",
        "a = np.array([[1,2,3],[4,5,6]],dtype = float)\n",
        "print(\"Array printed using passed list : \\n\",a)"
      ],
      "metadata": {
        "colab": {
          "base_uri": "https://localhost:8080/"
        },
        "id": "CzmyURghur_W",
        "outputId": "51ca25c1-7d57-4abd-a34b-d5bad98eb1b3"
      },
      "execution_count": 30,
      "outputs": [
        {
          "output_type": "stream",
          "name": "stdout",
          "text": [
            "Array printed using passed list : \n",
            " [[1. 2. 3.]\n",
            " [4. 5. 6.]]\n"
          ]
        }
      ]
    },
    {
      "cell_type": "code",
      "source": [
        "#Creating array from tuple\n",
        "b = np.array(((1,2,3),(4,5,6)))\n",
        "print(\"Array is printed using passed tuple : \\n\",b)\n"
      ],
      "metadata": {
        "colab": {
          "base_uri": "https://localhost:8080/"
        },
        "id": "ljB4FJZn-dpg",
        "outputId": "cad1e3da-ad72-4b2e-a845-e4a112521d39"
      },
      "execution_count": 31,
      "outputs": [
        {
          "output_type": "stream",
          "name": "stdout",
          "text": [
            "Array is printed using passed tuple : \n",
            " [[1 2 3]\n",
            " [4 5 6]]\n"
          ]
        }
      ]
    },
    {
      "cell_type": "code",
      "source": [
        "#arange\n",
        "#arange(start,stop,step, [dtype=None])\n",
        "f = np.arange(0, 30,5)\n",
        "print(\"A sequential arrayw with steps of 5:\\n\",f.reshape(2,3))"
      ],
      "metadata": {
        "colab": {
          "base_uri": "https://localhost:8080/"
        },
        "id": "Iw5etUUgssdT",
        "outputId": "bf047214-d65c-486f-b07d-25d66e612e21"
      },
      "execution_count": 34,
      "outputs": [
        {
          "output_type": "stream",
          "name": "stdout",
          "text": [
            "A sequential arrayw with steps of 5:\n",
            " [[ 0  5 10]\n",
            " [15 20 25]]\n"
          ]
        }
      ]
    },
    {
      "cell_type": "code",
      "source": [
        "#linspace\n",
        " #(start,stop,num = 50,endpoint=True,restep = False)\n",
        "g = np.linspace(0, 5,10)\n",
        "print(\"A sequential array with 10 values between 0 and 5 : \\n\",g,\"\\n\")\n",
        "print(\"Two dimensional array of above elements : \\n\",g.reshape(2,5))"
      ],
      "metadata": {
        "colab": {
          "base_uri": "https://localhost:8080/"
        },
        "id": "z5fdY0jkuJ-B",
        "outputId": "06710285-7a60-4054-8b77-9ba07d058090"
      },
      "execution_count": 36,
      "outputs": [
        {
          "output_type": "stream",
          "name": "stdout",
          "text": [
            "A sequential array with 10 values between 0 and 5 : \n",
            " [0.         0.55555556 1.11111111 1.66666667 2.22222222 2.77777778\n",
            " 3.33333333 3.88888889 4.44444444 5.        ] \n",
            "\n",
            "Two dimensional array of above elements : \n",
            " [[0.         0.55555556 1.11111111 1.66666667 2.22222222]\n",
            " [2.77777778 3.33333333 3.88888889 4.44444444 5.        ]]\n"
          ]
        }
      ]
    },
    {
      "cell_type": "code",
      "source": [
        "#Reshaping the array\n",
        "arr = np.array([[1,2,3,4],\n",
        "                  [5,2,4,2],\n",
        "                    [1,2,0,1]])\n",
        "\n",
        "newarr = arr.reshape(2,2,3)\n",
        "print(\"Original array : \\n\",arr)\n",
        "print(\"Reshaped array : \\n\",newarr)"
      ],
      "metadata": {
        "colab": {
          "base_uri": "https://localhost:8080/"
        },
        "id": "CyC8f2W4vLqa",
        "outputId": "1e56ac32-48f5-453d-83b9-c0192d63fcc1"
      },
      "execution_count": 7,
      "outputs": [
        {
          "output_type": "stream",
          "name": "stdout",
          "text": [
            "Original array : \n",
            " [[1 2 3 4]\n",
            " [5 2 4 2]\n",
            " [1 2 0 1]]\n",
            "Reshaped array : \n",
            " [[[1 2 3]\n",
            "  [4 5 2]]\n",
            "\n",
            " [[4 2 1]\n",
            "  [2 0 1]]]\n"
          ]
        }
      ]
    },
    {
      "cell_type": "code",
      "source": [
        "#Indexing\n",
        "#Arr[i,j,k]\n",
        "#One dimensional\n",
        "arr1 = np.array([12,2,34])\n",
        "print(\"second element is :\\n\",arr1[1])\n",
        "\n",
        "#Two dimensional\n",
        "arr2 = np.array([[1,2,4],[4,69,5]])\n",
        "print(arr2)\n",
        "print(\"First row second element is :\\n\",arr2[0,1])\n",
        "\n",
        "# 3 - d Array\n",
        "arr3 = np.array([[[1,34,6,3],[3,6,8,90]],[[2,5,78,34],[34,67,34,67]]])\n",
        "print(arr3)\n",
        "print(arr3[0,1,2])"
      ],
      "metadata": {
        "colab": {
          "base_uri": "https://localhost:8080/"
        },
        "id": "q3-JA4szv8PJ",
        "outputId": "c16a63cb-5464-49c5-c1a9-9979a380d099"
      },
      "execution_count": 42,
      "outputs": [
        {
          "output_type": "stream",
          "name": "stdout",
          "text": [
            "second element is :\n",
            " 2\n",
            "[[ 1  2  4]\n",
            " [ 4 69  5]]\n",
            "First row second element is :\n",
            " 2\n",
            "[[[ 1 34  6  3]\n",
            "  [ 3  6  8 90]]\n",
            "\n",
            " [[ 2  5 78 34]\n",
            "  [34 67 34 67]]]\n",
            "8\n"
          ]
        }
      ]
    },
    {
      "cell_type": "code",
      "source": [
        "#Slicing\n",
        "#A[start:stop:steps]\n",
        "#1 -d Array\n",
        "arr1 = np.array([1,2,5,7,3,47])\n",
        "print(\"Printing 1 to 4 elements :\\n\",arr1[1:5])\n",
        "print(\"Printing Even Index Elements\",arr1[::2])\n",
        "slicedarr = arr[:2, ::2]\n",
        "print (\"\\nArray with first 2 rows and alternate columns(0 and 2):\\n\", slicedarr)\n",
        "\n",
        "#2-d array\n",
        "arr2 = np.array([[23,45,67],[32,45,24],[21,67,34]])\n",
        "print(\"printing the 0 and 1 elements in 1st row \\n\",arr2[1,0:2])"
      ],
      "metadata": {
        "colab": {
          "base_uri": "https://localhost:8080/"
        },
        "id": "ghuM_LJMwjC4",
        "outputId": "7990019a-075f-4236-8ccb-7bf1bae0c5ca"
      },
      "execution_count": 55,
      "outputs": [
        {
          "output_type": "stream",
          "name": "stdout",
          "text": [
            "Printing 1 to 4 elements :\n",
            " [2 5 7 3]\n",
            "Printing Even Index Elements [1 5 3]\n",
            "\n",
            "Array with first 2 rows and alternate columns(0 and 2):\n",
            " [[1 3]\n",
            " [4 6]]\n",
            "printing the 0 and 1 elements in 1st row \n",
            " [32 45]\n"
          ]
        }
      ]
    },
    {
      "cell_type": "code",
      "source": [
        "#data types\n",
        "#arr.dtype\n",
        "#astype() - to convert the datatype\n",
        "\"\"\"i - integer\n",
        "f - flaot\n",
        "c - complex\n",
        "S - string \"\"\"\n",
        "#arr.copy() - does not change the original array\n",
        "#arr.view() - changes the original array\n"
      ],
      "metadata": {
        "colab": {
          "base_uri": "https://localhost:8080/",
          "height": 35
        },
        "id": "1IR9YzRaw705",
        "outputId": "6672fcbf-5588-4412-c983-2d3ca313e236"
      },
      "execution_count": 13,
      "outputs": [
        {
          "output_type": "execute_result",
          "data": {
            "text/plain": [
              "'i - integer\\nf - flaot\\nc - complex\\nS - string '"
            ],
            "application/vnd.google.colaboratory.intrinsic+json": {
              "type": "string"
            }
          },
          "metadata": {},
          "execution_count": 13
        }
      ]
    },
    {
      "cell_type": "code",
      "source": [
        "arr = np.array([1,2,3,4,5])\n",
        "x = arr.view()\n",
        "arr[0] = 42\n",
        "print(\"Original array : \\n\",arr)\n",
        "print(\"View \\n\", x)\n",
        "\n",
        "#2-d Array\n",
        "arr1 = np.array([[23,45,23,45],[12,89,67,89]])\n",
        "y = arr1.view()\n",
        "arr1[0,1] = 42\n",
        "print(\"Original array : \\n\",arr1)\n",
        "print(\"View \\n\", y)"
      ],
      "metadata": {
        "colab": {
          "base_uri": "https://localhost:8080/"
        },
        "id": "LJMTYWjgyq__",
        "outputId": "4c82a5bf-f7d8-4599-8030-d01a182c1326"
      },
      "execution_count": 56,
      "outputs": [
        {
          "output_type": "stream",
          "name": "stdout",
          "text": [
            "Original array : \n",
            " [42  2  3  4  5]\n",
            "View \n",
            " [42  2  3  4  5]\n",
            "Original array : \n",
            " [[23 42 23 45]\n",
            " [12 89 67 89]]\n",
            "View \n",
            " [[23 42 23 45]\n",
            " [12 89 67 89]]\n"
          ]
        }
      ]
    },
    {
      "cell_type": "code",
      "source": [
        "arr = np.array([1,2,3,4,5])\n",
        "x = arr.copy()\n",
        "arr[0]  =42\n",
        "print(arr)\n",
        "print(x)\n",
        "\n",
        "#2-d Array\n",
        "arr1 = np.array([[23,45,23,45],[12,89,67,89]])\n",
        "y  = arr1.copy()\n",
        "arr1[0,1]  = 42\n",
        "print(\"\\n2d - array\\n\",arr1)\n",
        "print(y)"
      ],
      "metadata": {
        "colab": {
          "base_uri": "https://localhost:8080/"
        },
        "id": "9OOrK1mUycmH",
        "outputId": "e29bfbf3-14a4-40ef-ca6b-010fc2523dcc"
      },
      "execution_count": 62,
      "outputs": [
        {
          "output_type": "stream",
          "name": "stdout",
          "text": [
            "[42  2  3  4  5]\n",
            "[1 2 3 4 5]\n",
            "\n",
            "2d - array\n",
            " [[23 42 23 45]\n",
            " [12 89 67 89]]\n",
            "[[23 45 23 45]\n",
            " [12 89 67 89]]\n"
          ]
        }
      ]
    },
    {
      "cell_type": "code",
      "source": [
        "#iterating\n",
        "\n",
        " #2d array\n",
        "arr1 = np.array([[4,5,6], [1,3,4]])\n",
        "print(\"2d array\\n\")\n",
        "for y in arr:\n",
        " print(y)\n",
        "\n",
        "#Concatenation\n",
        "#arr = np.concatenate((arr1,arr2))\n",
        "#for two dimensional\n",
        "#arr = np.concatenate((arr1,arr2,axis = 1)) - concatenation with rows\n",
        "#arr = np.concatenate((arr1,arr2,axis = 0)) - concatenation with columns"
      ],
      "metadata": {
        "colab": {
          "base_uri": "https://localhost:8080/"
        },
        "id": "b7QkPwCgywRe",
        "outputId": "d0d0598d-98eb-4443-9d82-8ac8ac171f87"
      },
      "execution_count": 67,
      "outputs": [
        {
          "output_type": "stream",
          "name": "stdout",
          "text": [
            "2d array\n",
            "\n",
            "5\n",
            "6\n",
            "7\n"
          ]
        }
      ]
    },
    {
      "cell_type": "code",
      "source": [
        "#splitting\n",
        "#np.arr_split()\n",
        "#searching\n",
        "arr = np.array([1,2,4,6,3,5,4])\n",
        "x = np.where(arr == 4)\n",
        "print(x)\n",
        "\n",
        "y = np.where(arr%2 == 0)\n",
        "print(y)\n"
      ],
      "metadata": {
        "colab": {
          "base_uri": "https://localhost:8080/"
        },
        "id": "phfb70u7zWiV",
        "outputId": "4f413306-4b5f-490d-ffec-7c677787e145"
      },
      "execution_count": 16,
      "outputs": [
        {
          "output_type": "stream",
          "name": "stdout",
          "text": [
            "(array([2, 6]),)\n",
            "(array([1, 2, 3, 6]),)\n"
          ]
        }
      ]
    },
    {
      "cell_type": "code",
      "source": [
        "#searching sorted array\n",
        "arr = np.array([5,6,8,9])\n",
        "x = np.searchsorted(arr,7)\n",
        "print(x)"
      ],
      "metadata": {
        "colab": {
          "base_uri": "https://localhost:8080/"
        },
        "id": "L9HFr5as0U8v",
        "outputId": "4c6ffd7c-0c46-4aa3-9860-8c880ceb3aa4"
      },
      "execution_count": 17,
      "outputs": [
        {
          "output_type": "stream",
          "name": "stdout",
          "text": [
            "2\n"
          ]
        }
      ]
    },
    {
      "cell_type": "code",
      "source": [
        "#Basic Unary Operations\n",
        "a = np.array([1,2,5,3])\n",
        "print(\"Original Array :\\n\")\n",
        "#Increment\n",
        "print(\"Adding 1 to every element :\",a+1 )\n",
        "#Decrement\n",
        "print(\"Subtracting 1 from every element :\",a-1)\n"
      ],
      "metadata": {
        "colab": {
          "base_uri": "https://localhost:8080/"
        },
        "id": "xwDsE_Uf0mu-",
        "outputId": "125a404c-6a2d-4b4f-e6f7-8f38de40f5d2"
      },
      "execution_count": 18,
      "outputs": [
        {
          "output_type": "stream",
          "name": "stdout",
          "text": [
            "Original Array :\n",
            "\n",
            "Adding 1 to every element : [2 3 6 4]\n",
            "Subtracting 1 from every element : [0 1 4 2]\n"
          ]
        }
      ]
    },
    {
      "cell_type": "code",
      "source": [
        "a = np.array([[1,2],[3,4]])\n",
        "b = np.array([[4,3],[2,1]])\n",
        "print(\"Original Array:\\n \\nA\\n\",a,\"\\nB\\n\",b)\n",
        "#add arrays\n",
        "print(\"Array sum : \\n\",a+b)\n",
        "#multiply arrays\n",
        "print(\"Arrays multiplication : \\n\",a*b)\n",
        "#difference\n",
        "print(\"Arrays difference : \\n\",a-b)\n",
        "#matrix multiplication\n",
        "print(\"Matrix Multiplication : \\n\",a.dot(b))"
      ],
      "metadata": {
        "colab": {
          "base_uri": "https://localhost:8080/"
        },
        "id": "1bwO8S_d2CkL",
        "outputId": "f24bb64b-1b93-4481-b8a4-dc79a5e5eb90"
      },
      "execution_count": 25,
      "outputs": [
        {
          "output_type": "stream",
          "name": "stdout",
          "text": [
            "Original Array:\n",
            " \n",
            "A\n",
            " [[1 2]\n",
            " [3 4]] \n",
            "B\n",
            " [[4 3]\n",
            " [2 1]]\n",
            "Array sum : \n",
            " [[5 5]\n",
            " [5 5]]\n",
            "Arrays multiplication : \n",
            " [[4 6]\n",
            " [6 4]]\n",
            "Arrays difference : \n",
            " [[-3 -1]\n",
            " [ 1  3]]\n",
            "Matrix Multiplication : \n",
            " [[ 8  5]\n",
            " [20 13]]\n"
          ]
        }
      ]
    },
    {
      "cell_type": "code",
      "source": [
        "#Universal Functions\n",
        "arr1 = np.array([1,2,3,4,5,6])\n",
        "arr2 = np.array([3,7,9,8,2,33])\n",
        "newarr ="
      ],
      "metadata": {
        "id": "d33dvg-h6UY6"
      },
      "execution_count": null,
      "outputs": []
    },
    {
      "cell_type": "code",
      "source": [
        "#np.trunc\n",
        "#np.around\n",
        "#np.floor\n",
        "#np.ceil\n",
        "#np.gcd\n",
        "#np.gcd.reduce\n",
        "#np.log2(arr)\n",
        "#np.log10(arr)\n",
        "#np.log(arr)"
      ],
      "metadata": {
        "id": "YSVYJDRZ8u4g"
      },
      "execution_count": null,
      "outputs": []
    }
  ]
}