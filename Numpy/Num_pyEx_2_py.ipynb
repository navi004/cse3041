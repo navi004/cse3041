{
  "nbformat": 4,
  "nbformat_minor": 0,
  "metadata": {
    "colab": {
      "provenance": [],
      "authorship_tag": "ABX9TyPB2ULV8/lsVibn9rNGTcB0",
      "include_colab_link": true
    },
    "kernelspec": {
      "name": "python3",
      "display_name": "Python 3"
    },
    "language_info": {
      "name": "python"
    }
  },
  "cells": [
    {
      "cell_type": "markdown",
      "metadata": {
        "id": "view-in-github",
        "colab_type": "text"
      },
      "source": [
        "<a href=\"https://colab.research.google.com/github/navi004/cse3041/blob/main/Num_pyEx_2_py.ipynb\" target=\"_parent\"><img src=\"https://colab.research.google.com/assets/colab-badge.svg\" alt=\"Open In Colab\"/></a>"
      ]
    },
    {
      "cell_type": "code",
      "execution_count": 1,
      "metadata": {
        "id": "X2fs9Lt7a4hr"
      },
      "outputs": [],
      "source": [
        "import numpy as np"
      ]
    },
    {
      "cell_type": "markdown",
      "source": [
        "#Linear Algebra in Numpy\n",
        "#rank,det,trac\n",
        "#eigen values,eigen vectors\n",
        "\n",
        "\n"
      ],
      "metadata": {
        "id": "m6tQBPZ4cs5n"
      }
    },
    {
      "cell_type": "code",
      "source": [
        "a = np.array([[23,45,23],[20,30,40],[0,8,7]])\n",
        "b = np.array([[45,60,43],[5,89,6],[12,11,10]])\n",
        "\n",
        "r1 = a.dot(b)\n",
        "r2 = np.dot(a,b)\n",
        "r3 = np.vdot(a,b)\n",
        "print(\"A\\n\",a,\"\\n\")\n",
        "print(\"B\\n\",b,\"\\n\")\n",
        "\n",
        "#print(np.linalg.matmul(a,b))\n",
        "\n",
        "print(r1,\"\\n\")\n",
        "print(r2,\"\\n\")\n",
        "print(r3)"
      ],
      "metadata": {
        "colab": {
          "base_uri": "https://localhost:8080/"
        },
        "id": "Tnii0CUtc1vP",
        "outputId": "c3a24468-8e43-4468-951b-d8cd65bf7b31"
      },
      "execution_count": 87,
      "outputs": [
        {
          "output_type": "stream",
          "name": "stdout",
          "text": [
            "A\n",
            " [[23 45 23]\n",
            " [20 30 40]\n",
            " [ 0  8  7]] \n",
            "\n",
            "B\n",
            " [[45 60 43]\n",
            " [ 5 89  6]\n",
            " [12 11 10]] \n",
            "\n",
            "[[1536 5638 1489]\n",
            " [1530 4310 1440]\n",
            " [ 124  789  118]] \n",
            "\n",
            "[[1536 5638 1489]\n",
            " [1530 4310 1440]\n",
            " [ 124  789  118]] \n",
            "\n",
            "7892\n"
          ]
        }
      ]
    },
    {
      "cell_type": "code",
      "source": [
        "#Sloving linear equations using numpy with linear algebra\n",
        "import scipy\n",
        "a = np.array([[4,3],[-5,9]])\n",
        "b = np.array([20,26])\n",
        "print(\"A\\n\",a)\n",
        "print(\"B\\n\",b)\n",
        "#x = np.linalg.inv(a).dot(b)\n",
        "#or\n",
        "x = np.linalg.solve(a,b)\n",
        "y = scipy.linalg.solve(a,b)\n",
        "print(\"X\\n\",x)\n",
        "print(y)"
      ],
      "metadata": {
        "colab": {
          "base_uri": "https://localhost:8080/"
        },
        "id": "NITDuBkzd6dp",
        "outputId": "1b69d252-ee58-4b61-b9a6-ab56c4509977"
      },
      "execution_count": 88,
      "outputs": [
        {
          "output_type": "stream",
          "name": "stdout",
          "text": [
            "A\n",
            " [[ 4  3]\n",
            " [-5  9]]\n",
            "B\n",
            " [20 26]\n",
            "X\n",
            " [2. 4.]\n",
            "[2. 4.]\n"
          ]
        }
      ]
    },
    {
      "cell_type": "code",
      "source": [
        "i = np.identity(3)\n",
        "print(\"Identity matrix of order 3:\\n\",i)\n",
        "\n",
        "d = np.diag([10,20,30])\n",
        "print(\"\\nDiagonal Matrix\\n\",d)\n",
        "\n",
        "A = np.array([[23,45,23],[20,30,40],[0,8,7]])\n",
        "r = np.linalg.matrix_rank(A)\n",
        "print(\"\\nRank of A\\n\",r)\n",
        "\n",
        "t = np.trace(A)\n",
        "print(\"\\nTrace of A\\n\",t)\n",
        "\n",
        "d = np.linalg.det(A)\n",
        "print(\"\\nDet of A\\n\",d)\n",
        "\n",
        "p = np.linalg.matrix_power(A,2)\n",
        "print(\"\\nPower of A is raised to 1/2\\n\",p)\n",
        "\n"
      ],
      "metadata": {
        "colab": {
          "base_uri": "https://localhost:8080/"
        },
        "id": "ACUOnVWuijLq",
        "outputId": "85010ef0-0499-4131-d072-779fb033f3f4"
      },
      "execution_count": 89,
      "outputs": [
        {
          "output_type": "stream",
          "name": "stdout",
          "text": [
            "Identity matrix of order 3:\n",
            " [[1. 0. 0.]\n",
            " [0. 1. 0.]\n",
            " [0. 0. 1.]]\n",
            "\n",
            "Diagonal Matrix\n",
            " [[10  0  0]\n",
            " [ 0 20  0]\n",
            " [ 0  0 30]]\n",
            "\n",
            "Rank of A\n",
            " 3\n",
            "\n",
            "Trace of A\n",
            " 60\n",
            "\n",
            "Det of A\n",
            " -5150.000000000002\n",
            "\n",
            "Power of A is raised to 1/2\n",
            " [[1429 2569 2490]\n",
            " [1060 2120 1940]\n",
            " [ 160  296  369]]\n"
          ]
        }
      ]
    },
    {
      "cell_type": "code",
      "source": [
        "#Eigen Values\n",
        "a = np.array([[1,-2j],[2j,5]])\n",
        "print(\"Array a :\\n\",a)\n",
        "\n",
        "c,d = np.linalg.eigh(a)\n",
        "print(\"\\nEigen value is :\",c)\n",
        "print(\"\\nEigen vector is :\",d)"
      ],
      "metadata": {
        "colab": {
          "base_uri": "https://localhost:8080/"
        },
        "id": "MqJDedKhlaxr",
        "outputId": "a2337c2c-d45f-4e24-bc28-95cd9b39bb53"
      },
      "execution_count": 90,
      "outputs": [
        {
          "output_type": "stream",
          "name": "stdout",
          "text": [
            "Array a :\n",
            " [[ 1.+0.j -0.-2.j]\n",
            " [ 0.+2.j  5.+0.j]]\n",
            "\n",
            "Eigen value is : [0.17157288 5.82842712]\n",
            "\n",
            "Eigen vector is : [[-0.92387953+0.j         -0.38268343+0.j        ]\n",
            " [ 0.        +0.38268343j  0.        -0.92387953j]]\n"
          ]
        }
      ]
    },
    {
      "cell_type": "markdown",
      "source": [
        "Ravel Functons\n"
      ],
      "metadata": {
        "id": "PhzjSBEMm1f9"
      }
    },
    {
      "cell_type": "code",
      "source": [
        "x = np.ravel([[1,3,5],[11,35,56]])  #Arrays get flattened in row major order(default)\n",
        "y = np.ravel(x)\n",
        "print(y)\n",
        "\n",
        "z= np.ravel(x,order='F')\n",
        "print(z)"
      ],
      "metadata": {
        "colab": {
          "base_uri": "https://localhost:8080/"
        },
        "id": "VNFaCH4wmwlz",
        "outputId": "c78808ab-ae52-4d81-d704-bcf11b059eb6"
      },
      "execution_count": 91,
      "outputs": [
        {
          "output_type": "stream",
          "name": "stdout",
          "text": [
            "[ 1  3  5 11 35 56]\n",
            "[ 1  3  5 11 35 56]\n"
          ]
        }
      ]
    },
    {
      "cell_type": "markdown",
      "source": [
        "Scipy - Scientific py"
      ],
      "metadata": {
        "id": "doCkQ3ElnhwD"
      }
    },
    {
      "cell_type": "code",
      "source": [
        "import scipy\n",
        "import numpy as np\n",
        "a = np.array([[7,2],[4,5]])\n",
        "b = np.array([8,10])\n",
        "x = scipy.linalg.solve(a,b)\n",
        "print(x)"
      ],
      "metadata": {
        "colab": {
          "base_uri": "https://localhost:8080/"
        },
        "id": "ECw79P4InlMX",
        "outputId": "358ae258-30ae-48b9-b808-77d7a6829546"
      },
      "execution_count": 92,
      "outputs": [
        {
          "output_type": "stream",
          "name": "stdout",
          "text": [
            "[0.74074074 1.40740741]\n"
          ]
        }
      ]
    },
    {
      "cell_type": "code",
      "source": [
        "#svd - singular value decomposition is matrix decomposition method for reducing the matrix to its\n",
        "x = np.array([[7,2],[4,5]])\n",
        "a,b,c = scipy.linalg.svd(x)\n",
        "print(a,b,c)"
      ],
      "metadata": {
        "colab": {
          "base_uri": "https://localhost:8080/"
        },
        "id": "_kQh57ymoTUJ",
        "outputId": "0daaf449-6df0-4211-b45a-c30166de7cd2"
      },
      "execution_count": 93,
      "outputs": [
        {
          "output_type": "stream",
          "name": "stdout",
          "text": [
            "[[-0.76025081 -0.64962967]\n",
            " [-0.64962967  0.76025081]] [9.24504019 2.92048487] [[-0.85670524 -0.5158063 ]\n",
            " [-0.5158063   0.85670524]]\n"
          ]
        }
      ]
    },
    {
      "cell_type": "code",
      "source": [
        "#Solve the following equations\n",
        "import scipy\n",
        "a = np.array([[4,3,2],[-2,2,3],[3,-5,2]])\n",
        "b = np.array([25,-10,-4])\n",
        "x = scipy.linalg.solve(a,b)\n",
        "print(x)"
      ],
      "metadata": {
        "colab": {
          "base_uri": "https://localhost:8080/"
        },
        "id": "_XnL-jbypdqV",
        "outputId": "4e7a2acd-539c-4aa1-af8c-3dd016255f9e"
      },
      "execution_count": 94,
      "outputs": [
        {
          "output_type": "stream",
          "name": "stdout",
          "text": [
            "[ 5.  3. -2.]\n"
          ]
        }
      ]
    },
    {
      "cell_type": "code",
      "source": [
        "#implement a function to determine the rank,det, and inverse of a square matrix using numpy\n",
        "def matCal(a):\n",
        "  r = np.linalg.matrix_rank(a)\n",
        "  d = np.linalg.det(a)\n",
        "  i = np.linalg.inv(a)\n",
        "  return r,d,i\n",
        "\n",
        "a = np.array([[1,2,3],[4,5,6],[6,7,8]])\n",
        "matCal(a)"
      ],
      "metadata": {
        "colab": {
          "base_uri": "https://localhost:8080/"
        },
        "id": "F8fwHfK_sVKW",
        "outputId": "103db755-ee97-48d2-d3b7-4503fac81602"
      },
      "execution_count": 95,
      "outputs": [
        {
          "output_type": "execute_result",
          "data": {
            "text/plain": [
              "(2,\n",
              " -4.440892098500635e-15,\n",
              " array([[ 4.50359963e+14, -1.12589991e+15,  6.75539944e+14],\n",
              "        [-9.00719925e+14,  2.25179981e+15, -1.35107989e+15],\n",
              "        [ 4.50359963e+14, -1.12589991e+15,  6.75539944e+14]]))"
            ]
          },
          "metadata": {},
          "execution_count": 95
        }
      ]
    }
  ]
}
