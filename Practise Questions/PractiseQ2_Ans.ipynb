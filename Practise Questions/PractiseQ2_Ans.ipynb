{
 "cells": [
  {
   "cell_type": "markdown",
   "id": "0e806add",
   "metadata": {},
   "source": [
    "1. To reduce air pollution, private vehicles will be allowed to run on the streets on\n",
    "   alternate days depending on their Vehicle Registration Number (eg. TN75AA7116).\n",
    "\n",
    "- Given a vehicle number, write a function in python to extract the last four digits and\n",
    "  apply the conditions in the given order to find the day order.\n",
    "  *  If the sum of the digits is even and if the number is prime, the vehicle will run\n",
    "  on Mon, Wed, Fri and Sunday\n",
    "  *  Or if the product of digits is odd and the number is not prime, the vehicle will\n",
    "   run on Tuesday, Thursday, Saturday and Sunday\n",
    "  *  Else the vehicle will run on all the days.\n",
    "\n",
    "- For eg:\n",
    "  Vehicle No : TN75AA5115 will run on Tuesday, Thursday, Saturday and Sunday\n",
    "  Vehicle No: TN75AA7116 will run on all days.\n",
    "**INPUT FORMAT:**\n",
    " - Enter the Vehicle No: TN75AA5115\n",
    "**OUTPUT FORMAT:**\n",
    " - TN75AA5115 will run on Tuesday, Thursday, Saturday and Sunday"
   ]
  },
  {
   "cell_type": "code",
   "execution_count": 18,
   "id": "c2f0c481",
   "metadata": {},
   "outputs": [],
   "source": [
    "def is_Prime(n):\n",
    "    for i in range(2, int(n**0.5)):\n",
    "        if n%i==0:\n",
    "            return False\n",
    "    return True"
   ]
  },
  {
   "cell_type": "code",
   "execution_count": 23,
   "id": "93d6b0b9",
   "metadata": {},
   "outputs": [],
   "source": [
    "def Vehicle_allowed_on():\n",
    "    s = input(\"Enter the Vehicle No:\")\n",
    "    last_digits  = s[6:]\n",
    "    sum_ld  = 0\n",
    "    product = 1\n",
    "    \n",
    "    for i in last_digits:\n",
    "        sum_ld  = sum_ld + int(i)\n",
    "        product = product * int(i)\n",
    "    \n",
    "    \n",
    "    if sum_ld%2 == 0:\n",
    "        if is_Prime(sum_ld):\n",
    "            result = s + ' will run on Monday, Wendnesday, Friday and Sunday'\n",
    "            return result\n",
    "        \n",
    "    elif product%2 != 0:\n",
    "        if is_Prime(product):\n",
    "            result = s + ' will run on Tuesday, Thursday, Saturday and Sunday'\n",
    "            return result\n",
    "    else:\n",
    "        result = 'The Vehicle will run on all the days'\n",
    "        return result\n",
    "    \n",
    "        "
   ]
  },
  {
   "cell_type": "code",
   "execution_count": 24,
   "id": "21f4ca4b",
   "metadata": {},
   "outputs": [
    {
     "name": "stdout",
     "output_type": "stream",
     "text": [
      "Enter the Vehicle No:TN75AA7116\n"
     ]
    },
    {
     "data": {
      "text/plain": [
       "'The Vehicle will run on all the days'"
      ]
     },
     "execution_count": 24,
     "metadata": {},
     "output_type": "execute_result"
    }
   ],
   "source": [
    "Vehicle_allowed_on()"
   ]
  },
  {
   "cell_type": "markdown",
   "id": "a084a67d",
   "metadata": {},
   "source": [
    "2. It is challenge to place four queens in a 4 X 4 board such that they do not attack each\n",
    "    other. Given a list of positions of four queens, write a program using functions to\n",
    "    determine if the board positions are solution to the problem. If it is a solution then\n",
    "    print ‘NO ATTACK’ and print ‘ATTACK’ otherwise.\n",
    "**Sample Input :** \n",
    " -  [(0,1), (1,3), (2,0), (3,2)]\n",
    " \n",
    "**Output:** \n",
    " - NO ATTACK\n",
    " \n",
    "**Sample Input :**\n",
    " - [(0,1), (3,3), (2,0), (3,2)]\n",
    " \n",
    "**Output:**\n",
    " - ATTACK"
   ]
  },
  {
   "cell_type": "code",
   "execution_count": 67,
   "id": "7de69901",
   "metadata": {},
   "outputs": [],
   "source": [
    "import numpy as np\n",
    "def find_sol(l):\n",
    "    t = [(0,0,0,0),(0,0,0,0),(0,0,0,0),(0,0,0,0)]\n",
    "    board = np.matrix(t)\n",
    "    for item in l:\n",
    "        i = item[0]\n",
    "        j = item[1]\n",
    "        board[i,j] = 1\n",
    "        \n",
    "    res1 = 'NO ATTACK'\n",
    "    res2 = 'ATTACK'\n",
    "    \n",
    "    #Checking if any two queens are in same row or in same column\n",
    "    for item in l:\n",
    "        count_row = 0\n",
    "        count_col = 0\n",
    "        for i in l:\n",
    "            if item[0] == i[0]:\n",
    "                count_row = count_row + 1\n",
    "                if count_row > 1:\n",
    "                    return res2\n",
    "            \n",
    "            elif item[1] == i[1]:\n",
    "                count_col = count_col + 1\n",
    "                if count_col > 1:\n",
    "                    return res2\n",
    "                \n",
    "    #Checking the diagonals\n",
    "    #diagonals1 = [(0,0),(1,1),(2,2),(3,3)]\n",
    "    #diagonals2 = [(3,0),(2,1),(1,2),(0,3)]\n",
    "    for item in l:\n",
    "        if item[0] == item[1]:\n",
    "            return res2\n",
    "        elif item[0] + item[1] == 3:\n",
    "            return res2\n",
    "    print('The Board is\\n' , board)\n",
    "    return res1"
   ]
  },
  {
   "cell_type": "code",
   "execution_count": 68,
   "id": "30db86ec",
   "metadata": {},
   "outputs": [
    {
     "name": "stdout",
     "output_type": "stream",
     "text": [
      "The Board is\n",
      " [[0 1 0 0]\n",
      " [0 0 0 1]\n",
      " [1 0 0 0]\n",
      " [0 0 1 0]]\n"
     ]
    },
    {
     "data": {
      "text/plain": [
       "'NO ATTACK'"
      ]
     },
     "execution_count": 68,
     "metadata": {},
     "output_type": "execute_result"
    }
   ],
   "source": [
    "l = [(0,1), (1,3), (2,0), (3,2)]\n",
    "s = find_sol(l)\n",
    "s"
   ]
  }
 ],
 "metadata": {
  "kernelspec": {
   "display_name": "Python 3 (ipykernel)",
   "language": "python",
   "name": "python3"
  },
  "language_info": {
   "codemirror_mode": {
    "name": "ipython",
    "version": 3
   },
   "file_extension": ".py",
   "mimetype": "text/x-python",
   "name": "python",
   "nbconvert_exporter": "python",
   "pygments_lexer": "ipython3",
   "version": "3.8.10"
  }
 },
 "nbformat": 4,
 "nbformat_minor": 5
}
