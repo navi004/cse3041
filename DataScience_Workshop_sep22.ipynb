{
  "nbformat": 4,
  "nbformat_minor": 0,
  "metadata": {
    "colab": {
      "provenance": [],
      "authorship_tag": "ABX9TyNLnRiuiN1jfT9iI0cbi3NB",
      "include_colab_link": true
    },
    "kernelspec": {
      "name": "python3",
      "display_name": "Python 3"
    },
    "language_info": {
      "name": "python"
    }
  },
  "cells": [
    {
      "cell_type": "markdown",
      "metadata": {
        "id": "view-in-github",
        "colab_type": "text"
      },
      "source": [
        "<a href=\"https://colab.research.google.com/github/navi004/cse3041/blob/main/DataScience_Workshop_sep22.ipynb\" target=\"_parent\"><img src=\"https://colab.research.google.com/assets/colab-badge.svg\" alt=\"Open In Colab\"/></a>"
      ]
    },
    {
      "cell_type": "code",
      "execution_count": 313,
      "metadata": {
        "id": "Rq83Sx7MAU4X"
      },
      "outputs": [],
      "source": [
        "import numpy as np\n",
        "import pandas as pd\n"
      ]
    },
    {
      "cell_type": "code",
      "source": [],
      "metadata": {
        "id": "cpA7poi0H1YS"
      },
      "execution_count": 313,
      "outputs": []
    },
    {
      "cell_type": "markdown",
      "source": [
        "DataScience\n",
        "- analysisng the data to get required output\n",
        "- huge volume of unorganiuzed data is formatted to get some knowledge about the data\n"
      ],
      "metadata": {
        "id": "bw2FxABVIXro"
      }
    },
    {
      "cell_type": "code",
      "source": [
        "print(\"Welcome to DataSciecne Workshop\")"
      ],
      "metadata": {
        "colab": {
          "base_uri": "https://localhost:8080/"
        },
        "id": "HeiIsRzfI466",
        "outputId": "26e9ec0f-601e-4038-c613-6282cf653cb0"
      },
      "execution_count": 314,
      "outputs": [
        {
          "output_type": "stream",
          "name": "stdout",
          "text": [
            "Welcome to DataSciecne Workshop\n"
          ]
        }
      ]
    },
    {
      "cell_type": "code",
      "source": [
        "marks = [90,92,95,98,100]\n",
        "print(marks)\n",
        "print(type(marks))"
      ],
      "metadata": {
        "colab": {
          "base_uri": "https://localhost:8080/"
        },
        "id": "l9NcXKWGJymp",
        "outputId": "f2daad8b-e7fa-43ae-a124-b2daa8fdd1bd"
      },
      "execution_count": 315,
      "outputs": [
        {
          "output_type": "stream",
          "name": "stdout",
          "text": [
            "[90, 92, 95, 98, 100]\n",
            "<class 'list'>\n"
          ]
        }
      ]
    },
    {
      "cell_type": "code",
      "source": [
        "subject = 'Data Science Tools'\n",
        "words = subject.split()\n",
        "print(words)"
      ],
      "metadata": {
        "colab": {
          "base_uri": "https://localhost:8080/"
        },
        "id": "NLVXJ13DLcly",
        "outputId": "ea34714d-111a-4aba-e416-5431b1e3f3fc"
      },
      "execution_count": 316,
      "outputs": [
        {
          "output_type": "stream",
          "name": "stdout",
          "text": [
            "['Data', 'Science', 'Tools']\n"
          ]
        }
      ]
    },
    {
      "cell_type": "code",
      "source": [
        "S = \"VIT-Workshop-on-Data-Sciecnce\"\n",
        "words = S.split(sep = '-')[3]\n",
        "print(words)\n"
      ],
      "metadata": {
        "colab": {
          "base_uri": "https://localhost:8080/"
        },
        "id": "VAOGe-NaNVFd",
        "outputId": "e516959b-89a9-43c6-f989-21a2dfeb6be4"
      },
      "execution_count": 317,
      "outputs": [
        {
          "output_type": "stream",
          "name": "stdout",
          "text": [
            "Data\n"
          ]
        }
      ]
    },
    {
      "cell_type": "code",
      "source": [
        "student = {'reg':1049,'name':'Naveen Nidadavolu', 'branch':'CSE','cgpa':9.4}\n",
        "print(student['cgpa'])\n",
        "print(student['name'].split()[1])"
      ],
      "metadata": {
        "colab": {
          "base_uri": "https://localhost:8080/"
        },
        "id": "lYy4w3A6PJN8",
        "outputId": "581b5fed-4d3c-41ca-c4a8-d458036d4cc9"
      },
      "execution_count": 318,
      "outputs": [
        {
          "output_type": "stream",
          "name": "stdout",
          "text": [
            "9.4\n",
            "Nidadavolu\n"
          ]
        }
      ]
    },
    {
      "cell_type": "code",
      "source": [
        "n = int(input(\"Enter a number :\"))\n",
        "for i in range(2,n):\n",
        "  if n%i == 0:\n",
        "    print(\"Composite\")\n",
        "    break\n",
        "else:\n",
        "  print(\"Prime\")"
      ],
      "metadata": {
        "id": "__OkiJCdSm_e",
        "colab": {
          "base_uri": "https://localhost:8080/"
        },
        "outputId": "6ffe5ed9-bfeb-4bbd-80ff-270d4d0a0273"
      },
      "execution_count": 319,
      "outputs": [
        {
          "output_type": "stream",
          "name": "stdout",
          "text": [
            "Enter a number :5\n",
            "Prime\n"
          ]
        }
      ]
    },
    {
      "cell_type": "code",
      "source": [
        "for i in range(1, 10):    #last iteration will be excluded\n",
        "  if i == 10:\n",
        "    print(\"Hello\")\n",
        "    break\n",
        "else:\n",
        "  print('Hii')"
      ],
      "metadata": {
        "id": "KKhF_t2sTnOa",
        "colab": {
          "base_uri": "https://localhost:8080/"
        },
        "outputId": "cb6d6918-a765-4658-beea-adfa2c25c6a2"
      },
      "execution_count": 320,
      "outputs": [
        {
          "output_type": "stream",
          "name": "stdout",
          "text": [
            "Hii\n"
          ]
        }
      ]
    },
    {
      "cell_type": "code",
      "source": [
        "L1 = [1, 2, 3, 4, 5]\n",
        "L2 = [11, 12, 13, 14, 15]\n",
        "print(list(zip(L1,L2)))"
      ],
      "metadata": {
        "id": "RSx_b1IUUhZc",
        "colab": {
          "base_uri": "https://localhost:8080/"
        },
        "outputId": "03f49dea-dfbc-46df-f361-9a77e447c8a3"
      },
      "execution_count": 321,
      "outputs": [
        {
          "output_type": "stream",
          "name": "stdout",
          "text": [
            "[(1, 11), (2, 12), (3, 13), (4, 14), (5, 15)]\n"
          ]
        }
      ]
    },
    {
      "cell_type": "code",
      "source": [
        "for i,j in zip(L1,L2):\n",
        "  print(i+j)"
      ],
      "metadata": {
        "id": "2YxLwZrnVYTM",
        "colab": {
          "base_uri": "https://localhost:8080/"
        },
        "outputId": "6781c7ff-1a99-4157-ffbc-54ed8e542aa8"
      },
      "execution_count": 322,
      "outputs": [
        {
          "output_type": "stream",
          "name": "stdout",
          "text": [
            "12\n",
            "14\n",
            "16\n",
            "18\n",
            "20\n"
          ]
        }
      ]
    },
    {
      "cell_type": "code",
      "source": [
        "cars = pd.read_csv('/content/cars_data.csv')\n",
        "cars"
      ],
      "metadata": {
        "id": "vCvqzyKPXxGl",
        "colab": {
          "base_uri": "https://localhost:8080/",
          "height": 423
        },
        "outputId": "e48626e9-b037-4004-d76d-6d8d7ea74371"
      },
      "execution_count": 323,
      "outputs": [
        {
          "output_type": "execute_result",
          "data": {
            "text/plain": [
              "                                  Name    Location  Year  Kilometers_Driven  \\\n",
              "0               Maruti Wagon R LXI CNG      Mumbai  2010              72000   \n",
              "1     Hyundai Creta 1.6 CRDi SX Option        Pune  2015              41000   \n",
              "2                         Honda Jazz V     Chennai  2011              46000   \n",
              "3                    Maruti Ertiga VDI     Chennai  2012              87000   \n",
              "4      Audi A4 New 2.0 TDI Multitronic  Coimbatore  2013              40670   \n",
              "...                                ...         ...   ...                ...   \n",
              "6014                  Maruti Swift VDI       Delhi  2014              27365   \n",
              "6015          Hyundai Xcent 1.1 CRDi S      Jaipur  2015             100000   \n",
              "6016             Mahindra Xylo D4 BSIV      Jaipur  2012              55000   \n",
              "6017                Maruti Wagon R VXI     Kolkata  2013              46000   \n",
              "6018             Chevrolet Beat Diesel   Hyderabad  2011              47000   \n",
              "\n",
              "     Fuel_Type Transmission Owner_Type     Mileage   Engine      Power  Seats  \\\n",
              "0          CNG       Manual      First  26.6 km/kg   998 CC  58.16 bhp    5.0   \n",
              "1       Diesel       Manual      First  19.67 kmpl  1582 CC  126.2 bhp    5.0   \n",
              "2       Petrol       Manual      First   18.2 kmpl  1199 CC   88.7 bhp    5.0   \n",
              "3       Diesel       Manual      First  20.77 kmpl  1248 CC  88.76 bhp    7.0   \n",
              "4       Diesel    Automatic     Second   15.2 kmpl  1968 CC  140.8 bhp    5.0   \n",
              "...        ...          ...        ...         ...      ...        ...    ...   \n",
              "6014    Diesel       Manual      First   28.4 kmpl  1248 CC     74 bhp    5.0   \n",
              "6015    Diesel       Manual      First   24.4 kmpl  1120 CC     71 bhp    5.0   \n",
              "6016    Diesel       Manual     Second   14.0 kmpl  2498 CC    112 bhp    8.0   \n",
              "6017    Petrol       Manual      First   18.9 kmpl   998 CC   67.1 bhp    5.0   \n",
              "6018    Diesel       Manual      First  25.44 kmpl   936 CC   57.6 bhp    5.0   \n",
              "\n",
              "      New_Price  Price  \n",
              "0           NaN   1.75  \n",
              "1           NaN  12.50  \n",
              "2     8.61 Lakh   4.50  \n",
              "3           NaN   6.00  \n",
              "4           NaN  17.74  \n",
              "...         ...    ...  \n",
              "6014  7.88 Lakh   4.75  \n",
              "6015        NaN   4.00  \n",
              "6016        NaN   2.90  \n",
              "6017        NaN   2.65  \n",
              "6018        NaN   2.50  \n",
              "\n",
              "[6019 rows x 13 columns]"
            ],
            "text/html": [
              "\n",
              "  <div id=\"df-a9843aed-1241-4f2b-8688-3b795087692f\" class=\"colab-df-container\">\n",
              "    <div>\n",
              "<style scoped>\n",
              "    .dataframe tbody tr th:only-of-type {\n",
              "        vertical-align: middle;\n",
              "    }\n",
              "\n",
              "    .dataframe tbody tr th {\n",
              "        vertical-align: top;\n",
              "    }\n",
              "\n",
              "    .dataframe thead th {\n",
              "        text-align: right;\n",
              "    }\n",
              "</style>\n",
              "<table border=\"1\" class=\"dataframe\">\n",
              "  <thead>\n",
              "    <tr style=\"text-align: right;\">\n",
              "      <th></th>\n",
              "      <th>Name</th>\n",
              "      <th>Location</th>\n",
              "      <th>Year</th>\n",
              "      <th>Kilometers_Driven</th>\n",
              "      <th>Fuel_Type</th>\n",
              "      <th>Transmission</th>\n",
              "      <th>Owner_Type</th>\n",
              "      <th>Mileage</th>\n",
              "      <th>Engine</th>\n",
              "      <th>Power</th>\n",
              "      <th>Seats</th>\n",
              "      <th>New_Price</th>\n",
              "      <th>Price</th>\n",
              "    </tr>\n",
              "  </thead>\n",
              "  <tbody>\n",
              "    <tr>\n",
              "      <th>0</th>\n",
              "      <td>Maruti Wagon R LXI CNG</td>\n",
              "      <td>Mumbai</td>\n",
              "      <td>2010</td>\n",
              "      <td>72000</td>\n",
              "      <td>CNG</td>\n",
              "      <td>Manual</td>\n",
              "      <td>First</td>\n",
              "      <td>26.6 km/kg</td>\n",
              "      <td>998 CC</td>\n",
              "      <td>58.16 bhp</td>\n",
              "      <td>5.0</td>\n",
              "      <td>NaN</td>\n",
              "      <td>1.75</td>\n",
              "    </tr>\n",
              "    <tr>\n",
              "      <th>1</th>\n",
              "      <td>Hyundai Creta 1.6 CRDi SX Option</td>\n",
              "      <td>Pune</td>\n",
              "      <td>2015</td>\n",
              "      <td>41000</td>\n",
              "      <td>Diesel</td>\n",
              "      <td>Manual</td>\n",
              "      <td>First</td>\n",
              "      <td>19.67 kmpl</td>\n",
              "      <td>1582 CC</td>\n",
              "      <td>126.2 bhp</td>\n",
              "      <td>5.0</td>\n",
              "      <td>NaN</td>\n",
              "      <td>12.50</td>\n",
              "    </tr>\n",
              "    <tr>\n",
              "      <th>2</th>\n",
              "      <td>Honda Jazz V</td>\n",
              "      <td>Chennai</td>\n",
              "      <td>2011</td>\n",
              "      <td>46000</td>\n",
              "      <td>Petrol</td>\n",
              "      <td>Manual</td>\n",
              "      <td>First</td>\n",
              "      <td>18.2 kmpl</td>\n",
              "      <td>1199 CC</td>\n",
              "      <td>88.7 bhp</td>\n",
              "      <td>5.0</td>\n",
              "      <td>8.61 Lakh</td>\n",
              "      <td>4.50</td>\n",
              "    </tr>\n",
              "    <tr>\n",
              "      <th>3</th>\n",
              "      <td>Maruti Ertiga VDI</td>\n",
              "      <td>Chennai</td>\n",
              "      <td>2012</td>\n",
              "      <td>87000</td>\n",
              "      <td>Diesel</td>\n",
              "      <td>Manual</td>\n",
              "      <td>First</td>\n",
              "      <td>20.77 kmpl</td>\n",
              "      <td>1248 CC</td>\n",
              "      <td>88.76 bhp</td>\n",
              "      <td>7.0</td>\n",
              "      <td>NaN</td>\n",
              "      <td>6.00</td>\n",
              "    </tr>\n",
              "    <tr>\n",
              "      <th>4</th>\n",
              "      <td>Audi A4 New 2.0 TDI Multitronic</td>\n",
              "      <td>Coimbatore</td>\n",
              "      <td>2013</td>\n",
              "      <td>40670</td>\n",
              "      <td>Diesel</td>\n",
              "      <td>Automatic</td>\n",
              "      <td>Second</td>\n",
              "      <td>15.2 kmpl</td>\n",
              "      <td>1968 CC</td>\n",
              "      <td>140.8 bhp</td>\n",
              "      <td>5.0</td>\n",
              "      <td>NaN</td>\n",
              "      <td>17.74</td>\n",
              "    </tr>\n",
              "    <tr>\n",
              "      <th>...</th>\n",
              "      <td>...</td>\n",
              "      <td>...</td>\n",
              "      <td>...</td>\n",
              "      <td>...</td>\n",
              "      <td>...</td>\n",
              "      <td>...</td>\n",
              "      <td>...</td>\n",
              "      <td>...</td>\n",
              "      <td>...</td>\n",
              "      <td>...</td>\n",
              "      <td>...</td>\n",
              "      <td>...</td>\n",
              "      <td>...</td>\n",
              "    </tr>\n",
              "    <tr>\n",
              "      <th>6014</th>\n",
              "      <td>Maruti Swift VDI</td>\n",
              "      <td>Delhi</td>\n",
              "      <td>2014</td>\n",
              "      <td>27365</td>\n",
              "      <td>Diesel</td>\n",
              "      <td>Manual</td>\n",
              "      <td>First</td>\n",
              "      <td>28.4 kmpl</td>\n",
              "      <td>1248 CC</td>\n",
              "      <td>74 bhp</td>\n",
              "      <td>5.0</td>\n",
              "      <td>7.88 Lakh</td>\n",
              "      <td>4.75</td>\n",
              "    </tr>\n",
              "    <tr>\n",
              "      <th>6015</th>\n",
              "      <td>Hyundai Xcent 1.1 CRDi S</td>\n",
              "      <td>Jaipur</td>\n",
              "      <td>2015</td>\n",
              "      <td>100000</td>\n",
              "      <td>Diesel</td>\n",
              "      <td>Manual</td>\n",
              "      <td>First</td>\n",
              "      <td>24.4 kmpl</td>\n",
              "      <td>1120 CC</td>\n",
              "      <td>71 bhp</td>\n",
              "      <td>5.0</td>\n",
              "      <td>NaN</td>\n",
              "      <td>4.00</td>\n",
              "    </tr>\n",
              "    <tr>\n",
              "      <th>6016</th>\n",
              "      <td>Mahindra Xylo D4 BSIV</td>\n",
              "      <td>Jaipur</td>\n",
              "      <td>2012</td>\n",
              "      <td>55000</td>\n",
              "      <td>Diesel</td>\n",
              "      <td>Manual</td>\n",
              "      <td>Second</td>\n",
              "      <td>14.0 kmpl</td>\n",
              "      <td>2498 CC</td>\n",
              "      <td>112 bhp</td>\n",
              "      <td>8.0</td>\n",
              "      <td>NaN</td>\n",
              "      <td>2.90</td>\n",
              "    </tr>\n",
              "    <tr>\n",
              "      <th>6017</th>\n",
              "      <td>Maruti Wagon R VXI</td>\n",
              "      <td>Kolkata</td>\n",
              "      <td>2013</td>\n",
              "      <td>46000</td>\n",
              "      <td>Petrol</td>\n",
              "      <td>Manual</td>\n",
              "      <td>First</td>\n",
              "      <td>18.9 kmpl</td>\n",
              "      <td>998 CC</td>\n",
              "      <td>67.1 bhp</td>\n",
              "      <td>5.0</td>\n",
              "      <td>NaN</td>\n",
              "      <td>2.65</td>\n",
              "    </tr>\n",
              "    <tr>\n",
              "      <th>6018</th>\n",
              "      <td>Chevrolet Beat Diesel</td>\n",
              "      <td>Hyderabad</td>\n",
              "      <td>2011</td>\n",
              "      <td>47000</td>\n",
              "      <td>Diesel</td>\n",
              "      <td>Manual</td>\n",
              "      <td>First</td>\n",
              "      <td>25.44 kmpl</td>\n",
              "      <td>936 CC</td>\n",
              "      <td>57.6 bhp</td>\n",
              "      <td>5.0</td>\n",
              "      <td>NaN</td>\n",
              "      <td>2.50</td>\n",
              "    </tr>\n",
              "  </tbody>\n",
              "</table>\n",
              "<p>6019 rows × 13 columns</p>\n",
              "</div>\n",
              "    <div class=\"colab-df-buttons\">\n",
              "\n",
              "  <div class=\"colab-df-container\">\n",
              "    <button class=\"colab-df-convert\" onclick=\"convertToInteractive('df-a9843aed-1241-4f2b-8688-3b795087692f')\"\n",
              "            title=\"Convert this dataframe to an interactive table.\"\n",
              "            style=\"display:none;\">\n",
              "\n",
              "  <svg xmlns=\"http://www.w3.org/2000/svg\" height=\"24px\" viewBox=\"0 -960 960 960\">\n",
              "    <path d=\"M120-120v-720h720v720H120Zm60-500h600v-160H180v160Zm220 220h160v-160H400v160Zm0 220h160v-160H400v160ZM180-400h160v-160H180v160Zm440 0h160v-160H620v160ZM180-180h160v-160H180v160Zm440 0h160v-160H620v160Z\"/>\n",
              "  </svg>\n",
              "    </button>\n",
              "\n",
              "  <style>\n",
              "    .colab-df-container {\n",
              "      display:flex;\n",
              "      gap: 12px;\n",
              "    }\n",
              "\n",
              "    .colab-df-convert {\n",
              "      background-color: #E8F0FE;\n",
              "      border: none;\n",
              "      border-radius: 50%;\n",
              "      cursor: pointer;\n",
              "      display: none;\n",
              "      fill: #1967D2;\n",
              "      height: 32px;\n",
              "      padding: 0 0 0 0;\n",
              "      width: 32px;\n",
              "    }\n",
              "\n",
              "    .colab-df-convert:hover {\n",
              "      background-color: #E2EBFA;\n",
              "      box-shadow: 0px 1px 2px rgba(60, 64, 67, 0.3), 0px 1px 3px 1px rgba(60, 64, 67, 0.15);\n",
              "      fill: #174EA6;\n",
              "    }\n",
              "\n",
              "    .colab-df-buttons div {\n",
              "      margin-bottom: 4px;\n",
              "    }\n",
              "\n",
              "    [theme=dark] .colab-df-convert {\n",
              "      background-color: #3B4455;\n",
              "      fill: #D2E3FC;\n",
              "    }\n",
              "\n",
              "    [theme=dark] .colab-df-convert:hover {\n",
              "      background-color: #434B5C;\n",
              "      box-shadow: 0px 1px 3px 1px rgba(0, 0, 0, 0.15);\n",
              "      filter: drop-shadow(0px 1px 2px rgba(0, 0, 0, 0.3));\n",
              "      fill: #FFFFFF;\n",
              "    }\n",
              "  </style>\n",
              "\n",
              "    <script>\n",
              "      const buttonEl =\n",
              "        document.querySelector('#df-a9843aed-1241-4f2b-8688-3b795087692f button.colab-df-convert');\n",
              "      buttonEl.style.display =\n",
              "        google.colab.kernel.accessAllowed ? 'block' : 'none';\n",
              "\n",
              "      async function convertToInteractive(key) {\n",
              "        const element = document.querySelector('#df-a9843aed-1241-4f2b-8688-3b795087692f');\n",
              "        const dataTable =\n",
              "          await google.colab.kernel.invokeFunction('convertToInteractive',\n",
              "                                                    [key], {});\n",
              "        if (!dataTable) return;\n",
              "\n",
              "        const docLinkHtml = 'Like what you see? Visit the ' +\n",
              "          '<a target=\"_blank\" href=https://colab.research.google.com/notebooks/data_table.ipynb>data table notebook</a>'\n",
              "          + ' to learn more about interactive tables.';\n",
              "        element.innerHTML = '';\n",
              "        dataTable['output_type'] = 'display_data';\n",
              "        await google.colab.output.renderOutput(dataTable, element);\n",
              "        const docLink = document.createElement('div');\n",
              "        docLink.innerHTML = docLinkHtml;\n",
              "        element.appendChild(docLink);\n",
              "      }\n",
              "    </script>\n",
              "  </div>\n",
              "\n",
              "\n",
              "<div id=\"df-ab03ce8f-ccfb-4813-951a-1cbceb1950dd\">\n",
              "  <button class=\"colab-df-quickchart\" onclick=\"quickchart('df-ab03ce8f-ccfb-4813-951a-1cbceb1950dd')\"\n",
              "            title=\"Suggest charts.\"\n",
              "            style=\"display:none;\">\n",
              "\n",
              "<svg xmlns=\"http://www.w3.org/2000/svg\" height=\"24px\"viewBox=\"0 0 24 24\"\n",
              "     width=\"24px\">\n",
              "    <g>\n",
              "        <path d=\"M19 3H5c-1.1 0-2 .9-2 2v14c0 1.1.9 2 2 2h14c1.1 0 2-.9 2-2V5c0-1.1-.9-2-2-2zM9 17H7v-7h2v7zm4 0h-2V7h2v10zm4 0h-2v-4h2v4z\"/>\n",
              "    </g>\n",
              "</svg>\n",
              "  </button>\n",
              "\n",
              "<style>\n",
              "  .colab-df-quickchart {\n",
              "      --bg-color: #E8F0FE;\n",
              "      --fill-color: #1967D2;\n",
              "      --hover-bg-color: #E2EBFA;\n",
              "      --hover-fill-color: #174EA6;\n",
              "      --disabled-fill-color: #AAA;\n",
              "      --disabled-bg-color: #DDD;\n",
              "  }\n",
              "\n",
              "  [theme=dark] .colab-df-quickchart {\n",
              "      --bg-color: #3B4455;\n",
              "      --fill-color: #D2E3FC;\n",
              "      --hover-bg-color: #434B5C;\n",
              "      --hover-fill-color: #FFFFFF;\n",
              "      --disabled-bg-color: #3B4455;\n",
              "      --disabled-fill-color: #666;\n",
              "  }\n",
              "\n",
              "  .colab-df-quickchart {\n",
              "    background-color: var(--bg-color);\n",
              "    border: none;\n",
              "    border-radius: 50%;\n",
              "    cursor: pointer;\n",
              "    display: none;\n",
              "    fill: var(--fill-color);\n",
              "    height: 32px;\n",
              "    padding: 0;\n",
              "    width: 32px;\n",
              "  }\n",
              "\n",
              "  .colab-df-quickchart:hover {\n",
              "    background-color: var(--hover-bg-color);\n",
              "    box-shadow: 0 1px 2px rgba(60, 64, 67, 0.3), 0 1px 3px 1px rgba(60, 64, 67, 0.15);\n",
              "    fill: var(--button-hover-fill-color);\n",
              "  }\n",
              "\n",
              "  .colab-df-quickchart-complete:disabled,\n",
              "  .colab-df-quickchart-complete:disabled:hover {\n",
              "    background-color: var(--disabled-bg-color);\n",
              "    fill: var(--disabled-fill-color);\n",
              "    box-shadow: none;\n",
              "  }\n",
              "\n",
              "  .colab-df-spinner {\n",
              "    border: 2px solid var(--fill-color);\n",
              "    border-color: transparent;\n",
              "    border-bottom-color: var(--fill-color);\n",
              "    animation:\n",
              "      spin 1s steps(1) infinite;\n",
              "  }\n",
              "\n",
              "  @keyframes spin {\n",
              "    0% {\n",
              "      border-color: transparent;\n",
              "      border-bottom-color: var(--fill-color);\n",
              "      border-left-color: var(--fill-color);\n",
              "    }\n",
              "    20% {\n",
              "      border-color: transparent;\n",
              "      border-left-color: var(--fill-color);\n",
              "      border-top-color: var(--fill-color);\n",
              "    }\n",
              "    30% {\n",
              "      border-color: transparent;\n",
              "      border-left-color: var(--fill-color);\n",
              "      border-top-color: var(--fill-color);\n",
              "      border-right-color: var(--fill-color);\n",
              "    }\n",
              "    40% {\n",
              "      border-color: transparent;\n",
              "      border-right-color: var(--fill-color);\n",
              "      border-top-color: var(--fill-color);\n",
              "    }\n",
              "    60% {\n",
              "      border-color: transparent;\n",
              "      border-right-color: var(--fill-color);\n",
              "    }\n",
              "    80% {\n",
              "      border-color: transparent;\n",
              "      border-right-color: var(--fill-color);\n",
              "      border-bottom-color: var(--fill-color);\n",
              "    }\n",
              "    90% {\n",
              "      border-color: transparent;\n",
              "      border-bottom-color: var(--fill-color);\n",
              "    }\n",
              "  }\n",
              "</style>\n",
              "\n",
              "  <script>\n",
              "    async function quickchart(key) {\n",
              "      const quickchartButtonEl =\n",
              "        document.querySelector('#' + key + ' button');\n",
              "      quickchartButtonEl.disabled = true;  // To prevent multiple clicks.\n",
              "      quickchartButtonEl.classList.add('colab-df-spinner');\n",
              "      try {\n",
              "        const charts = await google.colab.kernel.invokeFunction(\n",
              "            'suggestCharts', [key], {});\n",
              "      } catch (error) {\n",
              "        console.error('Error during call to suggestCharts:', error);\n",
              "      }\n",
              "      quickchartButtonEl.classList.remove('colab-df-spinner');\n",
              "      quickchartButtonEl.classList.add('colab-df-quickchart-complete');\n",
              "    }\n",
              "    (() => {\n",
              "      let quickchartButtonEl =\n",
              "        document.querySelector('#df-ab03ce8f-ccfb-4813-951a-1cbceb1950dd button');\n",
              "      quickchartButtonEl.style.display =\n",
              "        google.colab.kernel.accessAllowed ? 'block' : 'none';\n",
              "    })();\n",
              "  </script>\n",
              "</div>\n",
              "    </div>\n",
              "  </div>\n"
            ]
          },
          "metadata": {},
          "execution_count": 323
        }
      ]
    },
    {
      "cell_type": "code",
      "source": [
        "cars.columns  #shows the columns in the dataframe\n"
      ],
      "metadata": {
        "id": "-4Bmttn9bmf7",
        "colab": {
          "base_uri": "https://localhost:8080/"
        },
        "outputId": "617150de-50eb-4f46-c608-601282a555f3"
      },
      "execution_count": 324,
      "outputs": [
        {
          "output_type": "execute_result",
          "data": {
            "text/plain": [
              "Index(['Name', 'Location', 'Year', 'Kilometers_Driven', 'Fuel_Type',\n",
              "       'Transmission', 'Owner_Type', 'Mileage', 'Engine', 'Power', 'Seats',\n",
              "       'New_Price', 'Price'],\n",
              "      dtype='object')"
            ]
          },
          "metadata": {},
          "execution_count": 324
        }
      ]
    },
    {
      "cell_type": "code",
      "source": [
        "# kaggle.com\n",
        "#Pre- Processing\n",
        "#1.Handling the Null values\n",
        "#2.Remove the invalid data\n",
        "#3.Remove the outliers\n",
        "#4. transform"
      ],
      "metadata": {
        "id": "q0kY13wvdeTt"
      },
      "execution_count": 325,
      "outputs": []
    },
    {
      "cell_type": "code",
      "source": [
        "cars.info()  #gives the summary information of the dataframe"
      ],
      "metadata": {
        "id": "WVBl7w6BfjQN",
        "colab": {
          "base_uri": "https://localhost:8080/"
        },
        "outputId": "63c452cb-43cd-4b3f-984a-b876913dd173"
      },
      "execution_count": 326,
      "outputs": [
        {
          "output_type": "stream",
          "name": "stdout",
          "text": [
            "<class 'pandas.core.frame.DataFrame'>\n",
            "RangeIndex: 6019 entries, 0 to 6018\n",
            "Data columns (total 13 columns):\n",
            " #   Column             Non-Null Count  Dtype  \n",
            "---  ------             --------------  -----  \n",
            " 0   Name               6019 non-null   object \n",
            " 1   Location           6019 non-null   object \n",
            " 2   Year               6019 non-null   int64  \n",
            " 3   Kilometers_Driven  6019 non-null   int64  \n",
            " 4   Fuel_Type          6019 non-null   object \n",
            " 5   Transmission       6019 non-null   object \n",
            " 6   Owner_Type         6019 non-null   object \n",
            " 7   Mileage            6017 non-null   object \n",
            " 8   Engine             5983 non-null   object \n",
            " 9   Power              5983 non-null   object \n",
            " 10  Seats              5977 non-null   float64\n",
            " 11  New_Price          824 non-null    object \n",
            " 12  Price              6019 non-null   float64\n",
            "dtypes: float64(2), int64(2), object(9)\n",
            "memory usage: 611.4+ KB\n"
          ]
        }
      ]
    },
    {
      "cell_type": "code",
      "source": [
        "cars.isnull().sum()  #gives the number of null values in each column"
      ],
      "metadata": {
        "id": "Ra38IppFb4Lt",
        "colab": {
          "base_uri": "https://localhost:8080/"
        },
        "outputId": "b22091b0-b4f2-40d5-d639-69802b4d2e24"
      },
      "execution_count": 327,
      "outputs": [
        {
          "output_type": "execute_result",
          "data": {
            "text/plain": [
              "Name                    0\n",
              "Location                0\n",
              "Year                    0\n",
              "Kilometers_Driven       0\n",
              "Fuel_Type               0\n",
              "Transmission            0\n",
              "Owner_Type              0\n",
              "Mileage                 2\n",
              "Engine                 36\n",
              "Power                  36\n",
              "Seats                  42\n",
              "New_Price            5195\n",
              "Price                   0\n",
              "dtype: int64"
            ]
          },
          "metadata": {},
          "execution_count": 327
        }
      ]
    },
    {
      "cell_type": "code",
      "source": [
        "#Removing the New_Price column from the dataframe cars as it has more number of nullvalues\n",
        "#Using the drop function\n",
        "#Row -> axis = 0(default)\n",
        "#Column -> axis = 1\n",
        "cars = cars.drop('New_Price',axis = 1)\n",
        "cars"
      ],
      "metadata": {
        "id": "YRAJ_1jDgMHr",
        "colab": {
          "base_uri": "https://localhost:8080/",
          "height": 423
        },
        "outputId": "1fa86433-1b5a-415f-bd85-194f92ea38df"
      },
      "execution_count": 328,
      "outputs": [
        {
          "output_type": "execute_result",
          "data": {
            "text/plain": [
              "                                  Name    Location  Year  Kilometers_Driven  \\\n",
              "0               Maruti Wagon R LXI CNG      Mumbai  2010              72000   \n",
              "1     Hyundai Creta 1.6 CRDi SX Option        Pune  2015              41000   \n",
              "2                         Honda Jazz V     Chennai  2011              46000   \n",
              "3                    Maruti Ertiga VDI     Chennai  2012              87000   \n",
              "4      Audi A4 New 2.0 TDI Multitronic  Coimbatore  2013              40670   \n",
              "...                                ...         ...   ...                ...   \n",
              "6014                  Maruti Swift VDI       Delhi  2014              27365   \n",
              "6015          Hyundai Xcent 1.1 CRDi S      Jaipur  2015             100000   \n",
              "6016             Mahindra Xylo D4 BSIV      Jaipur  2012              55000   \n",
              "6017                Maruti Wagon R VXI     Kolkata  2013              46000   \n",
              "6018             Chevrolet Beat Diesel   Hyderabad  2011              47000   \n",
              "\n",
              "     Fuel_Type Transmission Owner_Type     Mileage   Engine      Power  Seats  \\\n",
              "0          CNG       Manual      First  26.6 km/kg   998 CC  58.16 bhp    5.0   \n",
              "1       Diesel       Manual      First  19.67 kmpl  1582 CC  126.2 bhp    5.0   \n",
              "2       Petrol       Manual      First   18.2 kmpl  1199 CC   88.7 bhp    5.0   \n",
              "3       Diesel       Manual      First  20.77 kmpl  1248 CC  88.76 bhp    7.0   \n",
              "4       Diesel    Automatic     Second   15.2 kmpl  1968 CC  140.8 bhp    5.0   \n",
              "...        ...          ...        ...         ...      ...        ...    ...   \n",
              "6014    Diesel       Manual      First   28.4 kmpl  1248 CC     74 bhp    5.0   \n",
              "6015    Diesel       Manual      First   24.4 kmpl  1120 CC     71 bhp    5.0   \n",
              "6016    Diesel       Manual     Second   14.0 kmpl  2498 CC    112 bhp    8.0   \n",
              "6017    Petrol       Manual      First   18.9 kmpl   998 CC   67.1 bhp    5.0   \n",
              "6018    Diesel       Manual      First  25.44 kmpl   936 CC   57.6 bhp    5.0   \n",
              "\n",
              "      Price  \n",
              "0      1.75  \n",
              "1     12.50  \n",
              "2      4.50  \n",
              "3      6.00  \n",
              "4     17.74  \n",
              "...     ...  \n",
              "6014   4.75  \n",
              "6015   4.00  \n",
              "6016   2.90  \n",
              "6017   2.65  \n",
              "6018   2.50  \n",
              "\n",
              "[6019 rows x 12 columns]"
            ],
            "text/html": [
              "\n",
              "  <div id=\"df-65c5b95b-fc60-440e-9830-0b49753e3bf0\" class=\"colab-df-container\">\n",
              "    <div>\n",
              "<style scoped>\n",
              "    .dataframe tbody tr th:only-of-type {\n",
              "        vertical-align: middle;\n",
              "    }\n",
              "\n",
              "    .dataframe tbody tr th {\n",
              "        vertical-align: top;\n",
              "    }\n",
              "\n",
              "    .dataframe thead th {\n",
              "        text-align: right;\n",
              "    }\n",
              "</style>\n",
              "<table border=\"1\" class=\"dataframe\">\n",
              "  <thead>\n",
              "    <tr style=\"text-align: right;\">\n",
              "      <th></th>\n",
              "      <th>Name</th>\n",
              "      <th>Location</th>\n",
              "      <th>Year</th>\n",
              "      <th>Kilometers_Driven</th>\n",
              "      <th>Fuel_Type</th>\n",
              "      <th>Transmission</th>\n",
              "      <th>Owner_Type</th>\n",
              "      <th>Mileage</th>\n",
              "      <th>Engine</th>\n",
              "      <th>Power</th>\n",
              "      <th>Seats</th>\n",
              "      <th>Price</th>\n",
              "    </tr>\n",
              "  </thead>\n",
              "  <tbody>\n",
              "    <tr>\n",
              "      <th>0</th>\n",
              "      <td>Maruti Wagon R LXI CNG</td>\n",
              "      <td>Mumbai</td>\n",
              "      <td>2010</td>\n",
              "      <td>72000</td>\n",
              "      <td>CNG</td>\n",
              "      <td>Manual</td>\n",
              "      <td>First</td>\n",
              "      <td>26.6 km/kg</td>\n",
              "      <td>998 CC</td>\n",
              "      <td>58.16 bhp</td>\n",
              "      <td>5.0</td>\n",
              "      <td>1.75</td>\n",
              "    </tr>\n",
              "    <tr>\n",
              "      <th>1</th>\n",
              "      <td>Hyundai Creta 1.6 CRDi SX Option</td>\n",
              "      <td>Pune</td>\n",
              "      <td>2015</td>\n",
              "      <td>41000</td>\n",
              "      <td>Diesel</td>\n",
              "      <td>Manual</td>\n",
              "      <td>First</td>\n",
              "      <td>19.67 kmpl</td>\n",
              "      <td>1582 CC</td>\n",
              "      <td>126.2 bhp</td>\n",
              "      <td>5.0</td>\n",
              "      <td>12.50</td>\n",
              "    </tr>\n",
              "    <tr>\n",
              "      <th>2</th>\n",
              "      <td>Honda Jazz V</td>\n",
              "      <td>Chennai</td>\n",
              "      <td>2011</td>\n",
              "      <td>46000</td>\n",
              "      <td>Petrol</td>\n",
              "      <td>Manual</td>\n",
              "      <td>First</td>\n",
              "      <td>18.2 kmpl</td>\n",
              "      <td>1199 CC</td>\n",
              "      <td>88.7 bhp</td>\n",
              "      <td>5.0</td>\n",
              "      <td>4.50</td>\n",
              "    </tr>\n",
              "    <tr>\n",
              "      <th>3</th>\n",
              "      <td>Maruti Ertiga VDI</td>\n",
              "      <td>Chennai</td>\n",
              "      <td>2012</td>\n",
              "      <td>87000</td>\n",
              "      <td>Diesel</td>\n",
              "      <td>Manual</td>\n",
              "      <td>First</td>\n",
              "      <td>20.77 kmpl</td>\n",
              "      <td>1248 CC</td>\n",
              "      <td>88.76 bhp</td>\n",
              "      <td>7.0</td>\n",
              "      <td>6.00</td>\n",
              "    </tr>\n",
              "    <tr>\n",
              "      <th>4</th>\n",
              "      <td>Audi A4 New 2.0 TDI Multitronic</td>\n",
              "      <td>Coimbatore</td>\n",
              "      <td>2013</td>\n",
              "      <td>40670</td>\n",
              "      <td>Diesel</td>\n",
              "      <td>Automatic</td>\n",
              "      <td>Second</td>\n",
              "      <td>15.2 kmpl</td>\n",
              "      <td>1968 CC</td>\n",
              "      <td>140.8 bhp</td>\n",
              "      <td>5.0</td>\n",
              "      <td>17.74</td>\n",
              "    </tr>\n",
              "    <tr>\n",
              "      <th>...</th>\n",
              "      <td>...</td>\n",
              "      <td>...</td>\n",
              "      <td>...</td>\n",
              "      <td>...</td>\n",
              "      <td>...</td>\n",
              "      <td>...</td>\n",
              "      <td>...</td>\n",
              "      <td>...</td>\n",
              "      <td>...</td>\n",
              "      <td>...</td>\n",
              "      <td>...</td>\n",
              "      <td>...</td>\n",
              "    </tr>\n",
              "    <tr>\n",
              "      <th>6014</th>\n",
              "      <td>Maruti Swift VDI</td>\n",
              "      <td>Delhi</td>\n",
              "      <td>2014</td>\n",
              "      <td>27365</td>\n",
              "      <td>Diesel</td>\n",
              "      <td>Manual</td>\n",
              "      <td>First</td>\n",
              "      <td>28.4 kmpl</td>\n",
              "      <td>1248 CC</td>\n",
              "      <td>74 bhp</td>\n",
              "      <td>5.0</td>\n",
              "      <td>4.75</td>\n",
              "    </tr>\n",
              "    <tr>\n",
              "      <th>6015</th>\n",
              "      <td>Hyundai Xcent 1.1 CRDi S</td>\n",
              "      <td>Jaipur</td>\n",
              "      <td>2015</td>\n",
              "      <td>100000</td>\n",
              "      <td>Diesel</td>\n",
              "      <td>Manual</td>\n",
              "      <td>First</td>\n",
              "      <td>24.4 kmpl</td>\n",
              "      <td>1120 CC</td>\n",
              "      <td>71 bhp</td>\n",
              "      <td>5.0</td>\n",
              "      <td>4.00</td>\n",
              "    </tr>\n",
              "    <tr>\n",
              "      <th>6016</th>\n",
              "      <td>Mahindra Xylo D4 BSIV</td>\n",
              "      <td>Jaipur</td>\n",
              "      <td>2012</td>\n",
              "      <td>55000</td>\n",
              "      <td>Diesel</td>\n",
              "      <td>Manual</td>\n",
              "      <td>Second</td>\n",
              "      <td>14.0 kmpl</td>\n",
              "      <td>2498 CC</td>\n",
              "      <td>112 bhp</td>\n",
              "      <td>8.0</td>\n",
              "      <td>2.90</td>\n",
              "    </tr>\n",
              "    <tr>\n",
              "      <th>6017</th>\n",
              "      <td>Maruti Wagon R VXI</td>\n",
              "      <td>Kolkata</td>\n",
              "      <td>2013</td>\n",
              "      <td>46000</td>\n",
              "      <td>Petrol</td>\n",
              "      <td>Manual</td>\n",
              "      <td>First</td>\n",
              "      <td>18.9 kmpl</td>\n",
              "      <td>998 CC</td>\n",
              "      <td>67.1 bhp</td>\n",
              "      <td>5.0</td>\n",
              "      <td>2.65</td>\n",
              "    </tr>\n",
              "    <tr>\n",
              "      <th>6018</th>\n",
              "      <td>Chevrolet Beat Diesel</td>\n",
              "      <td>Hyderabad</td>\n",
              "      <td>2011</td>\n",
              "      <td>47000</td>\n",
              "      <td>Diesel</td>\n",
              "      <td>Manual</td>\n",
              "      <td>First</td>\n",
              "      <td>25.44 kmpl</td>\n",
              "      <td>936 CC</td>\n",
              "      <td>57.6 bhp</td>\n",
              "      <td>5.0</td>\n",
              "      <td>2.50</td>\n",
              "    </tr>\n",
              "  </tbody>\n",
              "</table>\n",
              "<p>6019 rows × 12 columns</p>\n",
              "</div>\n",
              "    <div class=\"colab-df-buttons\">\n",
              "\n",
              "  <div class=\"colab-df-container\">\n",
              "    <button class=\"colab-df-convert\" onclick=\"convertToInteractive('df-65c5b95b-fc60-440e-9830-0b49753e3bf0')\"\n",
              "            title=\"Convert this dataframe to an interactive table.\"\n",
              "            style=\"display:none;\">\n",
              "\n",
              "  <svg xmlns=\"http://www.w3.org/2000/svg\" height=\"24px\" viewBox=\"0 -960 960 960\">\n",
              "    <path d=\"M120-120v-720h720v720H120Zm60-500h600v-160H180v160Zm220 220h160v-160H400v160Zm0 220h160v-160H400v160ZM180-400h160v-160H180v160Zm440 0h160v-160H620v160ZM180-180h160v-160H180v160Zm440 0h160v-160H620v160Z\"/>\n",
              "  </svg>\n",
              "    </button>\n",
              "\n",
              "  <style>\n",
              "    .colab-df-container {\n",
              "      display:flex;\n",
              "      gap: 12px;\n",
              "    }\n",
              "\n",
              "    .colab-df-convert {\n",
              "      background-color: #E8F0FE;\n",
              "      border: none;\n",
              "      border-radius: 50%;\n",
              "      cursor: pointer;\n",
              "      display: none;\n",
              "      fill: #1967D2;\n",
              "      height: 32px;\n",
              "      padding: 0 0 0 0;\n",
              "      width: 32px;\n",
              "    }\n",
              "\n",
              "    .colab-df-convert:hover {\n",
              "      background-color: #E2EBFA;\n",
              "      box-shadow: 0px 1px 2px rgba(60, 64, 67, 0.3), 0px 1px 3px 1px rgba(60, 64, 67, 0.15);\n",
              "      fill: #174EA6;\n",
              "    }\n",
              "\n",
              "    .colab-df-buttons div {\n",
              "      margin-bottom: 4px;\n",
              "    }\n",
              "\n",
              "    [theme=dark] .colab-df-convert {\n",
              "      background-color: #3B4455;\n",
              "      fill: #D2E3FC;\n",
              "    }\n",
              "\n",
              "    [theme=dark] .colab-df-convert:hover {\n",
              "      background-color: #434B5C;\n",
              "      box-shadow: 0px 1px 3px 1px rgba(0, 0, 0, 0.15);\n",
              "      filter: drop-shadow(0px 1px 2px rgba(0, 0, 0, 0.3));\n",
              "      fill: #FFFFFF;\n",
              "    }\n",
              "  </style>\n",
              "\n",
              "    <script>\n",
              "      const buttonEl =\n",
              "        document.querySelector('#df-65c5b95b-fc60-440e-9830-0b49753e3bf0 button.colab-df-convert');\n",
              "      buttonEl.style.display =\n",
              "        google.colab.kernel.accessAllowed ? 'block' : 'none';\n",
              "\n",
              "      async function convertToInteractive(key) {\n",
              "        const element = document.querySelector('#df-65c5b95b-fc60-440e-9830-0b49753e3bf0');\n",
              "        const dataTable =\n",
              "          await google.colab.kernel.invokeFunction('convertToInteractive',\n",
              "                                                    [key], {});\n",
              "        if (!dataTable) return;\n",
              "\n",
              "        const docLinkHtml = 'Like what you see? Visit the ' +\n",
              "          '<a target=\"_blank\" href=https://colab.research.google.com/notebooks/data_table.ipynb>data table notebook</a>'\n",
              "          + ' to learn more about interactive tables.';\n",
              "        element.innerHTML = '';\n",
              "        dataTable['output_type'] = 'display_data';\n",
              "        await google.colab.output.renderOutput(dataTable, element);\n",
              "        const docLink = document.createElement('div');\n",
              "        docLink.innerHTML = docLinkHtml;\n",
              "        element.appendChild(docLink);\n",
              "      }\n",
              "    </script>\n",
              "  </div>\n",
              "\n",
              "\n",
              "<div id=\"df-4fa5c260-044d-4c52-b9cf-fe55dff09b90\">\n",
              "  <button class=\"colab-df-quickchart\" onclick=\"quickchart('df-4fa5c260-044d-4c52-b9cf-fe55dff09b90')\"\n",
              "            title=\"Suggest charts.\"\n",
              "            style=\"display:none;\">\n",
              "\n",
              "<svg xmlns=\"http://www.w3.org/2000/svg\" height=\"24px\"viewBox=\"0 0 24 24\"\n",
              "     width=\"24px\">\n",
              "    <g>\n",
              "        <path d=\"M19 3H5c-1.1 0-2 .9-2 2v14c0 1.1.9 2 2 2h14c1.1 0 2-.9 2-2V5c0-1.1-.9-2-2-2zM9 17H7v-7h2v7zm4 0h-2V7h2v10zm4 0h-2v-4h2v4z\"/>\n",
              "    </g>\n",
              "</svg>\n",
              "  </button>\n",
              "\n",
              "<style>\n",
              "  .colab-df-quickchart {\n",
              "      --bg-color: #E8F0FE;\n",
              "      --fill-color: #1967D2;\n",
              "      --hover-bg-color: #E2EBFA;\n",
              "      --hover-fill-color: #174EA6;\n",
              "      --disabled-fill-color: #AAA;\n",
              "      --disabled-bg-color: #DDD;\n",
              "  }\n",
              "\n",
              "  [theme=dark] .colab-df-quickchart {\n",
              "      --bg-color: #3B4455;\n",
              "      --fill-color: #D2E3FC;\n",
              "      --hover-bg-color: #434B5C;\n",
              "      --hover-fill-color: #FFFFFF;\n",
              "      --disabled-bg-color: #3B4455;\n",
              "      --disabled-fill-color: #666;\n",
              "  }\n",
              "\n",
              "  .colab-df-quickchart {\n",
              "    background-color: var(--bg-color);\n",
              "    border: none;\n",
              "    border-radius: 50%;\n",
              "    cursor: pointer;\n",
              "    display: none;\n",
              "    fill: var(--fill-color);\n",
              "    height: 32px;\n",
              "    padding: 0;\n",
              "    width: 32px;\n",
              "  }\n",
              "\n",
              "  .colab-df-quickchart:hover {\n",
              "    background-color: var(--hover-bg-color);\n",
              "    box-shadow: 0 1px 2px rgba(60, 64, 67, 0.3), 0 1px 3px 1px rgba(60, 64, 67, 0.15);\n",
              "    fill: var(--button-hover-fill-color);\n",
              "  }\n",
              "\n",
              "  .colab-df-quickchart-complete:disabled,\n",
              "  .colab-df-quickchart-complete:disabled:hover {\n",
              "    background-color: var(--disabled-bg-color);\n",
              "    fill: var(--disabled-fill-color);\n",
              "    box-shadow: none;\n",
              "  }\n",
              "\n",
              "  .colab-df-spinner {\n",
              "    border: 2px solid var(--fill-color);\n",
              "    border-color: transparent;\n",
              "    border-bottom-color: var(--fill-color);\n",
              "    animation:\n",
              "      spin 1s steps(1) infinite;\n",
              "  }\n",
              "\n",
              "  @keyframes spin {\n",
              "    0% {\n",
              "      border-color: transparent;\n",
              "      border-bottom-color: var(--fill-color);\n",
              "      border-left-color: var(--fill-color);\n",
              "    }\n",
              "    20% {\n",
              "      border-color: transparent;\n",
              "      border-left-color: var(--fill-color);\n",
              "      border-top-color: var(--fill-color);\n",
              "    }\n",
              "    30% {\n",
              "      border-color: transparent;\n",
              "      border-left-color: var(--fill-color);\n",
              "      border-top-color: var(--fill-color);\n",
              "      border-right-color: var(--fill-color);\n",
              "    }\n",
              "    40% {\n",
              "      border-color: transparent;\n",
              "      border-right-color: var(--fill-color);\n",
              "      border-top-color: var(--fill-color);\n",
              "    }\n",
              "    60% {\n",
              "      border-color: transparent;\n",
              "      border-right-color: var(--fill-color);\n",
              "    }\n",
              "    80% {\n",
              "      border-color: transparent;\n",
              "      border-right-color: var(--fill-color);\n",
              "      border-bottom-color: var(--fill-color);\n",
              "    }\n",
              "    90% {\n",
              "      border-color: transparent;\n",
              "      border-bottom-color: var(--fill-color);\n",
              "    }\n",
              "  }\n",
              "</style>\n",
              "\n",
              "  <script>\n",
              "    async function quickchart(key) {\n",
              "      const quickchartButtonEl =\n",
              "        document.querySelector('#' + key + ' button');\n",
              "      quickchartButtonEl.disabled = true;  // To prevent multiple clicks.\n",
              "      quickchartButtonEl.classList.add('colab-df-spinner');\n",
              "      try {\n",
              "        const charts = await google.colab.kernel.invokeFunction(\n",
              "            'suggestCharts', [key], {});\n",
              "      } catch (error) {\n",
              "        console.error('Error during call to suggestCharts:', error);\n",
              "      }\n",
              "      quickchartButtonEl.classList.remove('colab-df-spinner');\n",
              "      quickchartButtonEl.classList.add('colab-df-quickchart-complete');\n",
              "    }\n",
              "    (() => {\n",
              "      let quickchartButtonEl =\n",
              "        document.querySelector('#df-4fa5c260-044d-4c52-b9cf-fe55dff09b90 button');\n",
              "      quickchartButtonEl.style.display =\n",
              "        google.colab.kernel.accessAllowed ? 'block' : 'none';\n",
              "    })();\n",
              "  </script>\n",
              "</div>\n",
              "    </div>\n",
              "  </div>\n"
            ]
          },
          "metadata": {},
          "execution_count": 328
        }
      ]
    },
    {
      "cell_type": "code",
      "source": [
        "#Replacing the null value\n",
        "#cars['Mileage'] is in series with 6019 rows , so we have to convert it into a string before splitting it\n",
        "cars['Mileage'].str.split()"
      ],
      "metadata": {
        "id": "Ytxhy0J1hZGc",
        "colab": {
          "base_uri": "https://localhost:8080/"
        },
        "outputId": "8a346c09-5848-4c9e-f2f6-d07d41b7e97c"
      },
      "execution_count": 329,
      "outputs": [
        {
          "output_type": "execute_result",
          "data": {
            "text/plain": [
              "0       [26.6, km/kg]\n",
              "1       [19.67, kmpl]\n",
              "2        [18.2, kmpl]\n",
              "3       [20.77, kmpl]\n",
              "4        [15.2, kmpl]\n",
              "            ...      \n",
              "6014     [28.4, kmpl]\n",
              "6015     [24.4, kmpl]\n",
              "6016     [14.0, kmpl]\n",
              "6017     [18.9, kmpl]\n",
              "6018    [25.44, kmpl]\n",
              "Name: Mileage, Length: 6019, dtype: object"
            ]
          },
          "metadata": {},
          "execution_count": 329
        }
      ]
    },
    {
      "cell_type": "code",
      "source": [
        "#Again we convert each list into string to get the float values\n",
        "#then we will get the first index from the string\n",
        "cars['Mileage'] = cars['Mileage'].str.split().str[0]\n",
        "cars['Mileage']"
      ],
      "metadata": {
        "id": "jrpYtx87jw0N",
        "colab": {
          "base_uri": "https://localhost:8080/"
        },
        "outputId": "56b97942-ab9a-41e8-b39e-3496229afa31"
      },
      "execution_count": 330,
      "outputs": [
        {
          "output_type": "execute_result",
          "data": {
            "text/plain": [
              "0        26.6\n",
              "1       19.67\n",
              "2        18.2\n",
              "3       20.77\n",
              "4        15.2\n",
              "        ...  \n",
              "6014     28.4\n",
              "6015     24.4\n",
              "6016     14.0\n",
              "6017     18.9\n",
              "6018    25.44\n",
              "Name: Mileage, Length: 6019, dtype: object"
            ]
          },
          "metadata": {},
          "execution_count": 330
        }
      ]
    },
    {
      "cell_type": "code",
      "source": [
        "#Now converting it into numeric\n",
        "cars['Mileage'] = pd.to_numeric(cars['Mileage'])\n",
        "cars['Mileage']"
      ],
      "metadata": {
        "id": "D1_StfkCkR7r",
        "colab": {
          "base_uri": "https://localhost:8080/"
        },
        "outputId": "7abde42f-3072-48ec-8010-444c4b51c829"
      },
      "execution_count": 331,
      "outputs": [
        {
          "output_type": "execute_result",
          "data": {
            "text/plain": [
              "0       26.60\n",
              "1       19.67\n",
              "2       18.20\n",
              "3       20.77\n",
              "4       15.20\n",
              "        ...  \n",
              "6014    28.40\n",
              "6015    24.40\n",
              "6016    14.00\n",
              "6017    18.90\n",
              "6018    25.44\n",
              "Name: Mileage, Length: 6019, dtype: float64"
            ]
          },
          "metadata": {},
          "execution_count": 331
        }
      ]
    },
    {
      "cell_type": "code",
      "source": [
        "#Filling the null values in Mileage column with mean value\n",
        "#using the fillna function\n",
        "#replace() function can also be used\n",
        "cars['Mileage'] = cars['Mileage'].fillna(round(cars['Mileage'].mean(),2))\n",
        "cars['Mileage']"
      ],
      "metadata": {
        "id": "2YvLBEummBT9",
        "colab": {
          "base_uri": "https://localhost:8080/"
        },
        "outputId": "f108a201-6ffc-4abb-f0bb-2423d767480e"
      },
      "execution_count": 332,
      "outputs": [
        {
          "output_type": "execute_result",
          "data": {
            "text/plain": [
              "0       26.60\n",
              "1       19.67\n",
              "2       18.20\n",
              "3       20.77\n",
              "4       15.20\n",
              "        ...  \n",
              "6014    28.40\n",
              "6015    24.40\n",
              "6016    14.00\n",
              "6017    18.90\n",
              "6018    25.44\n",
              "Name: Mileage, Length: 6019, dtype: float64"
            ]
          },
          "metadata": {},
          "execution_count": 332
        }
      ]
    },
    {
      "cell_type": "code",
      "source": [
        "cars.isnull().sum()"
      ],
      "metadata": {
        "id": "lFmvUoMvnnW8",
        "colab": {
          "base_uri": "https://localhost:8080/"
        },
        "outputId": "944dd351-36f8-4ca3-e0c2-e0cace3c9930"
      },
      "execution_count": 333,
      "outputs": [
        {
          "output_type": "execute_result",
          "data": {
            "text/plain": [
              "Name                  0\n",
              "Location              0\n",
              "Year                  0\n",
              "Kilometers_Driven     0\n",
              "Fuel_Type             0\n",
              "Transmission          0\n",
              "Owner_Type            0\n",
              "Mileage               0\n",
              "Engine               36\n",
              "Power                36\n",
              "Seats                42\n",
              "Price                 0\n",
              "dtype: int64"
            ]
          },
          "metadata": {},
          "execution_count": 333
        }
      ]
    },
    {
      "cell_type": "code",
      "source": [
        "cars['Engine']"
      ],
      "metadata": {
        "id": "CfRnpop-nqkK",
        "colab": {
          "base_uri": "https://localhost:8080/"
        },
        "outputId": "7f268937-b451-4baf-f058-886b03342eeb"
      },
      "execution_count": 334,
      "outputs": [
        {
          "output_type": "execute_result",
          "data": {
            "text/plain": [
              "0        998 CC\n",
              "1       1582 CC\n",
              "2       1199 CC\n",
              "3       1248 CC\n",
              "4       1968 CC\n",
              "         ...   \n",
              "6014    1248 CC\n",
              "6015    1120 CC\n",
              "6016    2498 CC\n",
              "6017     998 CC\n",
              "6018     936 CC\n",
              "Name: Engine, Length: 6019, dtype: object"
            ]
          },
          "metadata": {},
          "execution_count": 334
        }
      ]
    },
    {
      "cell_type": "code",
      "source": [
        "cars['Power']"
      ],
      "metadata": {
        "id": "pyL-XSc1nxM7",
        "colab": {
          "base_uri": "https://localhost:8080/"
        },
        "outputId": "2c3a05bf-bebe-4b35-fa8b-4b3948945504"
      },
      "execution_count": 335,
      "outputs": [
        {
          "output_type": "execute_result",
          "data": {
            "text/plain": [
              "0       58.16 bhp\n",
              "1       126.2 bhp\n",
              "2        88.7 bhp\n",
              "3       88.76 bhp\n",
              "4       140.8 bhp\n",
              "          ...    \n",
              "6014       74 bhp\n",
              "6015       71 bhp\n",
              "6016      112 bhp\n",
              "6017     67.1 bhp\n",
              "6018     57.6 bhp\n",
              "Name: Power, Length: 6019, dtype: object"
            ]
          },
          "metadata": {},
          "execution_count": 335
        }
      ]
    },
    {
      "cell_type": "code",
      "source": [
        "cars['Seats']"
      ],
      "metadata": {
        "id": "wLMJ9LVwn0g6",
        "colab": {
          "base_uri": "https://localhost:8080/"
        },
        "outputId": "f97a81f0-a822-4aee-f643-bfb5ec7ee1e5"
      },
      "execution_count": 336,
      "outputs": [
        {
          "output_type": "execute_result",
          "data": {
            "text/plain": [
              "0       5.0\n",
              "1       5.0\n",
              "2       5.0\n",
              "3       7.0\n",
              "4       5.0\n",
              "       ... \n",
              "6014    5.0\n",
              "6015    5.0\n",
              "6016    8.0\n",
              "6017    5.0\n",
              "6018    5.0\n",
              "Name: Seats, Length: 6019, dtype: float64"
            ]
          },
          "metadata": {},
          "execution_count": 336
        }
      ]
    },
    {
      "cell_type": "code",
      "source": [
        "cars['Seats'] = cars[\"Seats\"].fillna(round(cars['Seats'].mean(),2))\n",
        "cars['Seats']"
      ],
      "metadata": {
        "id": "Gl7OKOM5n2n6",
        "colab": {
          "base_uri": "https://localhost:8080/"
        },
        "outputId": "f3ffab69-fba7-4e9a-b9f4-5f8ae6a71985"
      },
      "execution_count": 337,
      "outputs": [
        {
          "output_type": "execute_result",
          "data": {
            "text/plain": [
              "0       5.0\n",
              "1       5.0\n",
              "2       5.0\n",
              "3       7.0\n",
              "4       5.0\n",
              "       ... \n",
              "6014    5.0\n",
              "6015    5.0\n",
              "6016    8.0\n",
              "6017    5.0\n",
              "6018    5.0\n",
              "Name: Seats, Length: 6019, dtype: float64"
            ]
          },
          "metadata": {},
          "execution_count": 337
        }
      ]
    },
    {
      "cell_type": "code",
      "source": [
        "cars.isnull().sum()"
      ],
      "metadata": {
        "id": "AgjNhVZhoTUt",
        "colab": {
          "base_uri": "https://localhost:8080/"
        },
        "outputId": "28160cde-d87c-41c7-82e7-41f7a38b130d"
      },
      "execution_count": 338,
      "outputs": [
        {
          "output_type": "execute_result",
          "data": {
            "text/plain": [
              "Name                  0\n",
              "Location              0\n",
              "Year                  0\n",
              "Kilometers_Driven     0\n",
              "Fuel_Type             0\n",
              "Transmission          0\n",
              "Owner_Type            0\n",
              "Mileage               0\n",
              "Engine               36\n",
              "Power                36\n",
              "Seats                 0\n",
              "Price                 0\n",
              "dtype: int64"
            ]
          },
          "metadata": {},
          "execution_count": 338
        }
      ]
    },
    {
      "cell_type": "code",
      "source": [],
      "metadata": {
        "id": "lOm-MNezoZMb"
      },
      "execution_count": 338,
      "outputs": []
    },
    {
      "cell_type": "code",
      "source": [],
      "metadata": {
        "id": "NMsbzpqgop5R"
      },
      "execution_count": 338,
      "outputs": []
    },
    {
      "cell_type": "code",
      "source": [
        "cars['Engine'] = cars['Engine'].str.split().str[0]\n",
        "cars['Engine'] = pd.to_numeric(cars['Engine'])\n",
        "cars['Engine'] = cars['Engine'].fillna(round(cars['Engine'].mean(),2))\n",
        "cars['Engine']"
      ],
      "metadata": {
        "id": "kAACw2Z-qi07",
        "colab": {
          "base_uri": "https://localhost:8080/"
        },
        "outputId": "fb43ee95-37e4-4ff3-d5b0-4c53216e5733"
      },
      "execution_count": 339,
      "outputs": [
        {
          "output_type": "execute_result",
          "data": {
            "text/plain": [
              "0        998.0\n",
              "1       1582.0\n",
              "2       1199.0\n",
              "3       1248.0\n",
              "4       1968.0\n",
              "         ...  \n",
              "6014    1248.0\n",
              "6015    1120.0\n",
              "6016    2498.0\n",
              "6017     998.0\n",
              "6018     936.0\n",
              "Name: Engine, Length: 6019, dtype: float64"
            ]
          },
          "metadata": {},
          "execution_count": 339
        }
      ]
    },
    {
      "cell_type": "code",
      "source": [
        "cars['Power']  = cars['Power'].str.split().str[0]\n",
        "cars['Power'] = cars['Power'].replace(\"null\",0)\n",
        "cars['Power'] = pd.to_numeric(cars['Power'])\n",
        "cars['Power']"
      ],
      "metadata": {
        "colab": {
          "base_uri": "https://localhost:8080/"
        },
        "id": "WKuY9dYarP-D",
        "outputId": "e25e24e4-525e-4c60-f047-80679cc466c4"
      },
      "execution_count": 340,
      "outputs": [
        {
          "output_type": "execute_result",
          "data": {
            "text/plain": [
              "0        58.16\n",
              "1       126.20\n",
              "2        88.70\n",
              "3        88.76\n",
              "4       140.80\n",
              "         ...  \n",
              "6014     74.00\n",
              "6015     71.00\n",
              "6016    112.00\n",
              "6017     67.10\n",
              "6018     57.60\n",
              "Name: Power, Length: 6019, dtype: float64"
            ]
          },
          "metadata": {},
          "execution_count": 340
        }
      ]
    },
    {
      "cell_type": "code",
      "source": [
        "cars['Power'] = cars['Power'].fillna(round(cars['Power'].mean(),2))\n",
        "cars['Power']"
      ],
      "metadata": {
        "colab": {
          "base_uri": "https://localhost:8080/"
        },
        "id": "IJ-Zz_oM7Ra7",
        "outputId": "8a9ac9b5-a6a9-45f9-ffc1-1b520986e675"
      },
      "execution_count": 341,
      "outputs": [
        {
          "output_type": "execute_result",
          "data": {
            "text/plain": [
              "0        58.16\n",
              "1       126.20\n",
              "2        88.70\n",
              "3        88.76\n",
              "4       140.80\n",
              "         ...  \n",
              "6014     74.00\n",
              "6015     71.00\n",
              "6016    112.00\n",
              "6017     67.10\n",
              "6018     57.60\n",
              "Name: Power, Length: 6019, dtype: float64"
            ]
          },
          "metadata": {},
          "execution_count": 341
        }
      ]
    },
    {
      "cell_type": "code",
      "source": [
        "cars.isnull().sum()"
      ],
      "metadata": {
        "colab": {
          "base_uri": "https://localhost:8080/"
        },
        "id": "DRCPpmJh7gyL",
        "outputId": "0b1a1c7d-9610-496e-8a71-47099f43cff8"
      },
      "execution_count": 342,
      "outputs": [
        {
          "output_type": "execute_result",
          "data": {
            "text/plain": [
              "Name                 0\n",
              "Location             0\n",
              "Year                 0\n",
              "Kilometers_Driven    0\n",
              "Fuel_Type            0\n",
              "Transmission         0\n",
              "Owner_Type           0\n",
              "Mileage              0\n",
              "Engine               0\n",
              "Power                0\n",
              "Seats                0\n",
              "Price                0\n",
              "dtype: int64"
            ]
          },
          "metadata": {},
          "execution_count": 342
        }
      ]
    },
    {
      "cell_type": "code",
      "source": [
        "cars.select_dtypes (['float64', 'int64']).columns   #Retrieving the columns which have float or integer datatypes"
      ],
      "metadata": {
        "colab": {
          "base_uri": "https://localhost:8080/"
        },
        "id": "DKijsv7a-uFa",
        "outputId": "71b8d966-00a5-4a7a-bf3b-b0daef093df8"
      },
      "execution_count": 343,
      "outputs": [
        {
          "output_type": "execute_result",
          "data": {
            "text/plain": [
              "Index(['Year', 'Kilometers_Driven', 'Mileage', 'Engine', 'Power', 'Seats',\n",
              "       'Price'],\n",
              "      dtype='object')"
            ]
          },
          "metadata": {},
          "execution_count": 343
        }
      ]
    },
    {
      "cell_type": "code",
      "source": [],
      "metadata": {
        "id": "JLjYDcwkCbl7"
      },
      "execution_count": 343,
      "outputs": []
    },
    {
      "cell_type": "code",
      "source": [
        "numeric_columns = cars.select_dtypes(['float64', 'int64']).columns   #columns with float or integer datatypes\n",
        "for col in numeric_columns:\n",
        "  print(col, len(cars[cars[col] == 0]))       #counting and printing the number of 0 values in each column"
      ],
      "metadata": {
        "colab": {
          "base_uri": "https://localhost:8080/"
        },
        "id": "8wchi_Co_1-K",
        "outputId": "0b38080a-786c-4cc4-82f8-cde7882e3744"
      },
      "execution_count": 344,
      "outputs": [
        {
          "output_type": "stream",
          "name": "stdout",
          "text": [
            "Year 0\n",
            "Kilometers_Driven 0\n",
            "Mileage 68\n",
            "Engine 0\n",
            "Power 107\n",
            "Seats 1\n",
            "Price 0\n"
          ]
        }
      ]
    },
    {
      "cell_type": "code",
      "source": [
        "cars['Year'] == 0     #using the logical equal operator whether a row in column has 0 value"
      ],
      "metadata": {
        "colab": {
          "base_uri": "https://localhost:8080/"
        },
        "id": "jxN_7wdFAEeK",
        "outputId": "6abebef8-7e27-4306-ab95-e35e53b2b0cc"
      },
      "execution_count": 345,
      "outputs": [
        {
          "output_type": "execute_result",
          "data": {
            "text/plain": [
              "0       False\n",
              "1       False\n",
              "2       False\n",
              "3       False\n",
              "4       False\n",
              "        ...  \n",
              "6014    False\n",
              "6015    False\n",
              "6016    False\n",
              "6017    False\n",
              "6018    False\n",
              "Name: Year, Length: 6019, dtype: bool"
            ]
          },
          "metadata": {},
          "execution_count": 345
        }
      ]
    },
    {
      "cell_type": "code",
      "source": [
        "cars[cars['Year'] == 0]   #Displaying the rows with 0 values in the year column"
      ],
      "metadata": {
        "colab": {
          "base_uri": "https://localhost:8080/",
          "height": 53
        },
        "id": "ZLC-9yE7BHVs",
        "outputId": "72a35e2c-9caf-4455-87da-0024e9a6815a"
      },
      "execution_count": 346,
      "outputs": [
        {
          "output_type": "execute_result",
          "data": {
            "text/plain": [
              "Empty DataFrame\n",
              "Columns: [Name, Location, Year, Kilometers_Driven, Fuel_Type, Transmission, Owner_Type, Mileage, Engine, Power, Seats, Price]\n",
              "Index: []"
            ],
            "text/html": [
              "\n",
              "  <div id=\"df-3afd3f31-6670-48b2-a43b-eeb1dfbb3944\" class=\"colab-df-container\">\n",
              "    <div>\n",
              "<style scoped>\n",
              "    .dataframe tbody tr th:only-of-type {\n",
              "        vertical-align: middle;\n",
              "    }\n",
              "\n",
              "    .dataframe tbody tr th {\n",
              "        vertical-align: top;\n",
              "    }\n",
              "\n",
              "    .dataframe thead th {\n",
              "        text-align: right;\n",
              "    }\n",
              "</style>\n",
              "<table border=\"1\" class=\"dataframe\">\n",
              "  <thead>\n",
              "    <tr style=\"text-align: right;\">\n",
              "      <th></th>\n",
              "      <th>Name</th>\n",
              "      <th>Location</th>\n",
              "      <th>Year</th>\n",
              "      <th>Kilometers_Driven</th>\n",
              "      <th>Fuel_Type</th>\n",
              "      <th>Transmission</th>\n",
              "      <th>Owner_Type</th>\n",
              "      <th>Mileage</th>\n",
              "      <th>Engine</th>\n",
              "      <th>Power</th>\n",
              "      <th>Seats</th>\n",
              "      <th>Price</th>\n",
              "    </tr>\n",
              "  </thead>\n",
              "  <tbody>\n",
              "  </tbody>\n",
              "</table>\n",
              "</div>\n",
              "    <div class=\"colab-df-buttons\">\n",
              "\n",
              "  <div class=\"colab-df-container\">\n",
              "    <button class=\"colab-df-convert\" onclick=\"convertToInteractive('df-3afd3f31-6670-48b2-a43b-eeb1dfbb3944')\"\n",
              "            title=\"Convert this dataframe to an interactive table.\"\n",
              "            style=\"display:none;\">\n",
              "\n",
              "  <svg xmlns=\"http://www.w3.org/2000/svg\" height=\"24px\" viewBox=\"0 -960 960 960\">\n",
              "    <path d=\"M120-120v-720h720v720H120Zm60-500h600v-160H180v160Zm220 220h160v-160H400v160Zm0 220h160v-160H400v160ZM180-400h160v-160H180v160Zm440 0h160v-160H620v160ZM180-180h160v-160H180v160Zm440 0h160v-160H620v160Z\"/>\n",
              "  </svg>\n",
              "    </button>\n",
              "\n",
              "  <style>\n",
              "    .colab-df-container {\n",
              "      display:flex;\n",
              "      gap: 12px;\n",
              "    }\n",
              "\n",
              "    .colab-df-convert {\n",
              "      background-color: #E8F0FE;\n",
              "      border: none;\n",
              "      border-radius: 50%;\n",
              "      cursor: pointer;\n",
              "      display: none;\n",
              "      fill: #1967D2;\n",
              "      height: 32px;\n",
              "      padding: 0 0 0 0;\n",
              "      width: 32px;\n",
              "    }\n",
              "\n",
              "    .colab-df-convert:hover {\n",
              "      background-color: #E2EBFA;\n",
              "      box-shadow: 0px 1px 2px rgba(60, 64, 67, 0.3), 0px 1px 3px 1px rgba(60, 64, 67, 0.15);\n",
              "      fill: #174EA6;\n",
              "    }\n",
              "\n",
              "    .colab-df-buttons div {\n",
              "      margin-bottom: 4px;\n",
              "    }\n",
              "\n",
              "    [theme=dark] .colab-df-convert {\n",
              "      background-color: #3B4455;\n",
              "      fill: #D2E3FC;\n",
              "    }\n",
              "\n",
              "    [theme=dark] .colab-df-convert:hover {\n",
              "      background-color: #434B5C;\n",
              "      box-shadow: 0px 1px 3px 1px rgba(0, 0, 0, 0.15);\n",
              "      filter: drop-shadow(0px 1px 2px rgba(0, 0, 0, 0.3));\n",
              "      fill: #FFFFFF;\n",
              "    }\n",
              "  </style>\n",
              "\n",
              "    <script>\n",
              "      const buttonEl =\n",
              "        document.querySelector('#df-3afd3f31-6670-48b2-a43b-eeb1dfbb3944 button.colab-df-convert');\n",
              "      buttonEl.style.display =\n",
              "        google.colab.kernel.accessAllowed ? 'block' : 'none';\n",
              "\n",
              "      async function convertToInteractive(key) {\n",
              "        const element = document.querySelector('#df-3afd3f31-6670-48b2-a43b-eeb1dfbb3944');\n",
              "        const dataTable =\n",
              "          await google.colab.kernel.invokeFunction('convertToInteractive',\n",
              "                                                    [key], {});\n",
              "        if (!dataTable) return;\n",
              "\n",
              "        const docLinkHtml = 'Like what you see? Visit the ' +\n",
              "          '<a target=\"_blank\" href=https://colab.research.google.com/notebooks/data_table.ipynb>data table notebook</a>'\n",
              "          + ' to learn more about interactive tables.';\n",
              "        element.innerHTML = '';\n",
              "        dataTable['output_type'] = 'display_data';\n",
              "        await google.colab.output.renderOutput(dataTable, element);\n",
              "        const docLink = document.createElement('div');\n",
              "        docLink.innerHTML = docLinkHtml;\n",
              "        element.appendChild(docLink);\n",
              "      }\n",
              "    </script>\n",
              "  </div>\n",
              "\n",
              "    </div>\n",
              "  </div>\n"
            ]
          },
          "metadata": {},
          "execution_count": 346
        }
      ]
    },
    {
      "cell_type": "code",
      "source": [
        "cars[cars['Seats'] == 0]      #Displaying the rows with 0 values in Seats"
      ],
      "metadata": {
        "colab": {
          "base_uri": "https://localhost:8080/",
          "height": 81
        },
        "id": "BI4o_zn9D4EJ",
        "outputId": "ca0ada0e-b841-46b3-c45c-7691ee9d7551"
      },
      "execution_count": 347,
      "outputs": [
        {
          "output_type": "execute_result",
          "data": {
            "text/plain": [
              "                                   Name   Location  Year  Kilometers_Driven  \\\n",
              "3999  Audi A4 3.2 FSI Tiptronic Quattro  Hyderabad  2012             125000   \n",
              "\n",
              "     Fuel_Type Transmission Owner_Type  Mileage  Engine  Power  Seats  Price  \n",
              "3999    Petrol    Automatic      First     10.5  3197.0    0.0    0.0   18.0  "
            ],
            "text/html": [
              "\n",
              "  <div id=\"df-9db32070-a724-4bbf-8dd3-44c1bcc7b10d\" class=\"colab-df-container\">\n",
              "    <div>\n",
              "<style scoped>\n",
              "    .dataframe tbody tr th:only-of-type {\n",
              "        vertical-align: middle;\n",
              "    }\n",
              "\n",
              "    .dataframe tbody tr th {\n",
              "        vertical-align: top;\n",
              "    }\n",
              "\n",
              "    .dataframe thead th {\n",
              "        text-align: right;\n",
              "    }\n",
              "</style>\n",
              "<table border=\"1\" class=\"dataframe\">\n",
              "  <thead>\n",
              "    <tr style=\"text-align: right;\">\n",
              "      <th></th>\n",
              "      <th>Name</th>\n",
              "      <th>Location</th>\n",
              "      <th>Year</th>\n",
              "      <th>Kilometers_Driven</th>\n",
              "      <th>Fuel_Type</th>\n",
              "      <th>Transmission</th>\n",
              "      <th>Owner_Type</th>\n",
              "      <th>Mileage</th>\n",
              "      <th>Engine</th>\n",
              "      <th>Power</th>\n",
              "      <th>Seats</th>\n",
              "      <th>Price</th>\n",
              "    </tr>\n",
              "  </thead>\n",
              "  <tbody>\n",
              "    <tr>\n",
              "      <th>3999</th>\n",
              "      <td>Audi A4 3.2 FSI Tiptronic Quattro</td>\n",
              "      <td>Hyderabad</td>\n",
              "      <td>2012</td>\n",
              "      <td>125000</td>\n",
              "      <td>Petrol</td>\n",
              "      <td>Automatic</td>\n",
              "      <td>First</td>\n",
              "      <td>10.5</td>\n",
              "      <td>3197.0</td>\n",
              "      <td>0.0</td>\n",
              "      <td>0.0</td>\n",
              "      <td>18.0</td>\n",
              "    </tr>\n",
              "  </tbody>\n",
              "</table>\n",
              "</div>\n",
              "    <div class=\"colab-df-buttons\">\n",
              "\n",
              "  <div class=\"colab-df-container\">\n",
              "    <button class=\"colab-df-convert\" onclick=\"convertToInteractive('df-9db32070-a724-4bbf-8dd3-44c1bcc7b10d')\"\n",
              "            title=\"Convert this dataframe to an interactive table.\"\n",
              "            style=\"display:none;\">\n",
              "\n",
              "  <svg xmlns=\"http://www.w3.org/2000/svg\" height=\"24px\" viewBox=\"0 -960 960 960\">\n",
              "    <path d=\"M120-120v-720h720v720H120Zm60-500h600v-160H180v160Zm220 220h160v-160H400v160Zm0 220h160v-160H400v160ZM180-400h160v-160H180v160Zm440 0h160v-160H620v160ZM180-180h160v-160H180v160Zm440 0h160v-160H620v160Z\"/>\n",
              "  </svg>\n",
              "    </button>\n",
              "\n",
              "  <style>\n",
              "    .colab-df-container {\n",
              "      display:flex;\n",
              "      gap: 12px;\n",
              "    }\n",
              "\n",
              "    .colab-df-convert {\n",
              "      background-color: #E8F0FE;\n",
              "      border: none;\n",
              "      border-radius: 50%;\n",
              "      cursor: pointer;\n",
              "      display: none;\n",
              "      fill: #1967D2;\n",
              "      height: 32px;\n",
              "      padding: 0 0 0 0;\n",
              "      width: 32px;\n",
              "    }\n",
              "\n",
              "    .colab-df-convert:hover {\n",
              "      background-color: #E2EBFA;\n",
              "      box-shadow: 0px 1px 2px rgba(60, 64, 67, 0.3), 0px 1px 3px 1px rgba(60, 64, 67, 0.15);\n",
              "      fill: #174EA6;\n",
              "    }\n",
              "\n",
              "    .colab-df-buttons div {\n",
              "      margin-bottom: 4px;\n",
              "    }\n",
              "\n",
              "    [theme=dark] .colab-df-convert {\n",
              "      background-color: #3B4455;\n",
              "      fill: #D2E3FC;\n",
              "    }\n",
              "\n",
              "    [theme=dark] .colab-df-convert:hover {\n",
              "      background-color: #434B5C;\n",
              "      box-shadow: 0px 1px 3px 1px rgba(0, 0, 0, 0.15);\n",
              "      filter: drop-shadow(0px 1px 2px rgba(0, 0, 0, 0.3));\n",
              "      fill: #FFFFFF;\n",
              "    }\n",
              "  </style>\n",
              "\n",
              "    <script>\n",
              "      const buttonEl =\n",
              "        document.querySelector('#df-9db32070-a724-4bbf-8dd3-44c1bcc7b10d button.colab-df-convert');\n",
              "      buttonEl.style.display =\n",
              "        google.colab.kernel.accessAllowed ? 'block' : 'none';\n",
              "\n",
              "      async function convertToInteractive(key) {\n",
              "        const element = document.querySelector('#df-9db32070-a724-4bbf-8dd3-44c1bcc7b10d');\n",
              "        const dataTable =\n",
              "          await google.colab.kernel.invokeFunction('convertToInteractive',\n",
              "                                                    [key], {});\n",
              "        if (!dataTable) return;\n",
              "\n",
              "        const docLinkHtml = 'Like what you see? Visit the ' +\n",
              "          '<a target=\"_blank\" href=https://colab.research.google.com/notebooks/data_table.ipynb>data table notebook</a>'\n",
              "          + ' to learn more about interactive tables.';\n",
              "        element.innerHTML = '';\n",
              "        dataTable['output_type'] = 'display_data';\n",
              "        await google.colab.output.renderOutput(dataTable, element);\n",
              "        const docLink = document.createElement('div');\n",
              "        docLink.innerHTML = docLinkHtml;\n",
              "        element.appendChild(docLink);\n",
              "      }\n",
              "    </script>\n",
              "  </div>\n",
              "\n",
              "    </div>\n",
              "  </div>\n"
            ]
          },
          "metadata": {},
          "execution_count": 347
        }
      ]
    },
    {
      "cell_type": "code",
      "source": [
        "numeric_columns = cars.select_dtypes(['float64','int64']).columns\n",
        "for col in numeric_columns:\n",
        "  cars[col] = cars[col].replace(0, cars[col].mean())      #Replacing the 0 values with mean value of the column using the replace function"
      ],
      "metadata": {
        "id": "WyIoCiXjBYCZ"
      },
      "execution_count": 348,
      "outputs": []
    },
    {
      "cell_type": "code",
      "source": [
        "for col in numeric_columns:\n",
        "  print(col, len(cars[cars[col] == 0]))       #Checking"
      ],
      "metadata": {
        "colab": {
          "base_uri": "https://localhost:8080/"
        },
        "id": "JKar0ABHECuq",
        "outputId": "6e097cb5-9768-448b-c0c7-e2c8b0a1632d"
      },
      "execution_count": 349,
      "outputs": [
        {
          "output_type": "stream",
          "name": "stdout",
          "text": [
            "Year 0\n",
            "Kilometers_Driven 0\n",
            "Mileage 0\n",
            "Engine 0\n",
            "Power 0\n",
            "Seats 0\n",
            "Price 0\n"
          ]
        }
      ]
    },
    {
      "cell_type": "code",
      "source": [
        "import plotly.express as px\n",
        "px.box(data_frame = cars, x = 'Mileage')\n",
        "\n",
        "#Outliers are the values that lie outside or they are highly deviated from the average"
      ],
      "metadata": {
        "colab": {
          "base_uri": "https://localhost:8080/",
          "height": 542
        },
        "id": "1QaHiwYwFdKc",
        "outputId": "53f6ae56-acb3-402c-924f-c7baef2f4c7e"
      },
      "execution_count": 350,
      "outputs": [
        {
          "output_type": "display_data",
          "data": {
            "text/html": [
              "<html>\n",
              "<head><meta charset=\"utf-8\" /></head>\n",
              "<body>\n",
              "    <div>            <script src=\"https://cdnjs.cloudflare.com/ajax/libs/mathjax/2.7.5/MathJax.js?config=TeX-AMS-MML_SVG\"></script><script type=\"text/javascript\">if (window.MathJax && window.MathJax.Hub && window.MathJax.Hub.Config) {window.MathJax.Hub.Config({SVG: {font: \"STIX-Web\"}});}</script>                <script type=\"text/javascript\">window.PlotlyConfig = {MathJaxConfig: 'local'};</script>\n",
              "        <script charset=\"utf-8\" src=\"https://cdn.plot.ly/plotly-2.24.1.min.js\"></script>                <div id=\"32a76a28-eded-45de-82fc-5e508078017a\" class=\"plotly-graph-div\" style=\"height:525px; width:100%;\"></div>            <script type=\"text/javascript\">                                    window.PLOTLYENV=window.PLOTLYENV || {};                                    if (document.getElementById(\"32a76a28-eded-45de-82fc-5e508078017a\")) {                    Plotly.newPlot(                        \"32a76a28-eded-45de-82fc-5e508078017a\",                        [{\"alignmentgroup\":\"True\",\"hovertemplate\":\"Mileage=%{x}\\u003cextra\\u003e\\u003c\\u002fextra\\u003e\",\"legendgroup\":\"\",\"marker\":{\"color\":\"#636efa\"},\"name\":\"\",\"notched\":false,\"offsetgroup\":\"\",\"orientation\":\"h\",\"showlegend\":false,\"x\":[26.6,19.67,18.2,20.77,15.2,21.1,23.08,11.36,20.54,22.3,21.56,16.8,25.2,12.7,18.134959295564048,13.5,25.8,28.4,20.45,14.84,22.69,23.65,13.53,18.5,14.4,16.8,23.08,20.92,17.5,12.8,19.01,14.53,11.18,12.4,16.09,14.0,24.3,18.15,11.74,22.07,19.7,25.4,25.32,18.5,14.62,14.28,14.9,11.25,24.4,16.55,17.11,22.9,17.8,28.4,18.9,15.04,25.17,20.36,13.29,18.2,13.68,20.0,11.74,15.8,25.0,16.55,16.4,18.134959295564048,24.52,22.1,8.5,15.1,16.95,19.64,16.5,18.53,17.8,12.4,12.8,18.134959295564048,22.9,17.57,18.0,20.0,23.2,17.8,16.73,20.36,18.9,17.0,17.8,13.0,17.68,22.7,15.1,25.8,22.07,16.2,18.9,15.26,23.0,18.5,19.83,14.94,17.0,14.0,17.71,14.74,16.0,22.32,11.36,15.1,25.4,22.69,13.5,12.99,23.3,19.15,10.8,24.3,17.0,15.0,22.0,18.9,21.9,12.05,11.7,26.6,10.8,21.21,20.73,16.0,21.1,24.07,19.0,17.0,19.7,20.58,19.0,13.5,19.27,25.8,22.0,17.0,11.5,18.6,21.14,20.73,11.05,21.76,17.11,22.9,7.81,21.66,17.2,21.1,22.07,20.63,19.4,14.8,26.0,12.99,20.4,15.1,22.7,13.0,21.5,20.0,15.3,19.27,19.4,20.36,17.9,18.9,17.68,14.4,16.6,22.54,17.68,25.44,13.7,17.8,22.48,12.9,22.07,19.98,13.0,21.4,22.32,19.81,15.4,12.7,20.0,25.47,18.134959295564048,25.8,20.36,25.8,17.5,19.87,17.45,24.3,18.6,14.7,15.64,15.73,14.7,23.59,16.1,14.8,27.4,22.32,20.46,15.29,20.51,11.74,11.8,19.81,14.3,14.67,17.19,25.8,18.9,21.03,19.27,22.5,19.01,17.8,16.82,18.134959295564048,17.2,18.6,22.07,22.9,20.0,11.36,11.72,17.4,18.6,19.27,25.44,22.54,12.99,20.77,12.8,17.0,17.8,17.05,24.0,28.09,20.5,13.1,19.91,18.7,19.81,16.38,13.68,19.7,20.4,18.9,22.9,22.0,18.134959295564048,17.0,11.57,15.8,23.2,19.67,19.0,19.64,17.8,16.55,20.36,12.8,17.3,28.4,12.05,22.95,18.88,23.4,22.74,17.0,12.07,17.0,17.1,16.8,21.9,15.0,20.54,17.4,22.95,18.48,18.9,18.2,15.0,20.36,19.27,20.36,13.68,17.68,12.99,16.47,20.92,18.0,17.0,17.68,17.9,18.134959295564048,17.8,23.1,17.9,12.7,20.54,14.0,18.5,14.07,18.0,18.9,16.0,17.1,16.02,11.7,19.3,17.8,17.7,17.68,9.52,14.75,26.3,23.0,16.95,19.0,25.2,18.5,16.47,19.7,11.3,19.7,21.12,19.7,19.3,11.3,18.6,24.3,17.0,18.0,25.8,21.1,21.76,22.32,21.02,14.45,24.07,22.7,18.0,19.33,13.1,14.67,20.36,22.9,18.5,23.08,23.4,17.8,17.3,13.8,23.59,24.7,18.9,11.0,11.07,18.9,24.3,12.07,17.9,16.1,20.45,21.43,15.8,21.1,16.0,24.4,14.21,14.8,15.0,17.8,17.0,17.0,16.2,13.5,18.0,18.86,13.5,21.1,20.51,21.1,16.07,13.49,20.38,12.7,12.0,13.5,19.7,14.0,12.7,17.01,16.73,14.74,13.7,15.73,12.7,14.84,15.4,21.76,15.4,16.0,13.2,17.19,11.5,21.1,18.9,13.0,16.47,15.26,18.134959295564048,15.29,11.74,16.82,17.0,23.59,19.4,21.4,20.0,21.1,20.37,16.2,22.74,16.8,18.9,17.7,15.1,13.7,15.96,18.134959295564048,21.1,13.0,16.09,12.9,22.3,16.0,18.6,14.16,18.5,13.17,12.8,27.62,25.1,15.17,21.76,11.33,18.6,19.01,24.4,22.7,16.47,24.0,21.12,17.0,17.92,12.99,28.09,12.55,15.3,12.6,15.8,17.72,18.9,18.16,16.8,19.87,15.68,20.0,12.8,12.55,22.07,23.2,23.08,22.32,10.8,11.0,12.0,17.01,19.81,20.0,16.02,18.7,18.0,17.3,15.5,16.5,18.9,12.1,18.6,12.55,22.7,17.8,13.5,17.3,18.9,16.0,14.83,17.92,15.29,15.4,20.5,19.01,11.7,17.6,22.5,15.8,23.1,12.7,18.6,25.4,17.68,11.0,22.0,14.6,20.4,11.5,16.02,12.05,16.02,16.8,14.66,17.0,10.93,19.3,17.8,18.0,13.0,18.0,22.54,18.2,18.134959295564048,12.6,12.99,18.48,19.01,20.68,17.7,28.09,17.5,15.1,13.5,25.47,23.59,9.9,21.13,20.14,17.0,19.2,11.36,18.88,27.3,25.8,16.36,26.59,17.1,12.5,17.0,18.6,22.32,15.96,22.9,17.0,17.68,13.8,20.14,13.6,25.1,18.2,18.6,17.05,15.06,12.55,11.33,20.77,18.5,10.13,20.45,17.21,12.55,15.97,19.3,25.2,13.53,10.5,16.36,11.36,19.3,14.28,19.7,17.9,21.5,16.0,20.45,22.32,14.69,15.4,23.9,12.07,14.7,13.6,19.1,13.68,21.1,22.07,24.3,18.88,21.1,17.0,12.8,14.0,13.2,16.8,16.0,21.27,13.0,13.6,15.9,18.134959295564048,20.7,15.73,17.0,14.1,21.9,19.33,19.1,20.89,18.12,13.8,20.36,22.32,16.07,12.3,18.6,18.134959295564048,13.5,15.1,28.09,19.71,16.4,11.5,24.07,9.43,21.9,16.0,13.4,17.68,12.99,24.0,14.8,12.8,16.8,23.2,12.07,18.6,24.3,17.4,20.73,17.5,22.07,20.77,26.59,14.84,19.4,16.0,22.32,28.09,13.8,16.2,18.7,25.8,22.54,21.1,16.8,13.14,24.3,17.0,24.07,21.1,20.36,18.1,18.53,22.77,14.3,13.68,20.0,14.49,18.5,12.39,18.9,10.91,12.8,17.01,13.0,18.134959295564048,17.5,13.0,20.46,14.84,15.97,19.1,22.0,16.07,22.74,17.11,13.6,12.07,25.44,20.51,19.01,18.88,20.85,17.72,15.63,18.5,15.0,16.2,18.88,24.0,17.4,16.1,25.2,27.39,14.0,13.2,25.2,17.8,21.9,25.47,23.1,25.2,15.04,15.5,20.7,17.2,17.0,18.134959295564048,18.0,16.36,15.0,18.3,15.1,11.74,18.2,16.78,19.7,20.4,19.0,25.4,25.5,16.0,18.16,15.4,18.88,17.9,12.7,25.0,18.1,12.8,19.27,18.5,12.8,12.55,16.95,22.32,15.73,18.6,17.8,20.0,23.1,20.0,15.8,18.9,10.0,18.88,13.73,16.0,16.8,22.5,13.1,22.32,18.6,16.02,14.0,23.65,18.1,22.07,12.55,16.0,17.9,18.7,23.4,17.01,10.91,18.6,16.8,27.4,17.1,24.2,20.77,24.07,13.1,20.36,17.0,18.6,11.5,22.69,14.49,14.21,17.68,20.51,25.17,21.66,22.07,22.74,18.6,18.3,17.0,22.54,20.51,22.54,17.21,20.0,18.6,24.0,14.02,26.83,19.81,19.3,15.97,23.1,20.54,16.07,20.77,20.0,16.47,16.77,13.68,22.32,17.92,16.55,16.55,17.0,13.7,22.32,24.5,18.6,12.8,18.6,13.6,20.34,16.36,17.3,13.0,11.5,18.9,25.4,15.29,20.36,19.4,12.55,16.55,11.36,25.1,25.1,21.7,28.4,23.1,15.1,20.36,19.81,22.0,9.7,14.33,14.74,21.64,18.9,23.4,25.8,28.4,13.2,10.5,13.0,13.0,22.7,16.8,19.16,26.0,19.33,17.68,20.77,19.27,19.3,19.01,21.1,19.1,22.9,21.1,17.3,15.1,14.16,15.73,18.134959295564048,19.3,14.07,15.97,18.0,25.0,16.93,23.1,11.5,11.3,15.5,9.0,19.67,17.5,22.77,18.2,20.73,14.74,17.8,23.59,19.87,26.2,16.47,19.67,14.74,16.3,15.68,27.39,28.09,15.0,22.7,13.5,17.0,18.5,16.8,23.4,25.32,13.68,21.4,27.3,17.0,23.0,19.27,19.1,18.9,22.74,18.2,18.134959295564048,13.7,16.55,12.8,17.9,19.81,17.5,21.66,21.1,14.4,17.8,18.9,22.07,12.62,17.0,25.44,14.8,20.51,15.0,15.4,22.77,13.2,22.48,20.92,15.73,17.3,11.3,13.5,27.3,28.09,20.4,19.27,18.9,15.5,18.134959295564048,26.59,18.9,16.95,19.0,25.17,17.1,18.9,18.88,18.48,25.0,22.54,16.8,25.2,23.0,16.5,13.68,10.5,18.5,22.32,15.1,20.64,26.59,13.7,22.9,22.07,17.0,23.0,17.0,25.44,16.2,11.57,11.3,11.5,14.24,11.25,20.37,24.4,13.2,10.8,18.06,16.36,10.2,16.0,10.1,18.6,24.4,19.01,18.25,18.9,12.99,18.5,22.77,17.0,14.8,22.07,19.27,22.7,14.4,26.59,25.1,19.01,18.9,18.134959295564048,25.44,16.0,19.81,13.93,20.36,11.36,17.5,18.9,23.59,23.4,23.0,25.83,25.47,20.77,16.8,19.7,10.91,24.3,8.6,22.9,17.57,17.0,19.4,21.43,17.0,15.29,20.36,18.6,14.74,13.24,15.73,16.95,24.07,11.33,24.3,21.1,20.0,22.0,18.9,17.0,17.4,12.8,16.8,17.6,12.07,18.9,17.09,18.0,24.7,17.01,23.84,18.6,21.1,12.6,22.54,23.59,21.43,20.7,20.14,13.7,10.0,17.8,18.0,8.45,19.2,26.59,26.0,14.0,17.2,24.52,24.0,28.09,19.27,20.5,10.93,26.3,15.04,18.88,14.69,18.9,11.36,19.6,18.0,17.8,12.3,15.1,15.96,24.3,20.5,19.5,13.7,14.74,18.9,17.0,14.53,16.1,16.47,18.9,21.5,18.9,21.4,20.3,26.59,15.3,22.7,16.1,19.1,18.5,23.1,14.84,17.5,15.04,25.2,14.53,13.5,16.05,19.0,19.81,11.2,18.6,26.0,12.99,25.17,19.0,14.8,18.9,25.2,17.0,22.0,16.8,16.0,23.59,27.03,20.0,13.0,22.69,22.74,13.68,18.78,13.24,13.5,14.8,22.74,20.54,12.35,13.7,20.77,12.99,15.0,12.07,17.1,21.5,17.0,20.0,18.7,16.47,17.4,17.7,26.2,12.0,18.12,12.8,12.05,20.54,17.3,16.1,14.28,14.59,13.8,18.6,21.43,16.0,24.4,13.0,20.36,14.28,14.53,17.32,21.9,19.27,21.1,19.67,13.6,14.95,12.99,19.16,13.22,28.4,20.77,16.1,20.36,20.36,21.4,16.36,19.4,22.9,20.14,16.0,13.0,18.134959295564048,19.27,21.27,19.3,17.0,12.55,17.32,20.92,23.03,17.11,33.44,18.0,18.134959295564048,14.24,18.9,15.1,16.47,18.9,17.0,14.8,13.0,18.5,24.0,14.4,20.36,17.0,18.6,22.07,15.6,9.9,25.1,20.0,12.99,19.12,18.9,12.8,18.88,14.7,20.4,16.1,11.8,12.8,28.4,17.68,22.48,18.5,17.05,17.6,17.0,18.134959295564048,10.98,19.7,24.0,25.2,24.0,16.73,17.0,16.55,19.5,13.0,15.5,22.69,16.6,21.9,15.1,20.89,17.5,22.7,16.1,19.1,16.95,15.1,22.54,33.54,21.27,16.46,14.3,14.75,17.4,19.1,26.0,18.4,28.09,26.59,11.1,14.53,18.134959295564048,17.0,12.05,13.4,18.88,15.0,20.73,10.2,12.99,18.134959295564048,13.01,11.74,26.6,19.7,24.7,16.95,24.7,24.07,18.9,24.2,18.8,16.52,18.0,18.9,22.0,18.44,22.32,15.29,20.51,10.2,16.8,27.39,26.0,22.54,13.0,19.01,19.6,18.9,17.1,18.5,18.134959295564048,22.48,16.47,17.8,15.6,18.88,22.32,20.45,18.9,17.05,21.1,19.81,15.97,16.8,11.18,22.7,19.7,16.47,22.07,22.07,20.77,22.77,11.36,10.8,23.4,18.88,16.8,17.57,14.4,22.3,26.59,16.0,18.6,21.1,18.134959295564048,17.9,23.1,17.8,19.0,16.07,19.01,17.01,13.68,25.44,17.21,10.91,22.32,18.16,16.1,26.0,16.0,20.0,17.0,18.6,12.99,20.46,12.99,17.0,24.07,19.49,23.1,11.7,23.5,17.01,15.0,17.5,14.84,18.6,17.01,17.3,14.28,19.0,23.08,25.4,23.4,18.134959295564048,17.32,25.8,14.7,14.16,23.2,15.4,28.09,21.43,25.0,16.1,16.47,14.62,11.5,21.4,21.4,23.8,13.0,20.92,20.4,22.1,12.8,11.5,18.88,16.8,11.5,15.5,23.0,21.02,15.04,17.6,21.1,13.1,15.1,21.66,17.57,12.9,14.28,19.0,11.1,17.0,12.55,11.74,27.39,20.77,12.65,12.9,12.9,16.09,20.0,23.4,23.3,17.5,12.7,11.7,12.99,12.55,18.7,17.0,28.4,21.64,12.99,19.4,15.04,16.0,23.0,17.72,20.36,12.8,20.65,22.9,21.72,13.68,17.01,17.4,26.0,20.54,12.19,22.74,21.12,15.29,12.0,16.55,22.32,26.1,20.7,14.0,21.03,14.21,19.01,23.4,16.47,16.0,16.47,21.1,14.7,12.8,26.0,17.0,21.5,18.6,19.67,12.07,19.7,25.8,18.33,19.5,18.9,12.81,17.8,14.74,20.51,22.32,17.5,17.06,15.06,24.0,13.0,13.6,18.9,20.36,19.33,17.67,14.75,11.5,18.9,21.1,19.4,22.74,15.96,17.8,15.0,22.0,21.1,20.85,19.34,8.3,17.8,13.49,20.14,17.8,17.4,16.1,20.14,12.5,16.0,25.8,17.0,20.51,16.96,20.73,11.79,15.26,20.73,23.0,18.7,16.0,17.0,22.32,19.81,23.1,20.86,25.2,16.0,20.36,16.5,11.5,25.2,16.1,16.1,15.29,17.05,13.8,22.7,20.73,18.33,27.3,17.11,24.0,12.0,12.99,16.95,20.0,14.49,24.2,21.1,16.47,13.24,16.98,23.59,17.0,18.9,13.6,12.05,11.74,13.7,18.1,12.05,17.1,23.0,16.4,20.36,25.8,22.5,19.4,17.0,15.04,18.7,13.0,13.24,21.1,18.6,19.5,13.22,18.6,19.4,17.5,18.9,11.68,17.21,24.07,22.07,18.9,14.84,15.74,15.7,12.99,18.49,20.14,22.48,11.57,11.74,18.9,13.7,16.95,23.0,12.05,19.4,18.6,10.9,16.8,11.5,17.05,12.55,19.0,19.81,17.0,19.59,15.17,20.4,21.4,13.2,18.5,26.0,20.0,18.33,19.0,14.95,18.9,17.6,18.9,12.99,16.8,18.88,10.91,21.56,25.83,15.26,16.8,16.95,19.1,20.0,20.3,18.6,23.4,22.7,19.3,18.9,11.4,22.07,18.49,11.2,19.01,22.5,24.52,19.7,20.51,15.1,19.6,18.2,13.06,13.5,16.0,21.0,21.7,15.15,28.4,20.63,18.5,18.12,20.77,18.9,9.43,17.9,18.134959295564048,21.1,11.74,18.6,20.3,22.9,18.6,18.5,22.9,17.5,16.9,18.0,17.1,16.8,15.29,15.1,26.6,12.8,22.9,22.5,18.9,25.8,16.07,15.6,17.0,22.7,13.0,16.0,13.0,18.9,28.4,22.9,16.47,18.16,22.0,14.21,18.9,26.0,13.4,17.21,22.32,22.95,21.1,17.11,12.99,11.74,24.4,11.7,20.34,17.0,22.7,20.0,18.6,23.9,18.9,14.16,17.5,18.5,25.32,18.23,17.1,24.3,14.28,15.1,20.68,22.54,11.57,17.3,18.5,19.4,19.3,16.47,20.36,18.1,19.81,20.77,25.8,15.5,18.9,20.36,28.4,13.0,12.99,23.8,15.7,14.49,19.81,24.4,23.1,20.36,19.87,22.69,18.9,18.134959295564048,18.0,17.4,20.54,11.5,17.0,18.12,14.16,23.2,21.21,26.0,15.2,15.0,11.5,16.52,15.1,20.73,28.09,12.99,19.1,11.36,25.0,18.5,17.8,18.2,17.8,10.8,18.7,11.0,18.9,18.5,22.0,17.4,18.7,17.8,17.01,14.4,21.1,20.0,17.0,21.64,18.7,17.0,14.94,11.18,12.9,18.7,15.8,20.73,22.9,13.1,16.73,10.5,13.4,26.6,16.8,17.68,25.0,27.3,10.5,13.0,16.55,19.1,28.4,15.1,18.6,23.0,14.69,14.16,20.68,19.2,17.01,17.11,10.13,20.36,23.0,20.54,28.4,15.4,22.54,19.7,20.36,15.4,19.5,15.3,27.3,10.0,16.0,18.0,22.9,14.84,17.0,15.3,18.5,20.4,12.9,19.67,20.38,17.0,21.9,24.2,22.32,15.3,20.36,24.3,12.99,17.9,19.7,14.84,22.9,18.9,12.55,12.4,22.77,18.16,11.5,19.1,12.05,13.14,18.9,19.01,20.73,22.7,21.66,14.84,11.7,23.1,12.05,22.69,20.54,23.4,12.39,21.9,28.4,17.1,20.77,15.6,21.43,24.3,17.0,15.4,20.14,15.0,15.7,18.7,12.0,20.68,15.04,16.55,13.8,22.32,13.68,18.9,17.0,25.17,17.0,18.9,18.78,25.2,21.64,16.36,28.09,12.8,15.6,11.72,12.05,19.6,15.2,15.1,14.0,18.9,14.0,15.5,13.68,12.99,22.07,16.78,22.7,24.0,18.0,12.8,21.1,20.36,12.3,15.96,20.0,20.4,16.55,17.8,15.0,18.9,17.16,10.5,15.4,19.7,19.01,18.134959295564048,20.89,12.99,16.77,13.6,19.01,33.54,17.11,17.1,17.43,18.0,19.67,19.81,18.49,17.5,13.2,15.1,20.92,18.6,12.4,20.7,16.1,17.57,26.0,18.6,16.55,26.1,19.08,18.0,20.36,18.56,16.55,10.1,18.9,28.09,17.4,9.52,23.1,13.73,20.0,12.8,28.4,19.0,18.134959295564048,16.1,18.9,17.3,11.9,17.21,13.4,25.32,10.9,22.74,15.73,23.59,15.1,13.0,24.6,17.9,19.67,16.8,17.11,17.3,19.7,21.4,16.0,19.0,18.6,19.27,17.8,18.88,21.4,20.36,12.8,21.4,12.07,13.01,18.134959295564048,17.0,21.9,13.6,12.9,10.9,16.07,18.9,25.47,15.68,24.52,25.0,20.92,21.1,11.4,12.62,20.54,19.12,21.1,14.16,16.0,28.4,21.1,19.71,19.01,19.1,12.99,15.8,21.79,15.1,18.0,16.36,17.8,10.8,17.8,17.68,18.5,16.8,16.47,12.05,16.8,15.0,16.0,15.0,21.4,25.8,15.04,22.74,18.0,18.0,19.01,19.7,14.24,21.9,20.0,24.3,22.32,12.95,21.1,10.8,13.0,19.87,15.5,9.0,17.5,22.5,16.8,21.5,23.5,19.16,22.5,11.0,21.4,18.7,15.4,16.47,17.0,12.1,18.9,18.12,24.07,14.84,24.7,18.6,18.2,23.0,11.9,21.43,13.0,14.3,16.5,16.47,16.47,18.2,23.59,15.1,18.9,22.7,17.5,18.0,17.0,23.1,15.04,11.36,18.5,23.2,17.68,13.24,13.5,23.84,16.55,19.1,14.24,15.26,21.9,21.5,20.54,19.1,20.4,17.0,19.67,25.6,14.0,20.4,14.0,24.7,15.6,13.68,18.48,13.01,22.48,17.8,23.59,12.7,18.3,19.7,11.5,18.134959295564048,15.8,21.4,23.8,17.01,20.0,25.8,19.01,23.0,11.2,14.24,13.45,11.18,23.1,18.6,18.88,26.21,17.11,18.0,15.63,20.92,16.77,18.33,28.4,19.2,21.56,26.0,16.8,18.16,22.54,18.88,16.55,20.58,13.93,12.05,15.29,16.9,17.05,9.0,14.7,19.7,19.2,14.62,28.09,15.3,13.58,20.64,17.8,20.4,19.33,18.6,15.1,18.0,23.1,15.04,23.9,25.0,22.77,16.1,14.62,18.2,15.97,20.14,16.25,20.54,11.18,19.87,12.9,16.1,11.3,20.36,23.0,25.8,22.32,17.9,20.14,18.134959295564048,21.4,22.9,14.0,22.7,15.1,18.6,17.01,18.9,19.01,19.1,20.36,13.7,15.8,15.04,22.32,14.95,26.59,20.36,14.0,18.9,16.82,13.4,14.28,10.4,16.0,19.5,17.44,33.54,21.1,22.07,20.36,19.0,26.6,20.51,24.2,21.1,14.84,28.09,15.26,20.0,24.3,13.45,24.0,25.47,17.0,16.0,13.7,20.73,19.67,23.59,17.0,13.5,21.9,17.0,17.0,16.1,19.0,11.1,21.4,17.9,25.17,18.16,13.0,17.0,15.4,13.2,24.3,11.74,17.01,24.0,20.14,18.0,10.1,17.92,15.0,18.0,12.55,17.01,10.5,22.69,21.9,18.5,14.0,19.1,14.02,19.27,20.36,11.5,19.16,20.0,19.1,18.6,19.2,24.6,28.4,17.0,27.39,18.3,21.1,20.14,25.44,22.48,17.9,24.07,20.14,19.81,13.5,23.4,25.4,22.71,15.8,12.9,18.5,23.08,17.5,23.0,15.04,19.01,15.73,12.99,17.57,11.5,16.09,22.7,17.0,26.59,22.69,19.34,21.4,26.21,17.9,24.5,12.99,14.74,17.6,25.44,12.8,19.7,19.3,12.8,17.11,24.3,18.9,13.4,17.6,17.0,17.01,14.0,24.7,19.27,19.81,14.67,21.5,17.8,14.8,12.05,17.92,17.8,11.1,20.77,18.6,12.07,17.11,22.3,18.1,16.1,22.69,24.0,16.95,16.1,17.92,17.54,22.1,17.43,23.4,28.4,19.5,19.6,10.5,18.12,17.3,14.0,18.6,17.0,18.0,11.7,18.48,21.64,12.07,17.9,24.3,19.3,21.13,12.07,18.9,25.1,21.1,13.0,18.134959295564048,13.2,12.05,17.45,18.5,15.87,18.6,19.1,20.77,20.45,15.5,17.11,18.7,25.8,12.8,21.1,22.7,22.9,9.5,13.1,12.55,16.3,23.4,22.32,12.05,19.81,12.99,11.36,12.99,23.4,17.01,12.99,20.54,14.8,11.18,20.36,20.36,17.0,18.0,23.1,18.9,19.3,20.36,15.06,17.11,20.45,11.56,22.5,13.5,18.6,24.07,12.07,18.6,23.84,20.36,18.134959295564048,20.46,13.49,18.5,23.4,22.0,14.84,16.82,26.0,26.21,22.0,21.1,18.12,19.4,23.2,18.88,26.59,23.4,16.95,14.39,17.5,19.09,24.0,22.3,17.8,19.87,18.48,24.0,19.4,12.3,24.7,16.2,20.77,12.9,19.67,20.34,17.4,16.8,17.0,18.9,18.9,26.2,18.9,17.8,18.6,19.87,19.3,12.8,25.4,18.12,18.6,15.4,27.4,19.67,21.4,14.16,25.8,11.0,15.6,18.9,19.81,21.66,17.85,15.04,10.4,20.73,22.7,16.5,24.07,17.5,17.57,16.1,10.91,15.8,16.95,17.0,19.3,25.0,18.9,19.67,19.0,22.5,17.3,20.36,18.134959295564048,22.54,23.1,13.4,20.0,27.3,15.0,17.9,18.5,11.8,22.32,22.69,22.32,22.5,20.0,18.15,17.0,18.49,15.17,21.5,31.79,24.3,12.7,12.6,17.92,18.18,24.3,23.4,19.5,16.36,16.82,21.1,16.77,17.19,28.4,22.7,18.9,20.34,17.6,18.7,20.14,21.66,16.8,16.5,14.3,16.8,21.19,21.4,11.1,19.1,19.3,23.4,20.85,18.9,17.8,23.9,12.0,20.0,21.12,13.5,19.7,22.48,16.0,23.2,24.3,15.1,17.5,17.01,22.5,27.62,13.01,21.1,18.5,17.1,18.4,20.4,19.27,25.2,28.4,25.44,13.7,14.84,13.68,20.36,25.8,21.9,11.57,12.05,15.3,21.4,16.52,17.1,17.0,17.21,19.4,26.59,17.0,11.18,13.1,18.134959295564048,19.7,23.0,15.8,23.08,19.4,11.18,16.46,18.9,21.4,11.68,21.8,18.5,10.5,14.53,15.97,10.9,17.01,18.49,12.05,25.17,22.5,16.1,17.0,24.7,18.6,23.0,15.73,11.57,19.81,20.51,17.8,18.9,25.1,17.5,17.5,15.1,28.09,22.32,13.1,19.4,17.19,18.88,16.96,15.26,16.1,19.01,18.56,20.5,20.51,22.1,15.1,23.0,18.56,25.2,18.12,25.0,15.1,12.07,18.48,17.1,13.01,18.134959295564048,20.51,17.3,18.5,13.7,15.3,18.9,16.8,20.36,21.7,15.0,17.21,12.05,12.9,25.44,12.8,20.85,21.7,22.95,18.9,20.34,17.68,19.3,18.0,22.69,21.1,23.4,20.14,18.0,14.4,20.51,20.14,16.47,25.8,18.53,24.7,21.5,18.53,19.01,21.66,25.83,15.42,14.84,13.0,17.0,18.6,20.54,13.1,14.8,17.8,23.0,12.99,21.5,20.0,17.85,17.01,16.55,16.0,13.8,23.4,20.73,21.1,11.0,18.48,24.0,14.47,17.8,17.92,12.8,18.6,11.0,20.0,21.43,18.9,16.3,20.89,11.5,20.54,13.68,20.0,23.59,18.06,12.7,16.07,13.2,23.1,16.36,12.4,23.08,18.0,19.87,12.99,18.0,14.94,17.71,11.36,15.8,16.1,27.39,13.45,23.1,22.7,18.8,27.3,15.1,23.08,19.27,19.0,22.9,17.5,19.09,25.8,20.4,20.77,18.9,19.69,18.9,17.1,22.07,15.5,16.09,18.88,15.6,12.83,26.59,25.2,18.4,18.9,22.95,21.1,18.6,9.0,22.7,21.1,21.9,22.0,8.0,17.8,19.4,18.6,13.0,17.7,18.5,22.77,13.2,17.01,12.8,22.5,25.47,19.7,19.0,11.0,18.15,19.2,12.9,20.36,14.84,17.6,17.0,23.4,22.0,17.01,23.2,13.0,17.1,18.6,26.6,13.93,19.3,25.0,28.4,23.1,14.69,16.47,13.93,13.6,15.6,26.0,12.6,20.0,11.5,22.32,15.1,25.17,18.6,15.6,10.91,13.7,22.69,22.8,23.2,18.134959295564048,11.5,16.1,20.3,18.0,13.2,14.21,28.4,16.02,17.01,12.63,18.134959295564048,19.27,20.36,22.07,24.3,19.87,18.0,11.3,25.4,18.1,17.01,15.6,25.2,23.08,16.47,22.69,15.0,18.134959295564048,12.07,26.21,25.1,10.93,14.57,14.02,12.0,15.5,14.53,14.4,21.1,20.0,22.9,14.28,12.99,27.28,15.41,10.91,25.17,23.0,17.5,21.43,15.4,14.16,18.2,22.69,21.64,12.8,16.8,16.8,17.4,18.134959295564048,16.6,22.54,13.0,26.2,22.77,18.5,17.8,23.08,20.0,18.44,17.8,12.8,13.7,14.0,21.9,17.01,25.2,25.2,12.8,24.4,20.77,10.91,22.54,19.0,21.1,32.26,17.0,17.5,17.05,15.0,16.0,16.95,21.4,24.3,15.6,33.54,18.19,14.95,13.33,19.3,16.2,17.01,19.81,13.0,17.3,20.36,25.8,14.1,18.5,17.0,14.69,16.7,18.9,14.74,16.36,16.0,22.7,17.11,19.01,19.1,16.47,19.7,18.9,25.4,17.84,16.47,22.74,20.7,15.2,12.62,15.8,18.9,18.2,20.85,17.57,19.27,17.3,21.1,18.9,28.4,22.32,14.74,13.7,18.9,16.47,14.8,20.0,22.5,23.4,13.0,18.9,23.08,18.9,20.54,12.55,18.134959295564048,11.36,20.0,21.1,22.7,20.7,19.64,10.91,14.28,14.0,16.77,17.3,17.8,22.9,18.0,20.77,19.01,19.3,23.2,15.1,19.4,18.134959295564048,21.02,12.8,18.6,17.01,17.3,18.0,18.0,12.7,17.4,9.5,13.8,13.0,19.0,14.07,15.6,23.19,19.08,16.1,15.1,21.5,15.0,19.67,13.0,12.55,9.0,14.21,10.2,25.8,28.4,18.6,14.53,11.49,22.9,16.3,20.4,18.7,23.59,16.47,12.9,16.78,17.01,12.8,22.7,19.0,21.4,18.2,22.32,25.8,18.51,15.0,17.11,23.4,22.3,12.99,19.64,10.0,25.8,11.57,23.2,28.09,18.134959295564048,18.48,21.4,23.5,16.0,19.7,20.7,15.1,17.92,22.9,20.0,25.17,22.9,17.3,18.9,21.12,16.0,17.5,15.73,17.8,14.84,18.0,12.8,18.6,26.6,18.7,18.06,19.12,12.55,26.1,20.77,22.74,19.4,16.2,12.8,19.67,23.59,13.44,19.67,18.7,20.54,16.0,18.49,11.1,20.77,12.83,12.55,20.77,19.5,20.36,16.8,15.5,12.9,17.9,13.14,28.09,22.7,8.7,24.0,20.5,25.44,17.21,19.2,23.59,14.53,20.36,18.16,18.5,15.0,26.59,8.77,22.7,12.55,20.3,21.9,20.54,18.5,21.9,14.21,18.9,23.0,25.17,16.9,15.04,14.39,19.01,22.32,23.1,18.9,21.9,12.3,17.05,14.3,20.36,10.5,26.0,20.92,17.8,18.9,15.6,18.9,15.5,17.4,19.6,25.8,12.99,16.07,19.81,20.45,11.3,24.3,11.8,23.0,19.08,16.47,19.64,16.5,18.16,18.53,15.97,20.36,18.6,16.4,16.2,17.1,15.3,20.0,17.68,16.47,17.05,17.4,23.0,19.0,16.1,10.1,20.0,16.0,13.6,17.97,12.35,22.74,17.6,17.0,20.36,25.2,21.1,22.69,23.57,22.74,22.07,14.28,17.92,20.4,21.64,24.3,18.06,20.0,13.1,19.01,17.71,21.27,18.16,10.5,17.11,12.4,15.26,15.3,25.8,17.8,22.7,20.14,18.6,12.8,15.26,17.3,12.62,18.6,17.5,16.47,13.7,18.9,19.1,16.2,22.7,26.2,26.0,17.0,19.01,20.36,18.7,23.65,11.9,16.47,21.1,19.5,18.6,20.45,18.9,16.07,22.7,21.5,11.7,14.49,16.2,14.95,19.2,15.1,22.7,14.3,18.9,18.6,18.2,14.3,19.67,25.44,11.5,18.6,12.07,17.85,17.8,17.21,16.55,12.37,22.32,18.9,24.52,24.4,22.9,16.0,22.48,14.28,22.54,18.15,24.7,15.7,18.9,9.5,19.4,22.54,13.0,26.83,17.8,18.15,18.0,16.0,18.134959295564048,14.84,19.6,16.47,18.48,13.5,18.134959295564048,12.9,28.4,25.8,16.07,23.5,11.5,18.6,18.6,18.9,15.6,9.1,16.1,17.11,16.8,18.2,20.14,19.87,12.51,18.5,17.0,16.0,16.3,16.0,11.79,19.44,15.4,15.5,25.6,14.4,24.0,33.44,17.43,13.68,17.05,16.96,20.0,11.18,15.04,15.0,16.47,23.65,14.53,20.77,19.2,17.9,16.9,18.15,11.5,17.0,18.53,20.0,17.9,15.26,25.83,22.7,21.4,16.1,9.9,21.76,28.4,17.01,17.1,11.4,15.1,21.5,21.1,13.5,14.69,20.77,18.0,16.6,13.5,17.3,20.77,24.0,20.14,19.81,18.0,12.4,20.36,25.17,15.2,22.74,17.8,11.74,13.22,16.2,21.38,17.0,17.0,22.7,16.51,23.4,20.77,18.6,24.0,17.4,20.5,11.0,13.01,19.7,12.4,24.8,20.0,17.0,17.8,23.9,13.0,22.7,11.2,18.12,25.83,17.0,13.8,17.68,10.8,15.0,14.24,25.17,18.0,16.2,18.88,18.134959295564048,26.59,25.4,19.0,17.0,17.8,25.1,15.6,21.4,23.2,19.5,16.2,18.6,24.4,19.0,19.4,13.0,17.6,24.4,22.7,21.9,19.4,24.52,20.36,17.0,16.0,20.54,14.0,10.2,15.1,22.9,21.4,15.1,19.1,19.27,13.14,20.14,20.89,25.2,17.8,11.5,17.5,17.21,19.87,16.8,20.54,18.9,16.6,24.4,25.8,18.0,20.4,22.48,15.5,16.4,17.0,17.0,16.55,18.9,19.08,17.9,21.76,24.2,17.01,17.0,17.8,26.59,13.0,11.5,12.8,17.21,17.4,17.11,22.07,14.8,12.99,13.0,22.1,24.7,8.7,26.59,24.3,13.2,12.55,23.0,17.11,19.64,23.1,15.9,16.95,22.69,18.9,18.9,18.9,16.47,17.7,17.9,14.0,15.74,22.74,24.3,15.1,24.3,18.6,10.0,19.7,18.0,12.65,24.0,13.5,24.0,16.1,23.59,22.54,24.07,17.05,23.1,13.7,14.0,15.1,19.1,18.88,21.43,18.5,20.37,11.0,21.1,17.97,18.9,21.56,19.1,22.32,21.5,16.8,17.71,11.68,23.59,18.06,14.42,11.36,21.38,28.4,23.9,19.7,23.65,21.1,13.24,21.1,20.65,14.21,14.16,15.3,18.88,21.1,14.21,12.8,20.36,18.9,19.4,21.9,16.47,13.0,18.7,13.1,18.3,14.0,24.2,20.77,18.9,14.74,18.0,12.4,18.6,17.0,13.4,24.07,19.7,20.51,20.4,19.3,21.64,18.5,19.1,18.9,15.1,12.55,19.64,17.92,17.01,15.06,12.9,15.26,20.51,24.3,11.8,26.59,17.0,25.47,13.2,17.0,17.0,19.7,12.05,18.9,17.0,21.1,13.73,22.69,19.4,11.7,19.3,16.0,19.81,20.73,12.8,18.9,16.52,12.83,15.1,17.4,22.7,18.6,17.9,22.0,33.44,17.6,23.4,19.7,23.1,22.7,19.01,11.1,17.8,16.0,18.7,17.8,15.7,19.5,16.02,18.44,17.0,16.78,18.88,18.7,28.4,20.5,15.1,18.9,17.0,12.8,15.1,19.3,15.04,23.59,16.55,16.02,14.53,16.1,17.0,19.1,19.16,24.0,11.36,20.36,18.9,27.39,14.67,14.84,21.1,23.4,14.8,24.52,22.7,12.55,17.21,18.7,20.14,17.92,13.2,21.1,12.8,26.8,21.56,17.5,18.0,17.8,19.4,23.59,13.5,15.64,11.36,20.54,22.7,18.9,13.0,20.14,15.3,16.1,17.1,24.07,19.3,26.59,28.09,15.8,20.0,14.53,22.7,15.6,19.0,17.3,11.5,26.21,25.17,19.2,23.1,21.38,27.3,17.0,13.7,16.95,11.7,15.1,18.6,23.08,19.12,20.54,17.0,14.53,25.1,20.4,14.21,12.99,16.1,19.27,18.9,18.9,22.77,16.47,17.01,24.04,16.5,18.16,11.5,25.0,25.83,23.4,23.08,19.3,16.96,12.07,17.0,16.07,21.19,12.7,10.5,20.0,9.8,21.9,16.36,17.1,17.4,18.5,19.4,21.9,10.4,19.0,20.3,19.7,16.0,22.9,17.05,14.3,16.09,18.5,21.9,25.2,11.7,14.28,22.32,19.01,17.8,24.07,13.0,15.04,10.1,22.7,13.0,24.0,16.6,17.6,19.0,23.2,17.8,12.99,11.8,21.14,15.8,23.1,15.04,13.5,23.59,19.4,18.0,17.0,18.7,14.53,16.78,17.05,16.4,22.54,13.0,19.67,15.73,12.63,21.66,23.1,11.05,20.73,14.16,20.0,18.88,17.0,16.36,20.4,22.48,15.0,19.4,18.6,16.8,11.5,19.81,17.0,15.4,15.5,13.33,23.59,16.95,22.07,21.1,21.9,11.3,12.99,23.1,19.3,17.3,23.9,17.0,19.68,26.21,18.9,14.94,19.16,18.6,21.4,18.9,22.07,15.97,16.47,20.45,14.67,14.16,27.39,16.47,13.5,20.73,19.87,21.1,10.8,17.01,14.28,15.5,16.47,14.16,17.0,22.5,13.5,14.7,19.67,19.7,16.8,22.7,17.67,14.8,17.21,22.77,15.29,14.24,20.85,17.0,15.4,23.1,10.93,20.36,17.71,15.0,21.1,33.54,17.0,13.0,25.0,15.29,20.51,28.4,13.8,16.47,20.36,18.2,18.134959295564048,10.5,17.8,15.1,17.71,15.1,15.29,26.0,19.3,20.51,21.1,11.36,15.8,20.51,11.3,23.1,12.05,22.7,21.2,22.7,19.1,16.55,16.5,18.9,19.81,22.32,22.32,23.2,20.5,21.4,22.32,22.3,18.5,17.85,15.1,22.69,25.47,16.9,16.93,15.73,19.81,16.96,21.1,19.81,12.8,18.6,12.8,9.8,25.32,22.07,12.4,11.79,16.46,25.6,22.07,16.0,16.09,17.4,14.16,17.0,20.4,22.74,20.0,17.92,18.9,26.0,16.8,25.1,17.0,24.07,14.21,11.2,14.0,19.72,12.05,10.91,19.0,17.0,20.36,16.5,20.51,18.51,18.134959295564048,18.9,18.25,25.17,24.7,12.99,14.53,25.83,19.4,14.2,12.05,13.0,12.05,12.39,18.6,22.9,13.4,13.22,21.1,19.5,17.01,19.6,15.6,19.7,20.36,18.0,21.14,17.68,18.7,15.29,18.6,22.7,19.1,10.0,22.9,23.1,19.3,16.8,9.0,14.67,12.99,23.1,20.77,20.0,14.0,25.8,25.17,25.17,12.07,22.32,11.36,17.0,16.47,20.54,17.7,16.2,13.2,20.0,10.93,18.6,20.36,19.81,17.0,12.98,16.0,17.2,22.5,24.3,18.134959295564048,20.54,20.14,22.9,19.81,16.0,25.47,16.0,21.12,11.0,15.6,20.51,20.63,20.0,17.2,18.5,11.36,19.4,17.2,13.0,12.55,16.51,27.3,14.53,16.9,20.68,28.4,25.32,16.0,20.4,18.9,17.8,18.9,20.54,28.09,14.4,18.5,16.5,17.4,23.9,10.13,14.0,13.7,12.07,22.0,12.8,12.05,17.9,13.68,15.9,25.2,12.99,23.59,18.6,13.8,19.27,17.6,12.8,17.54,21.13,22.0,11.1,20.0,13.4,26.0,13.93,19.0,17.8,23.01,19.12,22.54,13.68,28.09,14.74,19.1,16.12,24.4,16.55,20.73,12.8,15.8,20.36,16.95,27.39,18.2,16.46,11.33,11.7,21.1,21.64,14.28,23.59,14.28,17.68,20.77,18.9,19.09,26.59,15.26,23.84,17.8,19.5,17.11,14.4,20.54,17.0,22.5,9.3,26.0,26.6,18.134959295564048,22.74,18.6,22.7,19.59,11.7,18.0,15.85,14.74,14.53,20.36,15.8,20.0,13.1,15.6,18.0,19.1,14.7,22.7,21.1,22.74,16.47,20.36,16.95,14.53,18.1,24.7,21.9,19.08,12.07,25.0,18.0,18.9,12.55,18.13,18.9,17.0,18.6,12.8,13.0,11.36,18.2,22.9,20.5,18.2,19.87,10.5,23.1,17.88,18.6,23.1,18.9,18.6,17.1,12.39,16.1,18.0,21.43,27.4,16.77,22.5,24.2,10.1,17.1,11.72,16.95,17.7,20.36,24.4,18.19,16.6,21.4,17.0,20.64,12.07,17.0,14.84,25.8,16.6,18.5,22.74,10.6,14.6,28.4,15.1,11.1,20.36,11.5,21.9,19.98,12.07,18.0,19.01,17.8,18.0,12.05,23.2,17.0,18.88,15.0,19.1,16.36,16.9,12.8,15.1,15.2,12.8,9.8,20.34,18.6,17.8,13.5,14.66,15.1,12.8,11.57,12.05,16.8,12.0,17.0,22.5,15.4,17.0,16.0,19.0,16.07,17.67,19.01,22.07,22.69,16.95,24.07,21.1,14.16,16.8,25.8,26.0,12.9,20.34,22.48,16.07,13.0,21.76,14.84,26.59,23.1,19.59,11.33,18.2,25.4,24.7,22.5,24.4,17.8,16.36,18.33,21.27,10.5,24.3,24.07,21.1,28.09,19.67,17.2,20.14,18.48,12.99,14.21,20.14,17.32,18.5,19.81,24.7,21.1,17.92,17.92,12.7,17.4,24.3,17.11,14.21,13.5,18.6,15.73,25.1,19.81,25.2,11.4,13.8,20.68,14.21,15.1,16.7,25.8,17.3,18.5,11.0,19.67,26.59,22.9,24.0,18.16,15.97,11.78,18.9,22.32,16.73,23.08,15.5,21.12,16.55,17.8,25.2,21.43,27.3,7.94,16.25,18.134959295564048,12.35,15.3,19.08,21.7,22.3,21.19,15.0,25.17,11.68,21.1,25.8,22.07,17.0,12.55,18.0,20.58,23.1,12.99,16.36,17.5,17.05,14.3,16.09,22.77,15.1,18.6,17.92,12.0,19.7,17.8,13.01,17.9,12.8,16.07,18.6,15.04,16.02,18.9,19.67,16.77,16.0,16.05,24.4,21.21,13.0,20.36,17.11,21.9,23.5,17.0,25.47,19.7,20.51,19.08,19.7,16.09,21.4,18.134959295564048,13.7,14.24,15.6,12.0,17.4,22.9,14.53,23.59,18.9,15.7,12.0,16.36,17.0,12.39,18.6,18.0,18.134959295564048,22.74,11.36,18.9,16.55,15.0,18.5,18.9,17.0,25.01,15.0,26.59,23.59,19.1,13.5,12.99,13.2,22.74,8.1,22.7,20.14,14.3,15.73,16.0,17.0,13.9,14.2,19.69,16.5,12.99,20.64,16.0,16.9,13.5,18.0,24.52,25.8,17.4,23.8,14.53,17.0,13.7,18.9,19.81,23.84,21.4,15.04,18.9,20.0,13.9,22.74,15.68,12.4,11.0,17.0,10.1,28.09,18.9,19.67,28.09,21.1,16.02,20.54,12.8,16.47,33.44,17.9,14.66,22.9,18.6,14.0,18.9,15.04,11.7,13.5,15.0,20.5,19.7,20.38,19.87,17.8,19.67,20.0,15.26,16.8,19.08,14.49,14.8,11.5,26.21,24.3,21.76,14.4,17.0,11.0,19.1,14.21,12.39,20.36,22.32,19.33,15.1,19.7,14.67,22.9,10.5,13.7,16.55,19.01,12.8,12.39,20.54,11.62,22.7,15.3,22.7,11.7,7.94,18.9,16.47,20.62,15.29,24.07,14.66,15.11,25.8,15.9,22.9,20.5,11.0,12.05,21.64,17.5,21.1,19.4,18.06,19.7,22.69,16.47,23.1,21.5,26.21,16.55,19.4,11.79,26.0,17.05,18.0,20.0,20.4,19.27,19.3,18.56,21.1,18.25,18.16,20.92,24.7,19.27,20.3,24.4,25.8,17.8,16.2,17.11,10.2,16.0,13.1,17.2,21.4,24.4,13.5,18.6,17.0,18.6,19.1,22.5,21.9,12.55,20.36,18.9,18.6,17.0,24.3,25.8,15.26,23.0,19.81,26.59,10.37,27.39,25.44,19.4,20.0,23.1,14.84,17.0,19.4,21.4,21.1,18.13,23.0,10.91,17.4,21.5,12.9,20.54,16.8,19.67,24.4,17.9,20.0,15.0,18.49,15.8,17.1,26.6,18.6,15.2,19.49,15.26,12.83,15.8,20.5,23.4,15.8,24.0,18.49,24.0,11.7,28.4,12.55,17.68,27.3,11.33,12.05,18.3,25.44,18.25,14.3,23.4,11.5,22.9,17.0,15.26,17.8,26.1,20.36,14.6,19.7,23.59,20.4,19.27,17.88,22.74,9.3,16.47,22.0,12.05,17.8,18.88,25.4,12.99,18.4,23.84,12.05,16.73,21.43,18.0,22.0,26.59,20.73,22.7,20.92,19.0,15.1,18.49,18.2,16.1,16.47,20.5,18.6,25.8,10.0,18.59,20.38,26.59,26.59,12.8,16.09,16.73,15.1,17.0,17.0,20.14,16.0,23.59,19.01,18.56,18.5,15.1,17.8,16.8,25.2,24.0,14.75,17.0,18.0,27.39,24.0,19.3,16.1,18.134959295564048,11.5,27.3,24.3,23.4,21.66,18.134959295564048,22.74,16.47,26.0,23.4,17.11,17.8,18.16,24.3,19.01,21.19,15.7,17.7,15.6,13.06,20.36,12.81,9.74,11.3,26.59,17.11,16.47,11.5,11.5,12.8,22.9,17.5,17.1,25.4,15.3,27.62,11.5,27.62,21.1,23.5,16.47,16.2,24.3,19.4,17.5,23.1,13.0,22.7,17.8,13.1,12.51,15.1,16.47,19.2,20.36,14.81,12.0,11.7,11.74,22.07,17.4,24.3,18.6,13.93,21.64,10.9,14.53,22.32,19.3,28.4,24.07,10.5,14.84,22.0,14.2,20.4,23.9,17.9,13.0,12.8,13.2,24.7,20.92,15.64,16.1,22.5,21.14,16.0,16.0,18.5,17.9,20.5,24.0,18.6,22.95,22.54,20.5,16.0,16.1,25.0,14.84,11.57,18.134959295564048,16.8,18.5,13.0,18.9,15.0,15.63,21.1,19.15,19.0,16.47,19.7,22.32,10.0,17.57,18.4,27.3,24.07,17.3,22.54,22.7,14.21,13.7,14.21,16.0,20.36,14.2,12.07,12.05,18.7,14.0,15.1,22.07,19.3,15.73,23.1,16.8,18.6,25.17,17.9,22.7,18.6,12.99,21.64,25.2,19.0,18.6,17.9,16.02,18.9,22.07,22.7,25.1,14.28,15.1,24.7,18.59,21.1,26.59,31.79,16.55,13.7,17.57,17.0,17.4,16.95,16.1,14.4,15.74,22.0,16.55,15.5,12.62,20.4,24.0,20.14,10.0,18.6,24.07,20.77,23.1,22.5,12.05,12.8,22.07,20.0,20.45,17.0,22.5,21.14,16.0,20.0,15.96,20.64,12.99,15.1,15.8,16.96,13.93,8.2,16.47,18.5,20.77,17.4,17.0,16.96,25.8,15.1,14.53,17.0,22.69,23.0,18.5,16.8,23.2,19.81,18.2,22.32,15.8,18.2,14.16,17.0,17.0,12.07,20.36,17.0,17.5,25.0,16.2,22.9,19.0,13.9,16.07,12.8,14.94,22.54,23.2,24.3,19.1,26.0,25.17,23.59,24.07,23.84,21.9,16.55,28.4,17.0,16.0,17.0,14.66,18.134959295564048,23.1,15.8,17.88,15.04,23.1,17.9,22.74,10.91,17.57,16.09,17.5,14.0,16.2,12.55,23.1,16.07,16.9,13.17,18.06,20.14,21.1,20.36,18.6,10.37,20.36,13.6,19.4,20.73,19.3,22.07,17.05,12.07,25.83,21.76,14.0,17.3,21.4,22.0,14.7,20.14,18.134959295564048,14.16,18.53,24.0,12.05,22.95,21.1,15.4,11.1,16.2,15.1,24.0,10.91,24.0,22.9,18.6,17.5,22.69,17.7,16.95,23.0,23.1,20.77,12.8,17.8,19.1,18.5,15.0,17.19,17.0,13.6,17.8,12.9,18.6,19.67,15.73,24.7,15.06,20.36,21.66,16.47,20.73,17.21,24.4,13.5,17.7,15.96,17.4,25.4,19.01,16.98,17.11,16.0,18.06,13.2,13.68,17.0,22.9,19.64,16.47,17.19,18.12,23.4,18.134959295564048,28.4,19.08,21.9,17.5,18.6,17.0,20.73,12.7,16.1,17.57,16.0,11.7,25.4,22.7,25.0,25.8,15.1,18.56,18.9,21.4,19.08,25.47,13.6,23.2,15.6,22.7,18.6,19.4,25.8,18.48,12.07,24.0,23.08,18.9,21.1,11.74,12.7,11.18,20.73,11.8,22.0,11.49,19.01,22.32,14.28,21.76,18.88,25.2,11.72,17.2,24.0,18.134959295564048,22.5,16.0,16.55,20.54,24.3,17.3,19.81,17.5,25.1,11.5,16.0,10.9,20.0,19.0,10.91,17.97,18.7,25.44,12.1,19.01,17.9,17.57,18.5,21.5,25.4,17.0,13.2,13.9,15.6,25.8,18.9,17.8,13.0,17.68,13.5,19.3,13.4,15.4,22.5,13.0,18.2,25.4,18.5,22.69,16.0,15.8,17.5,25.4,20.0,14.8,12.7,26.0,22.5,18.9,18.1,22.54,24.07,20.5,18.0,21.19,23.1,16.55,24.8,21.8,16.2,17.0,20.36,16.46,17.01,18.9,21.1,10.5,19.81,14.0,13.5,18.2,23.4,13.0,28.4,26.2,28.4,18.9,25.17,15.64,20.0,15.15,24.07,20.34,10.5,18.56,17.0,17.44,13.5,19.3,8.6,20.77,12.8,11.7,14.84,22.7,17.71,20.36,18.134959295564048,12.39,12.8,18.5,17.0,19.15,15.87,16.8,25.8,11.5,12.97,19.67,25.44,11.36,23.4,19.67,12.65,25.8,15.29,18.19,26.0,15.29,20.0,14.69,10.5,19.87,21.1,18.9,17.9,22.48,13.0,25.17,14.94,28.09,16.0,22.69,19.08,21.38,15.04,21.76,14.4,19.72,18.6,16.96,19.67,28.09,22.54,17.01,22.07,22.07,15.0,24.5,19.64,12.9,14.7,23.1,26.21,12.8,17.05,15.6,22.7,13.9,13.5,12.55,20.36,21.64,18.12,16.52,20.36,17.5,10.0,25.8,20.68,12.99,7.5,22.71,26.59,21.5,16.96,9.8,17.8,17.01,18.9,23.4,9.74,23.59,19.81,17.01,20.14,22.48,23.0,18.9,11.5,21.4,13.0,20.36,24.7,14.67,26.59,13.1,12.8,17.0,17.0,23.59,13.7,21.64,17.0,22.54,17.4,18.0,16.47,22.9,11.4,15.4,18.9,20.14,17.1,28.09,18.134959295564048,21.64,15.0,15.1,15.0,12.55,19.67,18.5,26.6,26.0,16.1,13.8,20.85,16.8,16.8,17.01,25.17,18.9,18.9,18.6,18.0,17.8,19.08,23.59,19.0,23.9,17.9,14.7,25.44,22.07,23.65,16.8,20.64,18.9,24.04,22.74,15.8,21.4,23.2,11.0,23.2,25.44,15.5,14.0,13.5,13.0,25.44,25.83,17.4,17.9,21.38,17.8,16.55,19.81,12.05,16.46,17.01,22.0,14.49,18.3,22.54,16.0,19.1,30.46,24.0,19.7,12.99,16.95,18.0,17.3,20.51,20.0,18.0,13.2,22.32,25.2,14.8,17.3,20.0,12.05,20.68,10.93,13.7,16.5,20.36,17.4,15.6,12.8,21.0,18.15,18.6,12.0,19.3,15.97,17.68,21.4,13.01,14.39,15.0,17.92,26.6,28.09,17.4,20.45,18.88,26.0,20.45,24.0,17.0,12.55,13.68,21.4,17.0,19.81,12.07,27.03,17.8,20.92,18.5,12.05,19.6,19.67,23.84,16.0,20.34,14.8,15.5,15.3,17.54,17.11,18.6,19.87,20.54,20.36,6.4,14.74,17.5,22.3,21.27,19.1,12.99,23.84,25.17,12.8,13.0,16.8,20.36,19.67,19.5,18.78,20.36,23.08,21.5,12.99,14.53,16.8,11.3,20.46,15.41,20.36,18.15,23.1,16.98,25.1,12.6,18.9,20.45,18.9,22.77,16.95,25.83,13.5,25.17,19.4,16.1,21.9,17.2,18.9,21.21,26.0,22.54,19.15,25.17,25.6,13.68,27.39,22.77,12.99,22.7,22.07,22.54,19.87,13.8,13.1,27.39,14.84,15.9,12.85,16.73,17.92,19.5,17.68,25.83,14.95,23.1,12.8,24.0,18.9,18.9,18.6,18.2,20.92,13.0,16.55,17.0,16.78,12.0,19.6,22.9,15.04,18.19,8.2,18.9,25.17,10.9,24.3,17.0,10.5,18.134959295564048,17.5,16.55,18.9,13.5,19.71,26.6,24.07,18.6,23.4,11.8,15.63,25.1,20.92,20.77,22.54,15.64,19.7,19.5,15.8,18.9,16.78,16.78,19.01,19.3,17.9,22.7,26.2,19.12,22.7,22.95,11.4,19.6,14.42,12.55,15.26,20.5,15.1,19.3,18.7,13.7,13.2,14.74,20.45,12.5,22.32,13.0,15.04,18.19,15.4,17.5,16.1,13.22,17.45,20.54,20.85,16.02,24.7,21.9,22.7,32.26,20.34,12.05,25.83,12.99,28.4,25.17,13.1,18.134959295564048,18.88,19.67,14.69,18.69,15.6,18.6,15.73,17.0,16.1,20.0,12.55,15.8,12.99,13.0,25.8,14.28,22.3,16.0,21.1,14.74,17.0,14.94,18.9,16.02,20.5,12.8,13.7,20.14,18.134959295564048,22.32,17.0,18.6,17.3,13.5,14.0,12.4,18.5,21.4,17.6,16.47,11.74,23.59,15.3,23.84,19.87,18.25,13.93,22.9,13.7,16.3,17.0,19.87,16.36,26.2,17.24,17.57,18.5,17.68,16.09,23.1,15.3,24.3,8.7,19.3,17.85,19.16,18.5,18.134959295564048,12.8,25.8,28.4,24.4,14.0,18.9,25.44],\"x0\":\" \",\"xaxis\":\"x\",\"y0\":\" \",\"yaxis\":\"y\",\"type\":\"box\"}],                        {\"template\":{\"data\":{\"histogram2dcontour\":[{\"type\":\"histogram2dcontour\",\"colorbar\":{\"outlinewidth\":0,\"ticks\":\"\"},\"colorscale\":[[0.0,\"#0d0887\"],[0.1111111111111111,\"#46039f\"],[0.2222222222222222,\"#7201a8\"],[0.3333333333333333,\"#9c179e\"],[0.4444444444444444,\"#bd3786\"],[0.5555555555555556,\"#d8576b\"],[0.6666666666666666,\"#ed7953\"],[0.7777777777777778,\"#fb9f3a\"],[0.8888888888888888,\"#fdca26\"],[1.0,\"#f0f921\"]]}],\"choropleth\":[{\"type\":\"choropleth\",\"colorbar\":{\"outlinewidth\":0,\"ticks\":\"\"}}],\"histogram2d\":[{\"type\":\"histogram2d\",\"colorbar\":{\"outlinewidth\":0,\"ticks\":\"\"},\"colorscale\":[[0.0,\"#0d0887\"],[0.1111111111111111,\"#46039f\"],[0.2222222222222222,\"#7201a8\"],[0.3333333333333333,\"#9c179e\"],[0.4444444444444444,\"#bd3786\"],[0.5555555555555556,\"#d8576b\"],[0.6666666666666666,\"#ed7953\"],[0.7777777777777778,\"#fb9f3a\"],[0.8888888888888888,\"#fdca26\"],[1.0,\"#f0f921\"]]}],\"heatmap\":[{\"type\":\"heatmap\",\"colorbar\":{\"outlinewidth\":0,\"ticks\":\"\"},\"colorscale\":[[0.0,\"#0d0887\"],[0.1111111111111111,\"#46039f\"],[0.2222222222222222,\"#7201a8\"],[0.3333333333333333,\"#9c179e\"],[0.4444444444444444,\"#bd3786\"],[0.5555555555555556,\"#d8576b\"],[0.6666666666666666,\"#ed7953\"],[0.7777777777777778,\"#fb9f3a\"],[0.8888888888888888,\"#fdca26\"],[1.0,\"#f0f921\"]]}],\"heatmapgl\":[{\"type\":\"heatmapgl\",\"colorbar\":{\"outlinewidth\":0,\"ticks\":\"\"},\"colorscale\":[[0.0,\"#0d0887\"],[0.1111111111111111,\"#46039f\"],[0.2222222222222222,\"#7201a8\"],[0.3333333333333333,\"#9c179e\"],[0.4444444444444444,\"#bd3786\"],[0.5555555555555556,\"#d8576b\"],[0.6666666666666666,\"#ed7953\"],[0.7777777777777778,\"#fb9f3a\"],[0.8888888888888888,\"#fdca26\"],[1.0,\"#f0f921\"]]}],\"contourcarpet\":[{\"type\":\"contourcarpet\",\"colorbar\":{\"outlinewidth\":0,\"ticks\":\"\"}}],\"contour\":[{\"type\":\"contour\",\"colorbar\":{\"outlinewidth\":0,\"ticks\":\"\"},\"colorscale\":[[0.0,\"#0d0887\"],[0.1111111111111111,\"#46039f\"],[0.2222222222222222,\"#7201a8\"],[0.3333333333333333,\"#9c179e\"],[0.4444444444444444,\"#bd3786\"],[0.5555555555555556,\"#d8576b\"],[0.6666666666666666,\"#ed7953\"],[0.7777777777777778,\"#fb9f3a\"],[0.8888888888888888,\"#fdca26\"],[1.0,\"#f0f921\"]]}],\"surface\":[{\"type\":\"surface\",\"colorbar\":{\"outlinewidth\":0,\"ticks\":\"\"},\"colorscale\":[[0.0,\"#0d0887\"],[0.1111111111111111,\"#46039f\"],[0.2222222222222222,\"#7201a8\"],[0.3333333333333333,\"#9c179e\"],[0.4444444444444444,\"#bd3786\"],[0.5555555555555556,\"#d8576b\"],[0.6666666666666666,\"#ed7953\"],[0.7777777777777778,\"#fb9f3a\"],[0.8888888888888888,\"#fdca26\"],[1.0,\"#f0f921\"]]}],\"mesh3d\":[{\"type\":\"mesh3d\",\"colorbar\":{\"outlinewidth\":0,\"ticks\":\"\"}}],\"scatter\":[{\"fillpattern\":{\"fillmode\":\"overlay\",\"size\":10,\"solidity\":0.2},\"type\":\"scatter\"}],\"parcoords\":[{\"type\":\"parcoords\",\"line\":{\"colorbar\":{\"outlinewidth\":0,\"ticks\":\"\"}}}],\"scatterpolargl\":[{\"type\":\"scatterpolargl\",\"marker\":{\"colorbar\":{\"outlinewidth\":0,\"ticks\":\"\"}}}],\"bar\":[{\"error_x\":{\"color\":\"#2a3f5f\"},\"error_y\":{\"color\":\"#2a3f5f\"},\"marker\":{\"line\":{\"color\":\"#E5ECF6\",\"width\":0.5},\"pattern\":{\"fillmode\":\"overlay\",\"size\":10,\"solidity\":0.2}},\"type\":\"bar\"}],\"scattergeo\":[{\"type\":\"scattergeo\",\"marker\":{\"colorbar\":{\"outlinewidth\":0,\"ticks\":\"\"}}}],\"scatterpolar\":[{\"type\":\"scatterpolar\",\"marker\":{\"colorbar\":{\"outlinewidth\":0,\"ticks\":\"\"}}}],\"histogram\":[{\"marker\":{\"pattern\":{\"fillmode\":\"overlay\",\"size\":10,\"solidity\":0.2}},\"type\":\"histogram\"}],\"scattergl\":[{\"type\":\"scattergl\",\"marker\":{\"colorbar\":{\"outlinewidth\":0,\"ticks\":\"\"}}}],\"scatter3d\":[{\"type\":\"scatter3d\",\"line\":{\"colorbar\":{\"outlinewidth\":0,\"ticks\":\"\"}},\"marker\":{\"colorbar\":{\"outlinewidth\":0,\"ticks\":\"\"}}}],\"scattermapbox\":[{\"type\":\"scattermapbox\",\"marker\":{\"colorbar\":{\"outlinewidth\":0,\"ticks\":\"\"}}}],\"scatterternary\":[{\"type\":\"scatterternary\",\"marker\":{\"colorbar\":{\"outlinewidth\":0,\"ticks\":\"\"}}}],\"scattercarpet\":[{\"type\":\"scattercarpet\",\"marker\":{\"colorbar\":{\"outlinewidth\":0,\"ticks\":\"\"}}}],\"carpet\":[{\"aaxis\":{\"endlinecolor\":\"#2a3f5f\",\"gridcolor\":\"white\",\"linecolor\":\"white\",\"minorgridcolor\":\"white\",\"startlinecolor\":\"#2a3f5f\"},\"baxis\":{\"endlinecolor\":\"#2a3f5f\",\"gridcolor\":\"white\",\"linecolor\":\"white\",\"minorgridcolor\":\"white\",\"startlinecolor\":\"#2a3f5f\"},\"type\":\"carpet\"}],\"table\":[{\"cells\":{\"fill\":{\"color\":\"#EBF0F8\"},\"line\":{\"color\":\"white\"}},\"header\":{\"fill\":{\"color\":\"#C8D4E3\"},\"line\":{\"color\":\"white\"}},\"type\":\"table\"}],\"barpolar\":[{\"marker\":{\"line\":{\"color\":\"#E5ECF6\",\"width\":0.5},\"pattern\":{\"fillmode\":\"overlay\",\"size\":10,\"solidity\":0.2}},\"type\":\"barpolar\"}],\"pie\":[{\"automargin\":true,\"type\":\"pie\"}]},\"layout\":{\"autotypenumbers\":\"strict\",\"colorway\":[\"#636efa\",\"#EF553B\",\"#00cc96\",\"#ab63fa\",\"#FFA15A\",\"#19d3f3\",\"#FF6692\",\"#B6E880\",\"#FF97FF\",\"#FECB52\"],\"font\":{\"color\":\"#2a3f5f\"},\"hovermode\":\"closest\",\"hoverlabel\":{\"align\":\"left\"},\"paper_bgcolor\":\"white\",\"plot_bgcolor\":\"#E5ECF6\",\"polar\":{\"bgcolor\":\"#E5ECF6\",\"angularaxis\":{\"gridcolor\":\"white\",\"linecolor\":\"white\",\"ticks\":\"\"},\"radialaxis\":{\"gridcolor\":\"white\",\"linecolor\":\"white\",\"ticks\":\"\"}},\"ternary\":{\"bgcolor\":\"#E5ECF6\",\"aaxis\":{\"gridcolor\":\"white\",\"linecolor\":\"white\",\"ticks\":\"\"},\"baxis\":{\"gridcolor\":\"white\",\"linecolor\":\"white\",\"ticks\":\"\"},\"caxis\":{\"gridcolor\":\"white\",\"linecolor\":\"white\",\"ticks\":\"\"}},\"coloraxis\":{\"colorbar\":{\"outlinewidth\":0,\"ticks\":\"\"}},\"colorscale\":{\"sequential\":[[0.0,\"#0d0887\"],[0.1111111111111111,\"#46039f\"],[0.2222222222222222,\"#7201a8\"],[0.3333333333333333,\"#9c179e\"],[0.4444444444444444,\"#bd3786\"],[0.5555555555555556,\"#d8576b\"],[0.6666666666666666,\"#ed7953\"],[0.7777777777777778,\"#fb9f3a\"],[0.8888888888888888,\"#fdca26\"],[1.0,\"#f0f921\"]],\"sequentialminus\":[[0.0,\"#0d0887\"],[0.1111111111111111,\"#46039f\"],[0.2222222222222222,\"#7201a8\"],[0.3333333333333333,\"#9c179e\"],[0.4444444444444444,\"#bd3786\"],[0.5555555555555556,\"#d8576b\"],[0.6666666666666666,\"#ed7953\"],[0.7777777777777778,\"#fb9f3a\"],[0.8888888888888888,\"#fdca26\"],[1.0,\"#f0f921\"]],\"diverging\":[[0,\"#8e0152\"],[0.1,\"#c51b7d\"],[0.2,\"#de77ae\"],[0.3,\"#f1b6da\"],[0.4,\"#fde0ef\"],[0.5,\"#f7f7f7\"],[0.6,\"#e6f5d0\"],[0.7,\"#b8e186\"],[0.8,\"#7fbc41\"],[0.9,\"#4d9221\"],[1,\"#276419\"]]},\"xaxis\":{\"gridcolor\":\"white\",\"linecolor\":\"white\",\"ticks\":\"\",\"title\":{\"standoff\":15},\"zerolinecolor\":\"white\",\"automargin\":true,\"zerolinewidth\":2},\"yaxis\":{\"gridcolor\":\"white\",\"linecolor\":\"white\",\"ticks\":\"\",\"title\":{\"standoff\":15},\"zerolinecolor\":\"white\",\"automargin\":true,\"zerolinewidth\":2},\"scene\":{\"xaxis\":{\"backgroundcolor\":\"#E5ECF6\",\"gridcolor\":\"white\",\"linecolor\":\"white\",\"showbackground\":true,\"ticks\":\"\",\"zerolinecolor\":\"white\",\"gridwidth\":2},\"yaxis\":{\"backgroundcolor\":\"#E5ECF6\",\"gridcolor\":\"white\",\"linecolor\":\"white\",\"showbackground\":true,\"ticks\":\"\",\"zerolinecolor\":\"white\",\"gridwidth\":2},\"zaxis\":{\"backgroundcolor\":\"#E5ECF6\",\"gridcolor\":\"white\",\"linecolor\":\"white\",\"showbackground\":true,\"ticks\":\"\",\"zerolinecolor\":\"white\",\"gridwidth\":2}},\"shapedefaults\":{\"line\":{\"color\":\"#2a3f5f\"}},\"annotationdefaults\":{\"arrowcolor\":\"#2a3f5f\",\"arrowhead\":0,\"arrowwidth\":1},\"geo\":{\"bgcolor\":\"white\",\"landcolor\":\"#E5ECF6\",\"subunitcolor\":\"white\",\"showland\":true,\"showlakes\":true,\"lakecolor\":\"white\"},\"title\":{\"x\":0.05},\"mapbox\":{\"style\":\"light\"}}},\"xaxis\":{\"anchor\":\"y\",\"domain\":[0.0,1.0],\"title\":{\"text\":\"Mileage\"}},\"yaxis\":{\"anchor\":\"x\",\"domain\":[0.0,1.0]},\"legend\":{\"tracegroupgap\":0},\"margin\":{\"t\":60},\"boxmode\":\"group\"},                        {\"responsive\": true}                    ).then(function(){\n",
              "                            \n",
              "var gd = document.getElementById('32a76a28-eded-45de-82fc-5e508078017a');\n",
              "var x = new MutationObserver(function (mutations, observer) {{\n",
              "        var display = window.getComputedStyle(gd).display;\n",
              "        if (!display || display === 'none') {{\n",
              "            console.log([gd, 'removed!']);\n",
              "            Plotly.purge(gd);\n",
              "            observer.disconnect();\n",
              "        }}\n",
              "}});\n",
              "\n",
              "// Listen for the removal of the full notebook cells\n",
              "var notebookContainer = gd.closest('#notebook-container');\n",
              "if (notebookContainer) {{\n",
              "    x.observe(notebookContainer, {childList: true});\n",
              "}}\n",
              "\n",
              "// Listen for the clearing of the current output cell\n",
              "var outputEl = gd.closest('.output');\n",
              "if (outputEl) {{\n",
              "    x.observe(outputEl, {childList: true});\n",
              "}}\n",
              "\n",
              "                        })                };                            </script>        </div>\n",
              "</body>\n",
              "</html>"
            ]
          },
          "metadata": {}
        }
      ]
    },
    {
      "cell_type": "code",
      "source": [
        "cars[cars['Mileage']>30]"
      ],
      "metadata": {
        "colab": {
          "base_uri": "https://localhost:8080/",
          "height": 488
        },
        "id": "NYZQvjZAKVkR",
        "outputId": "52ec8798-1bc8-4faa-db95-69339abf3726"
      },
      "execution_count": 351,
      "outputs": [
        {
          "output_type": "execute_result",
          "data": {
            "text/plain": [
              "                                   Name Location  Year  Kilometers_Driven  \\\n",
              "1269  Maruti Alto 800 2016-2019 CNG LXI   Mumbai  2018              10600   \n",
              "1332             Maruti Wagon R CNG LXI     Pune  2013              79494   \n",
              "2059             Maruti Wagon R CNG LXI   Mumbai  2013              54000   \n",
              "2371             Maruti Wagon R CNG LXI     Pune  2014              29202   \n",
              "2701          Maruti Celerio CNG VXI MT    Kochi  2016              70536   \n",
              "3119   Maruti Alto K10 LXI CNG Optional    Kochi  2018              44202   \n",
              "3129             Maruti Wagon R CNG LXI    Delhi  2014              74663   \n",
              "3553  Maruti Alto 800 2016-2019 CNG LXI     Pune  2015              18000   \n",
              "3869  Maruti Alto 800 2016-2019 CNG LXI    Delhi  2012              65537   \n",
              "4141             Maruti Wagon R CNG LXI   Mumbai  2014              47200   \n",
              "4769  Maruti Alto 800 2016-2019 CNG LXI    Kochi  2017              24310   \n",
              "5178          Maruti Celerio CNG VXI MT    Delhi  2015              64687   \n",
              "5710            Maruti Alto 800 CNG LXI   Mumbai  2013              26200   \n",
              "5935            Maruti Alto K10 LXI CNG     Pune  2015              59525   \n",
              "\n",
              "     Fuel_Type Transmission Owner_Type  Mileage  Engine  Power  Seats  Price  \n",
              "1269       CNG       Manual      First    33.44   796.0  40.30    4.0   3.50  \n",
              "1332       CNG       Manual      First    33.54   998.0  67.04    5.0   2.96  \n",
              "2059       CNG       Manual      First    33.54   998.0  67.04    5.0   3.05  \n",
              "2371       CNG       Manual      First    33.54   998.0  67.04    5.0   3.90  \n",
              "2701       CNG       Manual      First    31.79   998.0  58.33    5.0   4.58  \n",
              "3119       CNG       Manual      First    32.26   998.0  58.20    4.0   4.00  \n",
              "3129       CNG       Manual      First    33.54   998.0  67.04    5.0   3.25  \n",
              "3553       CNG       Manual      First    33.44   796.0  40.30    4.0   3.00  \n",
              "3869       CNG       Manual     Second    33.44   796.0  40.30    4.0   2.10  \n",
              "4141       CNG       Manual      First    33.54   998.0  67.04    5.0   2.85  \n",
              "4769       CNG       Manual      First    33.44   796.0  40.30    4.0   3.70  \n",
              "5178       CNG       Manual      First    31.79   998.0  58.33    5.0   3.80  \n",
              "5710       CNG       Manual      First    30.46   796.0  47.30    5.0   2.15  \n",
              "5935       CNG       Manual     Second    32.26   998.0  58.20    4.0   3.10  "
            ],
            "text/html": [
              "\n",
              "  <div id=\"df-ee356177-fc90-4bcb-a9f4-e9064c16d948\" class=\"colab-df-container\">\n",
              "    <div>\n",
              "<style scoped>\n",
              "    .dataframe tbody tr th:only-of-type {\n",
              "        vertical-align: middle;\n",
              "    }\n",
              "\n",
              "    .dataframe tbody tr th {\n",
              "        vertical-align: top;\n",
              "    }\n",
              "\n",
              "    .dataframe thead th {\n",
              "        text-align: right;\n",
              "    }\n",
              "</style>\n",
              "<table border=\"1\" class=\"dataframe\">\n",
              "  <thead>\n",
              "    <tr style=\"text-align: right;\">\n",
              "      <th></th>\n",
              "      <th>Name</th>\n",
              "      <th>Location</th>\n",
              "      <th>Year</th>\n",
              "      <th>Kilometers_Driven</th>\n",
              "      <th>Fuel_Type</th>\n",
              "      <th>Transmission</th>\n",
              "      <th>Owner_Type</th>\n",
              "      <th>Mileage</th>\n",
              "      <th>Engine</th>\n",
              "      <th>Power</th>\n",
              "      <th>Seats</th>\n",
              "      <th>Price</th>\n",
              "    </tr>\n",
              "  </thead>\n",
              "  <tbody>\n",
              "    <tr>\n",
              "      <th>1269</th>\n",
              "      <td>Maruti Alto 800 2016-2019 CNG LXI</td>\n",
              "      <td>Mumbai</td>\n",
              "      <td>2018</td>\n",
              "      <td>10600</td>\n",
              "      <td>CNG</td>\n",
              "      <td>Manual</td>\n",
              "      <td>First</td>\n",
              "      <td>33.44</td>\n",
              "      <td>796.0</td>\n",
              "      <td>40.30</td>\n",
              "      <td>4.0</td>\n",
              "      <td>3.50</td>\n",
              "    </tr>\n",
              "    <tr>\n",
              "      <th>1332</th>\n",
              "      <td>Maruti Wagon R CNG LXI</td>\n",
              "      <td>Pune</td>\n",
              "      <td>2013</td>\n",
              "      <td>79494</td>\n",
              "      <td>CNG</td>\n",
              "      <td>Manual</td>\n",
              "      <td>First</td>\n",
              "      <td>33.54</td>\n",
              "      <td>998.0</td>\n",
              "      <td>67.04</td>\n",
              "      <td>5.0</td>\n",
              "      <td>2.96</td>\n",
              "    </tr>\n",
              "    <tr>\n",
              "      <th>2059</th>\n",
              "      <td>Maruti Wagon R CNG LXI</td>\n",
              "      <td>Mumbai</td>\n",
              "      <td>2013</td>\n",
              "      <td>54000</td>\n",
              "      <td>CNG</td>\n",
              "      <td>Manual</td>\n",
              "      <td>First</td>\n",
              "      <td>33.54</td>\n",
              "      <td>998.0</td>\n",
              "      <td>67.04</td>\n",
              "      <td>5.0</td>\n",
              "      <td>3.05</td>\n",
              "    </tr>\n",
              "    <tr>\n",
              "      <th>2371</th>\n",
              "      <td>Maruti Wagon R CNG LXI</td>\n",
              "      <td>Pune</td>\n",
              "      <td>2014</td>\n",
              "      <td>29202</td>\n",
              "      <td>CNG</td>\n",
              "      <td>Manual</td>\n",
              "      <td>First</td>\n",
              "      <td>33.54</td>\n",
              "      <td>998.0</td>\n",
              "      <td>67.04</td>\n",
              "      <td>5.0</td>\n",
              "      <td>3.90</td>\n",
              "    </tr>\n",
              "    <tr>\n",
              "      <th>2701</th>\n",
              "      <td>Maruti Celerio CNG VXI MT</td>\n",
              "      <td>Kochi</td>\n",
              "      <td>2016</td>\n",
              "      <td>70536</td>\n",
              "      <td>CNG</td>\n",
              "      <td>Manual</td>\n",
              "      <td>First</td>\n",
              "      <td>31.79</td>\n",
              "      <td>998.0</td>\n",
              "      <td>58.33</td>\n",
              "      <td>5.0</td>\n",
              "      <td>4.58</td>\n",
              "    </tr>\n",
              "    <tr>\n",
              "      <th>3119</th>\n",
              "      <td>Maruti Alto K10 LXI CNG Optional</td>\n",
              "      <td>Kochi</td>\n",
              "      <td>2018</td>\n",
              "      <td>44202</td>\n",
              "      <td>CNG</td>\n",
              "      <td>Manual</td>\n",
              "      <td>First</td>\n",
              "      <td>32.26</td>\n",
              "      <td>998.0</td>\n",
              "      <td>58.20</td>\n",
              "      <td>4.0</td>\n",
              "      <td>4.00</td>\n",
              "    </tr>\n",
              "    <tr>\n",
              "      <th>3129</th>\n",
              "      <td>Maruti Wagon R CNG LXI</td>\n",
              "      <td>Delhi</td>\n",
              "      <td>2014</td>\n",
              "      <td>74663</td>\n",
              "      <td>CNG</td>\n",
              "      <td>Manual</td>\n",
              "      <td>First</td>\n",
              "      <td>33.54</td>\n",
              "      <td>998.0</td>\n",
              "      <td>67.04</td>\n",
              "      <td>5.0</td>\n",
              "      <td>3.25</td>\n",
              "    </tr>\n",
              "    <tr>\n",
              "      <th>3553</th>\n",
              "      <td>Maruti Alto 800 2016-2019 CNG LXI</td>\n",
              "      <td>Pune</td>\n",
              "      <td>2015</td>\n",
              "      <td>18000</td>\n",
              "      <td>CNG</td>\n",
              "      <td>Manual</td>\n",
              "      <td>First</td>\n",
              "      <td>33.44</td>\n",
              "      <td>796.0</td>\n",
              "      <td>40.30</td>\n",
              "      <td>4.0</td>\n",
              "      <td>3.00</td>\n",
              "    </tr>\n",
              "    <tr>\n",
              "      <th>3869</th>\n",
              "      <td>Maruti Alto 800 2016-2019 CNG LXI</td>\n",
              "      <td>Delhi</td>\n",
              "      <td>2012</td>\n",
              "      <td>65537</td>\n",
              "      <td>CNG</td>\n",
              "      <td>Manual</td>\n",
              "      <td>Second</td>\n",
              "      <td>33.44</td>\n",
              "      <td>796.0</td>\n",
              "      <td>40.30</td>\n",
              "      <td>4.0</td>\n",
              "      <td>2.10</td>\n",
              "    </tr>\n",
              "    <tr>\n",
              "      <th>4141</th>\n",
              "      <td>Maruti Wagon R CNG LXI</td>\n",
              "      <td>Mumbai</td>\n",
              "      <td>2014</td>\n",
              "      <td>47200</td>\n",
              "      <td>CNG</td>\n",
              "      <td>Manual</td>\n",
              "      <td>First</td>\n",
              "      <td>33.54</td>\n",
              "      <td>998.0</td>\n",
              "      <td>67.04</td>\n",
              "      <td>5.0</td>\n",
              "      <td>2.85</td>\n",
              "    </tr>\n",
              "    <tr>\n",
              "      <th>4769</th>\n",
              "      <td>Maruti Alto 800 2016-2019 CNG LXI</td>\n",
              "      <td>Kochi</td>\n",
              "      <td>2017</td>\n",
              "      <td>24310</td>\n",
              "      <td>CNG</td>\n",
              "      <td>Manual</td>\n",
              "      <td>First</td>\n",
              "      <td>33.44</td>\n",
              "      <td>796.0</td>\n",
              "      <td>40.30</td>\n",
              "      <td>4.0</td>\n",
              "      <td>3.70</td>\n",
              "    </tr>\n",
              "    <tr>\n",
              "      <th>5178</th>\n",
              "      <td>Maruti Celerio CNG VXI MT</td>\n",
              "      <td>Delhi</td>\n",
              "      <td>2015</td>\n",
              "      <td>64687</td>\n",
              "      <td>CNG</td>\n",
              "      <td>Manual</td>\n",
              "      <td>First</td>\n",
              "      <td>31.79</td>\n",
              "      <td>998.0</td>\n",
              "      <td>58.33</td>\n",
              "      <td>5.0</td>\n",
              "      <td>3.80</td>\n",
              "    </tr>\n",
              "    <tr>\n",
              "      <th>5710</th>\n",
              "      <td>Maruti Alto 800 CNG LXI</td>\n",
              "      <td>Mumbai</td>\n",
              "      <td>2013</td>\n",
              "      <td>26200</td>\n",
              "      <td>CNG</td>\n",
              "      <td>Manual</td>\n",
              "      <td>First</td>\n",
              "      <td>30.46</td>\n",
              "      <td>796.0</td>\n",
              "      <td>47.30</td>\n",
              "      <td>5.0</td>\n",
              "      <td>2.15</td>\n",
              "    </tr>\n",
              "    <tr>\n",
              "      <th>5935</th>\n",
              "      <td>Maruti Alto K10 LXI CNG</td>\n",
              "      <td>Pune</td>\n",
              "      <td>2015</td>\n",
              "      <td>59525</td>\n",
              "      <td>CNG</td>\n",
              "      <td>Manual</td>\n",
              "      <td>Second</td>\n",
              "      <td>32.26</td>\n",
              "      <td>998.0</td>\n",
              "      <td>58.20</td>\n",
              "      <td>4.0</td>\n",
              "      <td>3.10</td>\n",
              "    </tr>\n",
              "  </tbody>\n",
              "</table>\n",
              "</div>\n",
              "    <div class=\"colab-df-buttons\">\n",
              "\n",
              "  <div class=\"colab-df-container\">\n",
              "    <button class=\"colab-df-convert\" onclick=\"convertToInteractive('df-ee356177-fc90-4bcb-a9f4-e9064c16d948')\"\n",
              "            title=\"Convert this dataframe to an interactive table.\"\n",
              "            style=\"display:none;\">\n",
              "\n",
              "  <svg xmlns=\"http://www.w3.org/2000/svg\" height=\"24px\" viewBox=\"0 -960 960 960\">\n",
              "    <path d=\"M120-120v-720h720v720H120Zm60-500h600v-160H180v160Zm220 220h160v-160H400v160Zm0 220h160v-160H400v160ZM180-400h160v-160H180v160Zm440 0h160v-160H620v160ZM180-180h160v-160H180v160Zm440 0h160v-160H620v160Z\"/>\n",
              "  </svg>\n",
              "    </button>\n",
              "\n",
              "  <style>\n",
              "    .colab-df-container {\n",
              "      display:flex;\n",
              "      gap: 12px;\n",
              "    }\n",
              "\n",
              "    .colab-df-convert {\n",
              "      background-color: #E8F0FE;\n",
              "      border: none;\n",
              "      border-radius: 50%;\n",
              "      cursor: pointer;\n",
              "      display: none;\n",
              "      fill: #1967D2;\n",
              "      height: 32px;\n",
              "      padding: 0 0 0 0;\n",
              "      width: 32px;\n",
              "    }\n",
              "\n",
              "    .colab-df-convert:hover {\n",
              "      background-color: #E2EBFA;\n",
              "      box-shadow: 0px 1px 2px rgba(60, 64, 67, 0.3), 0px 1px 3px 1px rgba(60, 64, 67, 0.15);\n",
              "      fill: #174EA6;\n",
              "    }\n",
              "\n",
              "    .colab-df-buttons div {\n",
              "      margin-bottom: 4px;\n",
              "    }\n",
              "\n",
              "    [theme=dark] .colab-df-convert {\n",
              "      background-color: #3B4455;\n",
              "      fill: #D2E3FC;\n",
              "    }\n",
              "\n",
              "    [theme=dark] .colab-df-convert:hover {\n",
              "      background-color: #434B5C;\n",
              "      box-shadow: 0px 1px 3px 1px rgba(0, 0, 0, 0.15);\n",
              "      filter: drop-shadow(0px 1px 2px rgba(0, 0, 0, 0.3));\n",
              "      fill: #FFFFFF;\n",
              "    }\n",
              "  </style>\n",
              "\n",
              "    <script>\n",
              "      const buttonEl =\n",
              "        document.querySelector('#df-ee356177-fc90-4bcb-a9f4-e9064c16d948 button.colab-df-convert');\n",
              "      buttonEl.style.display =\n",
              "        google.colab.kernel.accessAllowed ? 'block' : 'none';\n",
              "\n",
              "      async function convertToInteractive(key) {\n",
              "        const element = document.querySelector('#df-ee356177-fc90-4bcb-a9f4-e9064c16d948');\n",
              "        const dataTable =\n",
              "          await google.colab.kernel.invokeFunction('convertToInteractive',\n",
              "                                                    [key], {});\n",
              "        if (!dataTable) return;\n",
              "\n",
              "        const docLinkHtml = 'Like what you see? Visit the ' +\n",
              "          '<a target=\"_blank\" href=https://colab.research.google.com/notebooks/data_table.ipynb>data table notebook</a>'\n",
              "          + ' to learn more about interactive tables.';\n",
              "        element.innerHTML = '';\n",
              "        dataTable['output_type'] = 'display_data';\n",
              "        await google.colab.output.renderOutput(dataTable, element);\n",
              "        const docLink = document.createElement('div');\n",
              "        docLink.innerHTML = docLinkHtml;\n",
              "        element.appendChild(docLink);\n",
              "      }\n",
              "    </script>\n",
              "  </div>\n",
              "\n",
              "\n",
              "<div id=\"df-0f092ad2-49d0-4855-b37c-8885c65022d0\">\n",
              "  <button class=\"colab-df-quickchart\" onclick=\"quickchart('df-0f092ad2-49d0-4855-b37c-8885c65022d0')\"\n",
              "            title=\"Suggest charts.\"\n",
              "            style=\"display:none;\">\n",
              "\n",
              "<svg xmlns=\"http://www.w3.org/2000/svg\" height=\"24px\"viewBox=\"0 0 24 24\"\n",
              "     width=\"24px\">\n",
              "    <g>\n",
              "        <path d=\"M19 3H5c-1.1 0-2 .9-2 2v14c0 1.1.9 2 2 2h14c1.1 0 2-.9 2-2V5c0-1.1-.9-2-2-2zM9 17H7v-7h2v7zm4 0h-2V7h2v10zm4 0h-2v-4h2v4z\"/>\n",
              "    </g>\n",
              "</svg>\n",
              "  </button>\n",
              "\n",
              "<style>\n",
              "  .colab-df-quickchart {\n",
              "      --bg-color: #E8F0FE;\n",
              "      --fill-color: #1967D2;\n",
              "      --hover-bg-color: #E2EBFA;\n",
              "      --hover-fill-color: #174EA6;\n",
              "      --disabled-fill-color: #AAA;\n",
              "      --disabled-bg-color: #DDD;\n",
              "  }\n",
              "\n",
              "  [theme=dark] .colab-df-quickchart {\n",
              "      --bg-color: #3B4455;\n",
              "      --fill-color: #D2E3FC;\n",
              "      --hover-bg-color: #434B5C;\n",
              "      --hover-fill-color: #FFFFFF;\n",
              "      --disabled-bg-color: #3B4455;\n",
              "      --disabled-fill-color: #666;\n",
              "  }\n",
              "\n",
              "  .colab-df-quickchart {\n",
              "    background-color: var(--bg-color);\n",
              "    border: none;\n",
              "    border-radius: 50%;\n",
              "    cursor: pointer;\n",
              "    display: none;\n",
              "    fill: var(--fill-color);\n",
              "    height: 32px;\n",
              "    padding: 0;\n",
              "    width: 32px;\n",
              "  }\n",
              "\n",
              "  .colab-df-quickchart:hover {\n",
              "    background-color: var(--hover-bg-color);\n",
              "    box-shadow: 0 1px 2px rgba(60, 64, 67, 0.3), 0 1px 3px 1px rgba(60, 64, 67, 0.15);\n",
              "    fill: var(--button-hover-fill-color);\n",
              "  }\n",
              "\n",
              "  .colab-df-quickchart-complete:disabled,\n",
              "  .colab-df-quickchart-complete:disabled:hover {\n",
              "    background-color: var(--disabled-bg-color);\n",
              "    fill: var(--disabled-fill-color);\n",
              "    box-shadow: none;\n",
              "  }\n",
              "\n",
              "  .colab-df-spinner {\n",
              "    border: 2px solid var(--fill-color);\n",
              "    border-color: transparent;\n",
              "    border-bottom-color: var(--fill-color);\n",
              "    animation:\n",
              "      spin 1s steps(1) infinite;\n",
              "  }\n",
              "\n",
              "  @keyframes spin {\n",
              "    0% {\n",
              "      border-color: transparent;\n",
              "      border-bottom-color: var(--fill-color);\n",
              "      border-left-color: var(--fill-color);\n",
              "    }\n",
              "    20% {\n",
              "      border-color: transparent;\n",
              "      border-left-color: var(--fill-color);\n",
              "      border-top-color: var(--fill-color);\n",
              "    }\n",
              "    30% {\n",
              "      border-color: transparent;\n",
              "      border-left-color: var(--fill-color);\n",
              "      border-top-color: var(--fill-color);\n",
              "      border-right-color: var(--fill-color);\n",
              "    }\n",
              "    40% {\n",
              "      border-color: transparent;\n",
              "      border-right-color: var(--fill-color);\n",
              "      border-top-color: var(--fill-color);\n",
              "    }\n",
              "    60% {\n",
              "      border-color: transparent;\n",
              "      border-right-color: var(--fill-color);\n",
              "    }\n",
              "    80% {\n",
              "      border-color: transparent;\n",
              "      border-right-color: var(--fill-color);\n",
              "      border-bottom-color: var(--fill-color);\n",
              "    }\n",
              "    90% {\n",
              "      border-color: transparent;\n",
              "      border-bottom-color: var(--fill-color);\n",
              "    }\n",
              "  }\n",
              "</style>\n",
              "\n",
              "  <script>\n",
              "    async function quickchart(key) {\n",
              "      const quickchartButtonEl =\n",
              "        document.querySelector('#' + key + ' button');\n",
              "      quickchartButtonEl.disabled = true;  // To prevent multiple clicks.\n",
              "      quickchartButtonEl.classList.add('colab-df-spinner');\n",
              "      try {\n",
              "        const charts = await google.colab.kernel.invokeFunction(\n",
              "            'suggestCharts', [key], {});\n",
              "      } catch (error) {\n",
              "        console.error('Error during call to suggestCharts:', error);\n",
              "      }\n",
              "      quickchartButtonEl.classList.remove('colab-df-spinner');\n",
              "      quickchartButtonEl.classList.add('colab-df-quickchart-complete');\n",
              "    }\n",
              "    (() => {\n",
              "      let quickchartButtonEl =\n",
              "        document.querySelector('#df-0f092ad2-49d0-4855-b37c-8885c65022d0 button');\n",
              "      quickchartButtonEl.style.display =\n",
              "        google.colab.kernel.accessAllowed ? 'block' : 'none';\n",
              "    })();\n",
              "  </script>\n",
              "</div>\n",
              "    </div>\n",
              "  </div>\n"
            ]
          },
          "metadata": {},
          "execution_count": 351
        }
      ]
    },
    {
      "cell_type": "code",
      "source": [
        "# removing the rows which has mileage greater than 30\n",
        "cars = cars.drop(cars[cars['Mileage'] > 30].index)"
      ],
      "metadata": {
        "id": "q1KicE7ZHauL"
      },
      "execution_count": 352,
      "outputs": []
    },
    {
      "cell_type": "code",
      "source": [
        "cars"
      ],
      "metadata": {
        "colab": {
          "base_uri": "https://localhost:8080/",
          "height": 423
        },
        "id": "QNJkAVWeJp4r",
        "outputId": "2f7765fc-91a1-4b8a-ac88-7384fcd93271"
      },
      "execution_count": 353,
      "outputs": [
        {
          "output_type": "execute_result",
          "data": {
            "text/plain": [
              "                                  Name    Location  Year  Kilometers_Driven  \\\n",
              "0               Maruti Wagon R LXI CNG      Mumbai  2010              72000   \n",
              "1     Hyundai Creta 1.6 CRDi SX Option        Pune  2015              41000   \n",
              "2                         Honda Jazz V     Chennai  2011              46000   \n",
              "3                    Maruti Ertiga VDI     Chennai  2012              87000   \n",
              "4      Audi A4 New 2.0 TDI Multitronic  Coimbatore  2013              40670   \n",
              "...                                ...         ...   ...                ...   \n",
              "6014                  Maruti Swift VDI       Delhi  2014              27365   \n",
              "6015          Hyundai Xcent 1.1 CRDi S      Jaipur  2015             100000   \n",
              "6016             Mahindra Xylo D4 BSIV      Jaipur  2012              55000   \n",
              "6017                Maruti Wagon R VXI     Kolkata  2013              46000   \n",
              "6018             Chevrolet Beat Diesel   Hyderabad  2011              47000   \n",
              "\n",
              "     Fuel_Type Transmission Owner_Type  Mileage  Engine   Power  Seats  Price  \n",
              "0          CNG       Manual      First    26.60   998.0   58.16    5.0   1.75  \n",
              "1       Diesel       Manual      First    19.67  1582.0  126.20    5.0  12.50  \n",
              "2       Petrol       Manual      First    18.20  1199.0   88.70    5.0   4.50  \n",
              "3       Diesel       Manual      First    20.77  1248.0   88.76    7.0   6.00  \n",
              "4       Diesel    Automatic     Second    15.20  1968.0  140.80    5.0  17.74  \n",
              "...        ...          ...        ...      ...     ...     ...    ...    ...  \n",
              "6014    Diesel       Manual      First    28.40  1248.0   74.00    5.0   4.75  \n",
              "6015    Diesel       Manual      First    24.40  1120.0   71.00    5.0   4.00  \n",
              "6016    Diesel       Manual     Second    14.00  2498.0  112.00    8.0   2.90  \n",
              "6017    Petrol       Manual      First    18.90   998.0   67.10    5.0   2.65  \n",
              "6018    Diesel       Manual      First    25.44   936.0   57.60    5.0   2.50  \n",
              "\n",
              "[6005 rows x 12 columns]"
            ],
            "text/html": [
              "\n",
              "  <div id=\"df-99393409-e882-48be-ba7a-95d6eb07cd53\" class=\"colab-df-container\">\n",
              "    <div>\n",
              "<style scoped>\n",
              "    .dataframe tbody tr th:only-of-type {\n",
              "        vertical-align: middle;\n",
              "    }\n",
              "\n",
              "    .dataframe tbody tr th {\n",
              "        vertical-align: top;\n",
              "    }\n",
              "\n",
              "    .dataframe thead th {\n",
              "        text-align: right;\n",
              "    }\n",
              "</style>\n",
              "<table border=\"1\" class=\"dataframe\">\n",
              "  <thead>\n",
              "    <tr style=\"text-align: right;\">\n",
              "      <th></th>\n",
              "      <th>Name</th>\n",
              "      <th>Location</th>\n",
              "      <th>Year</th>\n",
              "      <th>Kilometers_Driven</th>\n",
              "      <th>Fuel_Type</th>\n",
              "      <th>Transmission</th>\n",
              "      <th>Owner_Type</th>\n",
              "      <th>Mileage</th>\n",
              "      <th>Engine</th>\n",
              "      <th>Power</th>\n",
              "      <th>Seats</th>\n",
              "      <th>Price</th>\n",
              "    </tr>\n",
              "  </thead>\n",
              "  <tbody>\n",
              "    <tr>\n",
              "      <th>0</th>\n",
              "      <td>Maruti Wagon R LXI CNG</td>\n",
              "      <td>Mumbai</td>\n",
              "      <td>2010</td>\n",
              "      <td>72000</td>\n",
              "      <td>CNG</td>\n",
              "      <td>Manual</td>\n",
              "      <td>First</td>\n",
              "      <td>26.60</td>\n",
              "      <td>998.0</td>\n",
              "      <td>58.16</td>\n",
              "      <td>5.0</td>\n",
              "      <td>1.75</td>\n",
              "    </tr>\n",
              "    <tr>\n",
              "      <th>1</th>\n",
              "      <td>Hyundai Creta 1.6 CRDi SX Option</td>\n",
              "      <td>Pune</td>\n",
              "      <td>2015</td>\n",
              "      <td>41000</td>\n",
              "      <td>Diesel</td>\n",
              "      <td>Manual</td>\n",
              "      <td>First</td>\n",
              "      <td>19.67</td>\n",
              "      <td>1582.0</td>\n",
              "      <td>126.20</td>\n",
              "      <td>5.0</td>\n",
              "      <td>12.50</td>\n",
              "    </tr>\n",
              "    <tr>\n",
              "      <th>2</th>\n",
              "      <td>Honda Jazz V</td>\n",
              "      <td>Chennai</td>\n",
              "      <td>2011</td>\n",
              "      <td>46000</td>\n",
              "      <td>Petrol</td>\n",
              "      <td>Manual</td>\n",
              "      <td>First</td>\n",
              "      <td>18.20</td>\n",
              "      <td>1199.0</td>\n",
              "      <td>88.70</td>\n",
              "      <td>5.0</td>\n",
              "      <td>4.50</td>\n",
              "    </tr>\n",
              "    <tr>\n",
              "      <th>3</th>\n",
              "      <td>Maruti Ertiga VDI</td>\n",
              "      <td>Chennai</td>\n",
              "      <td>2012</td>\n",
              "      <td>87000</td>\n",
              "      <td>Diesel</td>\n",
              "      <td>Manual</td>\n",
              "      <td>First</td>\n",
              "      <td>20.77</td>\n",
              "      <td>1248.0</td>\n",
              "      <td>88.76</td>\n",
              "      <td>7.0</td>\n",
              "      <td>6.00</td>\n",
              "    </tr>\n",
              "    <tr>\n",
              "      <th>4</th>\n",
              "      <td>Audi A4 New 2.0 TDI Multitronic</td>\n",
              "      <td>Coimbatore</td>\n",
              "      <td>2013</td>\n",
              "      <td>40670</td>\n",
              "      <td>Diesel</td>\n",
              "      <td>Automatic</td>\n",
              "      <td>Second</td>\n",
              "      <td>15.20</td>\n",
              "      <td>1968.0</td>\n",
              "      <td>140.80</td>\n",
              "      <td>5.0</td>\n",
              "      <td>17.74</td>\n",
              "    </tr>\n",
              "    <tr>\n",
              "      <th>...</th>\n",
              "      <td>...</td>\n",
              "      <td>...</td>\n",
              "      <td>...</td>\n",
              "      <td>...</td>\n",
              "      <td>...</td>\n",
              "      <td>...</td>\n",
              "      <td>...</td>\n",
              "      <td>...</td>\n",
              "      <td>...</td>\n",
              "      <td>...</td>\n",
              "      <td>...</td>\n",
              "      <td>...</td>\n",
              "    </tr>\n",
              "    <tr>\n",
              "      <th>6014</th>\n",
              "      <td>Maruti Swift VDI</td>\n",
              "      <td>Delhi</td>\n",
              "      <td>2014</td>\n",
              "      <td>27365</td>\n",
              "      <td>Diesel</td>\n",
              "      <td>Manual</td>\n",
              "      <td>First</td>\n",
              "      <td>28.40</td>\n",
              "      <td>1248.0</td>\n",
              "      <td>74.00</td>\n",
              "      <td>5.0</td>\n",
              "      <td>4.75</td>\n",
              "    </tr>\n",
              "    <tr>\n",
              "      <th>6015</th>\n",
              "      <td>Hyundai Xcent 1.1 CRDi S</td>\n",
              "      <td>Jaipur</td>\n",
              "      <td>2015</td>\n",
              "      <td>100000</td>\n",
              "      <td>Diesel</td>\n",
              "      <td>Manual</td>\n",
              "      <td>First</td>\n",
              "      <td>24.40</td>\n",
              "      <td>1120.0</td>\n",
              "      <td>71.00</td>\n",
              "      <td>5.0</td>\n",
              "      <td>4.00</td>\n",
              "    </tr>\n",
              "    <tr>\n",
              "      <th>6016</th>\n",
              "      <td>Mahindra Xylo D4 BSIV</td>\n",
              "      <td>Jaipur</td>\n",
              "      <td>2012</td>\n",
              "      <td>55000</td>\n",
              "      <td>Diesel</td>\n",
              "      <td>Manual</td>\n",
              "      <td>Second</td>\n",
              "      <td>14.00</td>\n",
              "      <td>2498.0</td>\n",
              "      <td>112.00</td>\n",
              "      <td>8.0</td>\n",
              "      <td>2.90</td>\n",
              "    </tr>\n",
              "    <tr>\n",
              "      <th>6017</th>\n",
              "      <td>Maruti Wagon R VXI</td>\n",
              "      <td>Kolkata</td>\n",
              "      <td>2013</td>\n",
              "      <td>46000</td>\n",
              "      <td>Petrol</td>\n",
              "      <td>Manual</td>\n",
              "      <td>First</td>\n",
              "      <td>18.90</td>\n",
              "      <td>998.0</td>\n",
              "      <td>67.10</td>\n",
              "      <td>5.0</td>\n",
              "      <td>2.65</td>\n",
              "    </tr>\n",
              "    <tr>\n",
              "      <th>6018</th>\n",
              "      <td>Chevrolet Beat Diesel</td>\n",
              "      <td>Hyderabad</td>\n",
              "      <td>2011</td>\n",
              "      <td>47000</td>\n",
              "      <td>Diesel</td>\n",
              "      <td>Manual</td>\n",
              "      <td>First</td>\n",
              "      <td>25.44</td>\n",
              "      <td>936.0</td>\n",
              "      <td>57.60</td>\n",
              "      <td>5.0</td>\n",
              "      <td>2.50</td>\n",
              "    </tr>\n",
              "  </tbody>\n",
              "</table>\n",
              "<p>6005 rows × 12 columns</p>\n",
              "</div>\n",
              "    <div class=\"colab-df-buttons\">\n",
              "\n",
              "  <div class=\"colab-df-container\">\n",
              "    <button class=\"colab-df-convert\" onclick=\"convertToInteractive('df-99393409-e882-48be-ba7a-95d6eb07cd53')\"\n",
              "            title=\"Convert this dataframe to an interactive table.\"\n",
              "            style=\"display:none;\">\n",
              "\n",
              "  <svg xmlns=\"http://www.w3.org/2000/svg\" height=\"24px\" viewBox=\"0 -960 960 960\">\n",
              "    <path d=\"M120-120v-720h720v720H120Zm60-500h600v-160H180v160Zm220 220h160v-160H400v160Zm0 220h160v-160H400v160ZM180-400h160v-160H180v160Zm440 0h160v-160H620v160ZM180-180h160v-160H180v160Zm440 0h160v-160H620v160Z\"/>\n",
              "  </svg>\n",
              "    </button>\n",
              "\n",
              "  <style>\n",
              "    .colab-df-container {\n",
              "      display:flex;\n",
              "      gap: 12px;\n",
              "    }\n",
              "\n",
              "    .colab-df-convert {\n",
              "      background-color: #E8F0FE;\n",
              "      border: none;\n",
              "      border-radius: 50%;\n",
              "      cursor: pointer;\n",
              "      display: none;\n",
              "      fill: #1967D2;\n",
              "      height: 32px;\n",
              "      padding: 0 0 0 0;\n",
              "      width: 32px;\n",
              "    }\n",
              "\n",
              "    .colab-df-convert:hover {\n",
              "      background-color: #E2EBFA;\n",
              "      box-shadow: 0px 1px 2px rgba(60, 64, 67, 0.3), 0px 1px 3px 1px rgba(60, 64, 67, 0.15);\n",
              "      fill: #174EA6;\n",
              "    }\n",
              "\n",
              "    .colab-df-buttons div {\n",
              "      margin-bottom: 4px;\n",
              "    }\n",
              "\n",
              "    [theme=dark] .colab-df-convert {\n",
              "      background-color: #3B4455;\n",
              "      fill: #D2E3FC;\n",
              "    }\n",
              "\n",
              "    [theme=dark] .colab-df-convert:hover {\n",
              "      background-color: #434B5C;\n",
              "      box-shadow: 0px 1px 3px 1px rgba(0, 0, 0, 0.15);\n",
              "      filter: drop-shadow(0px 1px 2px rgba(0, 0, 0, 0.3));\n",
              "      fill: #FFFFFF;\n",
              "    }\n",
              "  </style>\n",
              "\n",
              "    <script>\n",
              "      const buttonEl =\n",
              "        document.querySelector('#df-99393409-e882-48be-ba7a-95d6eb07cd53 button.colab-df-convert');\n",
              "      buttonEl.style.display =\n",
              "        google.colab.kernel.accessAllowed ? 'block' : 'none';\n",
              "\n",
              "      async function convertToInteractive(key) {\n",
              "        const element = document.querySelector('#df-99393409-e882-48be-ba7a-95d6eb07cd53');\n",
              "        const dataTable =\n",
              "          await google.colab.kernel.invokeFunction('convertToInteractive',\n",
              "                                                    [key], {});\n",
              "        if (!dataTable) return;\n",
              "\n",
              "        const docLinkHtml = 'Like what you see? Visit the ' +\n",
              "          '<a target=\"_blank\" href=https://colab.research.google.com/notebooks/data_table.ipynb>data table notebook</a>'\n",
              "          + ' to learn more about interactive tables.';\n",
              "        element.innerHTML = '';\n",
              "        dataTable['output_type'] = 'display_data';\n",
              "        await google.colab.output.renderOutput(dataTable, element);\n",
              "        const docLink = document.createElement('div');\n",
              "        docLink.innerHTML = docLinkHtml;\n",
              "        element.appendChild(docLink);\n",
              "      }\n",
              "    </script>\n",
              "  </div>\n",
              "\n",
              "\n",
              "<div id=\"df-9fd5bf97-f7ee-458d-9207-982ea6283629\">\n",
              "  <button class=\"colab-df-quickchart\" onclick=\"quickchart('df-9fd5bf97-f7ee-458d-9207-982ea6283629')\"\n",
              "            title=\"Suggest charts.\"\n",
              "            style=\"display:none;\">\n",
              "\n",
              "<svg xmlns=\"http://www.w3.org/2000/svg\" height=\"24px\"viewBox=\"0 0 24 24\"\n",
              "     width=\"24px\">\n",
              "    <g>\n",
              "        <path d=\"M19 3H5c-1.1 0-2 .9-2 2v14c0 1.1.9 2 2 2h14c1.1 0 2-.9 2-2V5c0-1.1-.9-2-2-2zM9 17H7v-7h2v7zm4 0h-2V7h2v10zm4 0h-2v-4h2v4z\"/>\n",
              "    </g>\n",
              "</svg>\n",
              "  </button>\n",
              "\n",
              "<style>\n",
              "  .colab-df-quickchart {\n",
              "      --bg-color: #E8F0FE;\n",
              "      --fill-color: #1967D2;\n",
              "      --hover-bg-color: #E2EBFA;\n",
              "      --hover-fill-color: #174EA6;\n",
              "      --disabled-fill-color: #AAA;\n",
              "      --disabled-bg-color: #DDD;\n",
              "  }\n",
              "\n",
              "  [theme=dark] .colab-df-quickchart {\n",
              "      --bg-color: #3B4455;\n",
              "      --fill-color: #D2E3FC;\n",
              "      --hover-bg-color: #434B5C;\n",
              "      --hover-fill-color: #FFFFFF;\n",
              "      --disabled-bg-color: #3B4455;\n",
              "      --disabled-fill-color: #666;\n",
              "  }\n",
              "\n",
              "  .colab-df-quickchart {\n",
              "    background-color: var(--bg-color);\n",
              "    border: none;\n",
              "    border-radius: 50%;\n",
              "    cursor: pointer;\n",
              "    display: none;\n",
              "    fill: var(--fill-color);\n",
              "    height: 32px;\n",
              "    padding: 0;\n",
              "    width: 32px;\n",
              "  }\n",
              "\n",
              "  .colab-df-quickchart:hover {\n",
              "    background-color: var(--hover-bg-color);\n",
              "    box-shadow: 0 1px 2px rgba(60, 64, 67, 0.3), 0 1px 3px 1px rgba(60, 64, 67, 0.15);\n",
              "    fill: var(--button-hover-fill-color);\n",
              "  }\n",
              "\n",
              "  .colab-df-quickchart-complete:disabled,\n",
              "  .colab-df-quickchart-complete:disabled:hover {\n",
              "    background-color: var(--disabled-bg-color);\n",
              "    fill: var(--disabled-fill-color);\n",
              "    box-shadow: none;\n",
              "  }\n",
              "\n",
              "  .colab-df-spinner {\n",
              "    border: 2px solid var(--fill-color);\n",
              "    border-color: transparent;\n",
              "    border-bottom-color: var(--fill-color);\n",
              "    animation:\n",
              "      spin 1s steps(1) infinite;\n",
              "  }\n",
              "\n",
              "  @keyframes spin {\n",
              "    0% {\n",
              "      border-color: transparent;\n",
              "      border-bottom-color: var(--fill-color);\n",
              "      border-left-color: var(--fill-color);\n",
              "    }\n",
              "    20% {\n",
              "      border-color: transparent;\n",
              "      border-left-color: var(--fill-color);\n",
              "      border-top-color: var(--fill-color);\n",
              "    }\n",
              "    30% {\n",
              "      border-color: transparent;\n",
              "      border-left-color: var(--fill-color);\n",
              "      border-top-color: var(--fill-color);\n",
              "      border-right-color: var(--fill-color);\n",
              "    }\n",
              "    40% {\n",
              "      border-color: transparent;\n",
              "      border-right-color: var(--fill-color);\n",
              "      border-top-color: var(--fill-color);\n",
              "    }\n",
              "    60% {\n",
              "      border-color: transparent;\n",
              "      border-right-color: var(--fill-color);\n",
              "    }\n",
              "    80% {\n",
              "      border-color: transparent;\n",
              "      border-right-color: var(--fill-color);\n",
              "      border-bottom-color: var(--fill-color);\n",
              "    }\n",
              "    90% {\n",
              "      border-color: transparent;\n",
              "      border-bottom-color: var(--fill-color);\n",
              "    }\n",
              "  }\n",
              "</style>\n",
              "\n",
              "  <script>\n",
              "    async function quickchart(key) {\n",
              "      const quickchartButtonEl =\n",
              "        document.querySelector('#' + key + ' button');\n",
              "      quickchartButtonEl.disabled = true;  // To prevent multiple clicks.\n",
              "      quickchartButtonEl.classList.add('colab-df-spinner');\n",
              "      try {\n",
              "        const charts = await google.colab.kernel.invokeFunction(\n",
              "            'suggestCharts', [key], {});\n",
              "      } catch (error) {\n",
              "        console.error('Error during call to suggestCharts:', error);\n",
              "      }\n",
              "      quickchartButtonEl.classList.remove('colab-df-spinner');\n",
              "      quickchartButtonEl.classList.add('colab-df-quickchart-complete');\n",
              "    }\n",
              "    (() => {\n",
              "      let quickchartButtonEl =\n",
              "        document.querySelector('#df-9fd5bf97-f7ee-458d-9207-982ea6283629 button');\n",
              "      quickchartButtonEl.style.display =\n",
              "        google.colab.kernel.accessAllowed ? 'block' : 'none';\n",
              "    })();\n",
              "  </script>\n",
              "</div>\n",
              "    </div>\n",
              "  </div>\n"
            ]
          },
          "metadata": {},
          "execution_count": 353
        }
      ]
    },
    {
      "cell_type": "code",
      "source": [
        "cars['Fuel_Type'].unique() #To find the unique values in the column"
      ],
      "metadata": {
        "colab": {
          "base_uri": "https://localhost:8080/"
        },
        "id": "gsOc-bBRKle5",
        "outputId": "4d56e847-c546-4f02-da15-7650e7f7b02d"
      },
      "execution_count": 354,
      "outputs": [
        {
          "output_type": "execute_result",
          "data": {
            "text/plain": [
              "array(['CNG', 'Diesel', 'Petrol', 'LPG', 'Electric'], dtype=object)"
            ]
          },
          "metadata": {},
          "execution_count": 354
        }
      ]
    },
    {
      "cell_type": "code",
      "source": [
        "cars['Fuel_Type'].value_counts()  # to get the number of unique values in the column"
      ],
      "metadata": {
        "colab": {
          "base_uri": "https://localhost:8080/"
        },
        "id": "_TFJkXqwLUbs",
        "outputId": "a1c5b955-32d5-41c9-da2b-3bea38cd881a"
      },
      "execution_count": 355,
      "outputs": [
        {
          "output_type": "execute_result",
          "data": {
            "text/plain": [
              "Diesel      3205\n",
              "Petrol      2746\n",
              "CNG           42\n",
              "LPG           10\n",
              "Electric       2\n",
              "Name: Fuel_Type, dtype: int64"
            ]
          },
          "metadata": {},
          "execution_count": 355
        }
      ]
    },
    {
      "cell_type": "code",
      "source": [
        "cars[cars['Fuel_Type'] == 'Electric'] #Accessing the electric vehicles on the list"
      ],
      "metadata": {
        "colab": {
          "base_uri": "https://localhost:8080/",
          "height": 112
        },
        "id": "2pnQ_Hx-LfT6",
        "outputId": "8887ee60-1cff-4637-fda8-8b73c8359808"
      },
      "execution_count": 356,
      "outputs": [
        {
          "output_type": "execute_result",
          "data": {
            "text/plain": [
              "                           Name Location  Year  Kilometers_Driven Fuel_Type  \\\n",
              "4446       Mahindra E Verito D4  Chennai  2016              50000  Electric   \n",
              "4904  Toyota Prius 2009-2016 Z4   Mumbai  2011              44000  Electric   \n",
              "\n",
              "     Transmission Owner_Type  Mileage  Engine  Power  Seats  Price  \n",
              "4446    Automatic      First    18.13    72.0   41.0    5.0  13.00  \n",
              "4904    Automatic      First    18.13  1798.0   73.0    5.0  12.75  "
            ],
            "text/html": [
              "\n",
              "  <div id=\"df-1618dbfd-def9-43c0-b2c0-3a93330147d7\" class=\"colab-df-container\">\n",
              "    <div>\n",
              "<style scoped>\n",
              "    .dataframe tbody tr th:only-of-type {\n",
              "        vertical-align: middle;\n",
              "    }\n",
              "\n",
              "    .dataframe tbody tr th {\n",
              "        vertical-align: top;\n",
              "    }\n",
              "\n",
              "    .dataframe thead th {\n",
              "        text-align: right;\n",
              "    }\n",
              "</style>\n",
              "<table border=\"1\" class=\"dataframe\">\n",
              "  <thead>\n",
              "    <tr style=\"text-align: right;\">\n",
              "      <th></th>\n",
              "      <th>Name</th>\n",
              "      <th>Location</th>\n",
              "      <th>Year</th>\n",
              "      <th>Kilometers_Driven</th>\n",
              "      <th>Fuel_Type</th>\n",
              "      <th>Transmission</th>\n",
              "      <th>Owner_Type</th>\n",
              "      <th>Mileage</th>\n",
              "      <th>Engine</th>\n",
              "      <th>Power</th>\n",
              "      <th>Seats</th>\n",
              "      <th>Price</th>\n",
              "    </tr>\n",
              "  </thead>\n",
              "  <tbody>\n",
              "    <tr>\n",
              "      <th>4446</th>\n",
              "      <td>Mahindra E Verito D4</td>\n",
              "      <td>Chennai</td>\n",
              "      <td>2016</td>\n",
              "      <td>50000</td>\n",
              "      <td>Electric</td>\n",
              "      <td>Automatic</td>\n",
              "      <td>First</td>\n",
              "      <td>18.13</td>\n",
              "      <td>72.0</td>\n",
              "      <td>41.0</td>\n",
              "      <td>5.0</td>\n",
              "      <td>13.00</td>\n",
              "    </tr>\n",
              "    <tr>\n",
              "      <th>4904</th>\n",
              "      <td>Toyota Prius 2009-2016 Z4</td>\n",
              "      <td>Mumbai</td>\n",
              "      <td>2011</td>\n",
              "      <td>44000</td>\n",
              "      <td>Electric</td>\n",
              "      <td>Automatic</td>\n",
              "      <td>First</td>\n",
              "      <td>18.13</td>\n",
              "      <td>1798.0</td>\n",
              "      <td>73.0</td>\n",
              "      <td>5.0</td>\n",
              "      <td>12.75</td>\n",
              "    </tr>\n",
              "  </tbody>\n",
              "</table>\n",
              "</div>\n",
              "    <div class=\"colab-df-buttons\">\n",
              "\n",
              "  <div class=\"colab-df-container\">\n",
              "    <button class=\"colab-df-convert\" onclick=\"convertToInteractive('df-1618dbfd-def9-43c0-b2c0-3a93330147d7')\"\n",
              "            title=\"Convert this dataframe to an interactive table.\"\n",
              "            style=\"display:none;\">\n",
              "\n",
              "  <svg xmlns=\"http://www.w3.org/2000/svg\" height=\"24px\" viewBox=\"0 -960 960 960\">\n",
              "    <path d=\"M120-120v-720h720v720H120Zm60-500h600v-160H180v160Zm220 220h160v-160H400v160Zm0 220h160v-160H400v160ZM180-400h160v-160H180v160Zm440 0h160v-160H620v160ZM180-180h160v-160H180v160Zm440 0h160v-160H620v160Z\"/>\n",
              "  </svg>\n",
              "    </button>\n",
              "\n",
              "  <style>\n",
              "    .colab-df-container {\n",
              "      display:flex;\n",
              "      gap: 12px;\n",
              "    }\n",
              "\n",
              "    .colab-df-convert {\n",
              "      background-color: #E8F0FE;\n",
              "      border: none;\n",
              "      border-radius: 50%;\n",
              "      cursor: pointer;\n",
              "      display: none;\n",
              "      fill: #1967D2;\n",
              "      height: 32px;\n",
              "      padding: 0 0 0 0;\n",
              "      width: 32px;\n",
              "    }\n",
              "\n",
              "    .colab-df-convert:hover {\n",
              "      background-color: #E2EBFA;\n",
              "      box-shadow: 0px 1px 2px rgba(60, 64, 67, 0.3), 0px 1px 3px 1px rgba(60, 64, 67, 0.15);\n",
              "      fill: #174EA6;\n",
              "    }\n",
              "\n",
              "    .colab-df-buttons div {\n",
              "      margin-bottom: 4px;\n",
              "    }\n",
              "\n",
              "    [theme=dark] .colab-df-convert {\n",
              "      background-color: #3B4455;\n",
              "      fill: #D2E3FC;\n",
              "    }\n",
              "\n",
              "    [theme=dark] .colab-df-convert:hover {\n",
              "      background-color: #434B5C;\n",
              "      box-shadow: 0px 1px 3px 1px rgba(0, 0, 0, 0.15);\n",
              "      filter: drop-shadow(0px 1px 2px rgba(0, 0, 0, 0.3));\n",
              "      fill: #FFFFFF;\n",
              "    }\n",
              "  </style>\n",
              "\n",
              "    <script>\n",
              "      const buttonEl =\n",
              "        document.querySelector('#df-1618dbfd-def9-43c0-b2c0-3a93330147d7 button.colab-df-convert');\n",
              "      buttonEl.style.display =\n",
              "        google.colab.kernel.accessAllowed ? 'block' : 'none';\n",
              "\n",
              "      async function convertToInteractive(key) {\n",
              "        const element = document.querySelector('#df-1618dbfd-def9-43c0-b2c0-3a93330147d7');\n",
              "        const dataTable =\n",
              "          await google.colab.kernel.invokeFunction('convertToInteractive',\n",
              "                                                    [key], {});\n",
              "        if (!dataTable) return;\n",
              "\n",
              "        const docLinkHtml = 'Like what you see? Visit the ' +\n",
              "          '<a target=\"_blank\" href=https://colab.research.google.com/notebooks/data_table.ipynb>data table notebook</a>'\n",
              "          + ' to learn more about interactive tables.';\n",
              "        element.innerHTML = '';\n",
              "        dataTable['output_type'] = 'display_data';\n",
              "        await google.colab.output.renderOutput(dataTable, element);\n",
              "        const docLink = document.createElement('div');\n",
              "        docLink.innerHTML = docLinkHtml;\n",
              "        element.appendChild(docLink);\n",
              "      }\n",
              "    </script>\n",
              "  </div>\n",
              "\n",
              "\n",
              "<div id=\"df-77693801-3c11-4eda-97bd-a0bff571a26b\">\n",
              "  <button class=\"colab-df-quickchart\" onclick=\"quickchart('df-77693801-3c11-4eda-97bd-a0bff571a26b')\"\n",
              "            title=\"Suggest charts.\"\n",
              "            style=\"display:none;\">\n",
              "\n",
              "<svg xmlns=\"http://www.w3.org/2000/svg\" height=\"24px\"viewBox=\"0 0 24 24\"\n",
              "     width=\"24px\">\n",
              "    <g>\n",
              "        <path d=\"M19 3H5c-1.1 0-2 .9-2 2v14c0 1.1.9 2 2 2h14c1.1 0 2-.9 2-2V5c0-1.1-.9-2-2-2zM9 17H7v-7h2v7zm4 0h-2V7h2v10zm4 0h-2v-4h2v4z\"/>\n",
              "    </g>\n",
              "</svg>\n",
              "  </button>\n",
              "\n",
              "<style>\n",
              "  .colab-df-quickchart {\n",
              "      --bg-color: #E8F0FE;\n",
              "      --fill-color: #1967D2;\n",
              "      --hover-bg-color: #E2EBFA;\n",
              "      --hover-fill-color: #174EA6;\n",
              "      --disabled-fill-color: #AAA;\n",
              "      --disabled-bg-color: #DDD;\n",
              "  }\n",
              "\n",
              "  [theme=dark] .colab-df-quickchart {\n",
              "      --bg-color: #3B4455;\n",
              "      --fill-color: #D2E3FC;\n",
              "      --hover-bg-color: #434B5C;\n",
              "      --hover-fill-color: #FFFFFF;\n",
              "      --disabled-bg-color: #3B4455;\n",
              "      --disabled-fill-color: #666;\n",
              "  }\n",
              "\n",
              "  .colab-df-quickchart {\n",
              "    background-color: var(--bg-color);\n",
              "    border: none;\n",
              "    border-radius: 50%;\n",
              "    cursor: pointer;\n",
              "    display: none;\n",
              "    fill: var(--fill-color);\n",
              "    height: 32px;\n",
              "    padding: 0;\n",
              "    width: 32px;\n",
              "  }\n",
              "\n",
              "  .colab-df-quickchart:hover {\n",
              "    background-color: var(--hover-bg-color);\n",
              "    box-shadow: 0 1px 2px rgba(60, 64, 67, 0.3), 0 1px 3px 1px rgba(60, 64, 67, 0.15);\n",
              "    fill: var(--button-hover-fill-color);\n",
              "  }\n",
              "\n",
              "  .colab-df-quickchart-complete:disabled,\n",
              "  .colab-df-quickchart-complete:disabled:hover {\n",
              "    background-color: var(--disabled-bg-color);\n",
              "    fill: var(--disabled-fill-color);\n",
              "    box-shadow: none;\n",
              "  }\n",
              "\n",
              "  .colab-df-spinner {\n",
              "    border: 2px solid var(--fill-color);\n",
              "    border-color: transparent;\n",
              "    border-bottom-color: var(--fill-color);\n",
              "    animation:\n",
              "      spin 1s steps(1) infinite;\n",
              "  }\n",
              "\n",
              "  @keyframes spin {\n",
              "    0% {\n",
              "      border-color: transparent;\n",
              "      border-bottom-color: var(--fill-color);\n",
              "      border-left-color: var(--fill-color);\n",
              "    }\n",
              "    20% {\n",
              "      border-color: transparent;\n",
              "      border-left-color: var(--fill-color);\n",
              "      border-top-color: var(--fill-color);\n",
              "    }\n",
              "    30% {\n",
              "      border-color: transparent;\n",
              "      border-left-color: var(--fill-color);\n",
              "      border-top-color: var(--fill-color);\n",
              "      border-right-color: var(--fill-color);\n",
              "    }\n",
              "    40% {\n",
              "      border-color: transparent;\n",
              "      border-right-color: var(--fill-color);\n",
              "      border-top-color: var(--fill-color);\n",
              "    }\n",
              "    60% {\n",
              "      border-color: transparent;\n",
              "      border-right-color: var(--fill-color);\n",
              "    }\n",
              "    80% {\n",
              "      border-color: transparent;\n",
              "      border-right-color: var(--fill-color);\n",
              "      border-bottom-color: var(--fill-color);\n",
              "    }\n",
              "    90% {\n",
              "      border-color: transparent;\n",
              "      border-bottom-color: var(--fill-color);\n",
              "    }\n",
              "  }\n",
              "</style>\n",
              "\n",
              "  <script>\n",
              "    async function quickchart(key) {\n",
              "      const quickchartButtonEl =\n",
              "        document.querySelector('#' + key + ' button');\n",
              "      quickchartButtonEl.disabled = true;  // To prevent multiple clicks.\n",
              "      quickchartButtonEl.classList.add('colab-df-spinner');\n",
              "      try {\n",
              "        const charts = await google.colab.kernel.invokeFunction(\n",
              "            'suggestCharts', [key], {});\n",
              "      } catch (error) {\n",
              "        console.error('Error during call to suggestCharts:', error);\n",
              "      }\n",
              "      quickchartButtonEl.classList.remove('colab-df-spinner');\n",
              "      quickchartButtonEl.classList.add('colab-df-quickchart-complete');\n",
              "    }\n",
              "    (() => {\n",
              "      let quickchartButtonEl =\n",
              "        document.querySelector('#df-77693801-3c11-4eda-97bd-a0bff571a26b button');\n",
              "      quickchartButtonEl.style.display =\n",
              "        google.colab.kernel.accessAllowed ? 'block' : 'none';\n",
              "    })();\n",
              "  </script>\n",
              "</div>\n",
              "    </div>\n",
              "  </div>\n"
            ]
          },
          "metadata": {},
          "execution_count": 356
        }
      ]
    },
    {
      "cell_type": "code",
      "source": [
        "FT_old = cars['Fuel_Type'].value_counts().index         #Accessing the unique values in a list\n",
        "FT_new = list(range(len(cars['Fuel_Type'].value_counts().index)))  #Creating new values of Fuel_Type by taking  range of length of unique values as new values in the Fuel_Type column\n",
        "print(FT_old)   #Printing the old values of the column Fuel_Type\n",
        "print(FT_new)   # Printing the new values of the Fuel_Type"
      ],
      "metadata": {
        "colab": {
          "base_uri": "https://localhost:8080/"
        },
        "id": "1rNqcgB7MBWK",
        "outputId": "e91e32e4-bba8-4e07-f488-76b0bdf05fbb"
      },
      "execution_count": 360,
      "outputs": [
        {
          "output_type": "stream",
          "name": "stdout",
          "text": [
            "Index(['Diesel', 'Petrol', 'CNG', 'LPG', 'Electric'], dtype='object')\n",
            "[0, 1, 2, 3, 4]\n"
          ]
        }
      ]
    },
    {
      "cell_type": "code",
      "source": [
        "T_old = cars['Transmission'].unique()    # Accessing the unique values in the column Transmission\n",
        "T_new = list(range(len(cars['Transmission'].unique())))   # Creating new values to the Transmission column based on the range of length of the old unique values as new values in Transmission\n",
        "print(T_old)\n",
        "print(T_new)"
      ],
      "metadata": {
        "colab": {
          "base_uri": "https://localhost:8080/"
        },
        "id": "RxPnebgdMvBc",
        "outputId": "c030dd06-7f2c-44a9-f30f-a370b7af1859"
      },
      "execution_count": 373,
      "outputs": [
        {
          "output_type": "stream",
          "name": "stdout",
          "text": [
            "['Manual' 'Automatic']\n",
            "[0, 1]\n"
          ]
        }
      ]
    },
    {
      "cell_type": "code",
      "source": [
        "#Replacing the old values in Fuel type with new values based on their length of range\n",
        "cars['Fuel_Type'] = cars['Fuel_Type'].replace(FT_old,FT_new)\n",
        "cars['Fuel_Type']"
      ],
      "metadata": {
        "colab": {
          "base_uri": "https://localhost:8080/"
        },
        "id": "kg20TIYIO-3L",
        "outputId": "9814cf7a-f0c4-49d9-95d2-5472314ba224"
      },
      "execution_count": 374,
      "outputs": [
        {
          "output_type": "execute_result",
          "data": {
            "text/plain": [
              "0       2\n",
              "1       0\n",
              "2       1\n",
              "3       0\n",
              "4       0\n",
              "       ..\n",
              "6014    0\n",
              "6015    0\n",
              "6016    0\n",
              "6017    1\n",
              "6018    0\n",
              "Name: Fuel_Type, Length: 6005, dtype: int64"
            ]
          },
          "metadata": {},
          "execution_count": 374
        }
      ]
    },
    {
      "cell_type": "code",
      "source": [
        "# Replacing the values of transmission column from old values to new values based on their range of length\n",
        "cars['Transmission'] = cars['Transmission'].replace(T_old, T_new)\n"
      ],
      "metadata": {
        "id": "4yXqbxpXPSOV"
      },
      "execution_count": 375,
      "outputs": []
    },
    {
      "cell_type": "code",
      "source": [
        "cars['Transmission']"
      ],
      "metadata": {
        "colab": {
          "base_uri": "https://localhost:8080/"
        },
        "id": "cnp-yyjzPaW_",
        "outputId": "ff9ac104-de24-4a9f-ff4d-8cba72e3e72e"
      },
      "execution_count": 376,
      "outputs": [
        {
          "output_type": "execute_result",
          "data": {
            "text/plain": [
              "0       0\n",
              "1       0\n",
              "2       0\n",
              "3       0\n",
              "4       1\n",
              "       ..\n",
              "6014    0\n",
              "6015    0\n",
              "6016    0\n",
              "6017    0\n",
              "6018    0\n",
              "Name: Transmission, Length: 6005, dtype: int64"
            ]
          },
          "metadata": {},
          "execution_count": 376
        }
      ]
    },
    {
      "cell_type": "code",
      "source": [
        "Own_old = cars['Owner_Type'].value_counts().index\n",
        "print(Own_old)\n",
        "Own_new = list(range(len(cars['Owner_Type'].value_counts().index)))\n",
        "print(Own_new)\n"
      ],
      "metadata": {
        "colab": {
          "base_uri": "https://localhost:8080/"
        },
        "id": "BIlZniV_P3r4",
        "outputId": "e91c474f-68a5-488d-a768-286511c4c1d1"
      },
      "execution_count": 379,
      "outputs": [
        {
          "output_type": "stream",
          "name": "stdout",
          "text": [
            "Index(['First', 'Second', 'Third', 'Fourth & Above'], dtype='object')\n",
            "[0, 1, 2, 3]\n"
          ]
        }
      ]
    },
    {
      "cell_type": "code",
      "source": [
        "cars['Owner_Type'] = cars['Owner_Type'].replace(Own_old, Own_new)"
      ],
      "metadata": {
        "id": "72B9SzpmR9Q7"
      },
      "execution_count": 380,
      "outputs": []
    },
    {
      "cell_type": "code",
      "source": [
        "cars['Name'].value_counts()"
      ],
      "metadata": {
        "colab": {
          "base_uri": "https://localhost:8080/"
        },
        "id": "zm7F7gk0SE_a",
        "outputId": "6d757032-31d6-4d86-f766-6701d15f1d7a"
      },
      "execution_count": 381,
      "outputs": [
        {
          "output_type": "execute_result",
          "data": {
            "text/plain": [
              "Mahindra XUV500 W8 2WD           49\n",
              "Maruti Swift VDI                 45\n",
              "Honda City 1.5 S MT              34\n",
              "Maruti Swift Dzire VDI           34\n",
              "Maruti Swift VDI BSIV            31\n",
              "                                 ..\n",
              "Ford Fiesta Titanium 1.5 TDCi     1\n",
              "Mahindra Scorpio S10 AT 4WD       1\n",
              "Hyundai i20 1.2 Era               1\n",
              "Toyota Camry W4 (AT)              1\n",
              "Mahindra Xylo D4 BSIV             1\n",
              "Name: Name, Length: 1870, dtype: int64"
            ]
          },
          "metadata": {},
          "execution_count": 381
        }
      ]
    },
    {
      "cell_type": "code",
      "source": [
        "cars['Brand'] = cars['Name'].str.split().str[0]"
      ],
      "metadata": {
        "id": "ZbYonW3mSXkq"
      },
      "execution_count": 384,
      "outputs": []
    },
    {
      "cell_type": "code",
      "source": [
        "cars['Brand']"
      ],
      "metadata": {
        "colab": {
          "base_uri": "https://localhost:8080/"
        },
        "id": "14So11WfSzm6",
        "outputId": "213992b7-98ae-4756-8319-9ae56607d6a4"
      },
      "execution_count": 385,
      "outputs": [
        {
          "output_type": "execute_result",
          "data": {
            "text/plain": [
              "0          Maruti\n",
              "1         Hyundai\n",
              "2           Honda\n",
              "3          Maruti\n",
              "4            Audi\n",
              "          ...    \n",
              "6014       Maruti\n",
              "6015      Hyundai\n",
              "6016     Mahindra\n",
              "6017       Maruti\n",
              "6018    Chevrolet\n",
              "Name: Brand, Length: 6005, dtype: object"
            ]
          },
          "metadata": {},
          "execution_count": 385
        }
      ]
    },
    {
      "cell_type": "code",
      "source": [
        "cars['Model'] = cars['Name'].str.split().str[1]\n",
        "cars['Model']"
      ],
      "metadata": {
        "colab": {
          "base_uri": "https://localhost:8080/"
        },
        "id": "BkucBtP9S3R6",
        "outputId": "f9f28303-96c0-4bd8-b5e5-a9da7981177c"
      },
      "execution_count": 386,
      "outputs": [
        {
          "output_type": "execute_result",
          "data": {
            "text/plain": [
              "0        Wagon\n",
              "1        Creta\n",
              "2         Jazz\n",
              "3       Ertiga\n",
              "4           A4\n",
              "         ...  \n",
              "6014     Swift\n",
              "6015     Xcent\n",
              "6016      Xylo\n",
              "6017     Wagon\n",
              "6018      Beat\n",
              "Name: Model, Length: 6005, dtype: object"
            ]
          },
          "metadata": {},
          "execution_count": 386
        }
      ]
    },
    {
      "cell_type": "code",
      "source": [
        "cars = cars.drop('Name',axis = 1)"
      ],
      "metadata": {
        "id": "T_AzXIajS-2w"
      },
      "execution_count": 394,
      "outputs": []
    },
    {
      "cell_type": "code",
      "source": [
        "cars['Brand'].value_counts()"
      ],
      "metadata": {
        "colab": {
          "base_uri": "https://localhost:8080/"
        },
        "id": "-EzynaJQTSA5",
        "outputId": "46627bfa-2a30-48f9-f123-19a8909e8b29"
      },
      "execution_count": 389,
      "outputs": [
        {
          "output_type": "execute_result",
          "data": {
            "text/plain": [
              "Maruti           1197\n",
              "Hyundai          1107\n",
              "Honda             608\n",
              "Toyota            411\n",
              "Mercedes-Benz     318\n",
              "Volkswagen        315\n",
              "Ford              300\n",
              "Mahindra          272\n",
              "BMW               267\n",
              "Audi              236\n",
              "Tata              186\n",
              "Skoda             173\n",
              "Renault           145\n",
              "Chevrolet         121\n",
              "Nissan             91\n",
              "Land               60\n",
              "Jaguar             40\n",
              "Fiat               28\n",
              "Mitsubishi         27\n",
              "Mini               26\n",
              "Volvo              21\n",
              "Porsche            18\n",
              "Jeep               15\n",
              "Datsun             13\n",
              "Force               3\n",
              "ISUZU               2\n",
              "Smart               1\n",
              "Ambassador          1\n",
              "Isuzu               1\n",
              "Bentley             1\n",
              "Lamborghini         1\n",
              "Name: Brand, dtype: int64"
            ]
          },
          "metadata": {},
          "execution_count": 389
        }
      ]
    },
    {
      "cell_type": "code",
      "source": [
        "Bran_old = cars['Brand'].value_counts().index\n",
        "Bran_new = list(range(len(cars['Brand'].value_counts().index)))"
      ],
      "metadata": {
        "id": "OIJipoaaT-R6"
      },
      "execution_count": 391,
      "outputs": []
    },
    {
      "cell_type": "code",
      "source": [
        "cars['Brand'] = cars['Brand'].replace(Bran_old, Bran_new)\n",
        "cars['Brand']"
      ],
      "metadata": {
        "colab": {
          "base_uri": "https://localhost:8080/"
        },
        "id": "ofzifaNUUaMM",
        "outputId": "4e7d7690-bbe1-4126-da95-638f681773ab"
      },
      "execution_count": 392,
      "outputs": [
        {
          "output_type": "execute_result",
          "data": {
            "text/plain": [
              "0        0\n",
              "1        1\n",
              "2        2\n",
              "3        0\n",
              "4        9\n",
              "        ..\n",
              "6014     0\n",
              "6015     1\n",
              "6016     7\n",
              "6017     0\n",
              "6018    13\n",
              "Name: Brand, Length: 6005, dtype: int64"
            ]
          },
          "metadata": {},
          "execution_count": 392
        }
      ]
    },
    {
      "cell_type": "code",
      "source": [
        "model_old = cars['Model'].value_counts().index\n",
        "model_new = list(range(len(cars['Model'].value_counts().index)))\n",
        "cars['Model'] = cars['Model'].replace(model_old, model_new)\n",
        "cars['Model']"
      ],
      "metadata": {
        "colab": {
          "base_uri": "https://localhost:8080/"
        },
        "id": "TZSIhm2EUvTq",
        "outputId": "8a342324-dfd2-4ded-8f31-90e647637828"
      },
      "execution_count": 398,
      "outputs": [
        {
          "output_type": "execute_result",
          "data": {
            "text/plain": [
              "0        8\n",
              "1       17\n",
              "2       34\n",
              "3       22\n",
              "4       20\n",
              "        ..\n",
              "6014     0\n",
              "6015    33\n",
              "6016    70\n",
              "6017     8\n",
              "6018    40\n",
              "Name: Model, Length: 6005, dtype: int64"
            ]
          },
          "metadata": {},
          "execution_count": 398
        }
      ]
    },
    {
      "cell_type": "code",
      "source": [
        "loc_old = cars['Location'].value_counts().index\n",
        "loc_new = list(range(len(cars['Location'].value_counts().index)))\n",
        "cars['Location'] = cars['Location'].replace(loc_old, loc_new)\n",
        "cars['Location']"
      ],
      "metadata": {
        "colab": {
          "base_uri": "https://localhost:8080/"
        },
        "id": "VFtXc9ifVYbE",
        "outputId": "e2171801-4984-4511-ee13-d1b2716f65e2"
      },
      "execution_count": 400,
      "outputs": [
        {
          "output_type": "execute_result",
          "data": {
            "text/plain": [
              "0       0\n",
              "1       4\n",
              "2       7\n",
              "3       7\n",
              "4       3\n",
              "       ..\n",
              "6014    5\n",
              "6015    8\n",
              "6016    8\n",
              "6017    6\n",
              "6018    1\n",
              "Name: Location, Length: 6005, dtype: int64"
            ]
          },
          "metadata": {},
          "execution_count": 400
        }
      ]
    },
    {
      "cell_type": "code",
      "source": [
        "cars.info()"
      ],
      "metadata": {
        "colab": {
          "base_uri": "https://localhost:8080/"
        },
        "id": "ejDF-9twV3OM",
        "outputId": "cfb1fd4b-ad45-461d-8e35-8d352c76dc13"
      },
      "execution_count": 401,
      "outputs": [
        {
          "output_type": "stream",
          "name": "stdout",
          "text": [
            "<class 'pandas.core.frame.DataFrame'>\n",
            "Int64Index: 6005 entries, 0 to 6018\n",
            "Data columns (total 13 columns):\n",
            " #   Column             Non-Null Count  Dtype  \n",
            "---  ------             --------------  -----  \n",
            " 0   Location           6005 non-null   int64  \n",
            " 1   Year               6005 non-null   int64  \n",
            " 2   Kilometers_Driven  6005 non-null   int64  \n",
            " 3   Fuel_Type          6005 non-null   int64  \n",
            " 4   Transmission       6005 non-null   int64  \n",
            " 5   Owner_Type         6005 non-null   int64  \n",
            " 6   Mileage            6005 non-null   float64\n",
            " 7   Engine             6005 non-null   float64\n",
            " 8   Power              6005 non-null   float64\n",
            " 9   Seats              6005 non-null   float64\n",
            " 10  Price              6005 non-null   float64\n",
            " 11  Brand              6005 non-null   int64  \n",
            " 12  Model              6005 non-null   int64  \n",
            "dtypes: float64(5), int64(8)\n",
            "memory usage: 656.8 KB\n"
          ]
        }
      ]
    },
    {
      "cell_type": "code",
      "source": [
        "# Correlation - relationship between two variables\n",
        "cars.corr()"
      ],
      "metadata": {
        "colab": {
          "base_uri": "https://localhost:8080/",
          "height": 457
        },
        "id": "jiJkqN5KVdVS",
        "outputId": "6431c001-58db-46b7-b190-f4d7e5b4682a"
      },
      "execution_count": 406,
      "outputs": [
        {
          "output_type": "execute_result",
          "data": {
            "text/plain": [
              "                   Location      Year  Kilometers_Driven  Fuel_Type  \\\n",
              "Location           1.000000 -0.126172           0.053027  -0.059313   \n",
              "Year              -0.126172  1.000000          -0.172906  -0.124060   \n",
              "Kilometers_Driven  0.053027 -0.172906           1.000000  -0.099034   \n",
              "Fuel_Type         -0.059313 -0.124060          -0.099034   1.000000   \n",
              "Transmission      -0.081459  0.097805          -0.025855  -0.142285   \n",
              "Owner_Type         0.131622 -0.397242           0.085249   0.043490   \n",
              "Mileage            0.041131  0.292133          -0.064219  -0.098995   \n",
              "Engine            -0.026762 -0.050623           0.090798  -0.421618   \n",
              "Power             -0.047400  0.016456           0.032926  -0.291554   \n",
              "Seats             -0.000200  0.013102           0.083890  -0.294297   \n",
              "Price             -0.067310  0.306127          -0.011654  -0.313250   \n",
              "Brand             -0.027438  0.002557           0.023011  -0.278195   \n",
              "Model             -0.027805 -0.032493          -0.001894  -0.076596   \n",
              "\n",
              "                   Transmission  Owner_Type   Mileage    Engine     Power  \\\n",
              "Location              -0.081459    0.131622  0.041131 -0.026762 -0.047400   \n",
              "Year                   0.097805   -0.397242  0.292133 -0.050623  0.016456   \n",
              "Kilometers_Driven     -0.025855    0.085249 -0.064219  0.090798  0.032926   \n",
              "Fuel_Type             -0.142285    0.043490 -0.098995 -0.421618 -0.291554   \n",
              "Transmission           1.000000   -0.009001 -0.358866  0.498401  0.638779   \n",
              "Owner_Type            -0.009001    1.000000 -0.151736  0.050249  0.024397   \n",
              "Mileage               -0.358866   -0.151736  1.000000 -0.640660 -0.548210   \n",
              "Engine                 0.498401    0.050249 -0.640660  1.000000  0.858853   \n",
              "Power                  0.638779    0.024397 -0.548210  0.858853  1.000000   \n",
              "Seats                 -0.075232    0.013761 -0.343721  0.396019  0.098571   \n",
              "Price                  0.585693   -0.097787 -0.330352  0.656898  0.767688   \n",
              "Brand                  0.278850    0.036550 -0.252299  0.363251  0.366310   \n",
              "Model                  0.188959    0.057178 -0.194064  0.251962  0.260856   \n",
              "\n",
              "                      Seats     Price     Brand     Model  \n",
              "Location          -0.000200 -0.067310 -0.027438 -0.027805  \n",
              "Year               0.013102  0.306127  0.002557 -0.032493  \n",
              "Kilometers_Driven  0.083890 -0.011654  0.023011 -0.001894  \n",
              "Fuel_Type         -0.294297 -0.313250 -0.278195 -0.076596  \n",
              "Transmission      -0.075232  0.585693  0.278850  0.188959  \n",
              "Owner_Type         0.013761 -0.097787  0.036550  0.057178  \n",
              "Mileage           -0.343721 -0.330352 -0.252299 -0.194064  \n",
              "Engine             0.396019  0.656898  0.363251  0.251962  \n",
              "Power              0.098571  0.767688  0.366310  0.260856  \n",
              "Seats              1.000000  0.052078  0.017227  0.007791  \n",
              "Price              0.052078  1.000000  0.327967  0.244072  \n",
              "Brand              0.017227  0.327967  1.000000  0.499343  \n",
              "Model              0.007791  0.244072  0.499343  1.000000  "
            ],
            "text/html": [
              "\n",
              "  <div id=\"df-862002b8-b15c-40f1-bc01-c60870858485\" class=\"colab-df-container\">\n",
              "    <div>\n",
              "<style scoped>\n",
              "    .dataframe tbody tr th:only-of-type {\n",
              "        vertical-align: middle;\n",
              "    }\n",
              "\n",
              "    .dataframe tbody tr th {\n",
              "        vertical-align: top;\n",
              "    }\n",
              "\n",
              "    .dataframe thead th {\n",
              "        text-align: right;\n",
              "    }\n",
              "</style>\n",
              "<table border=\"1\" class=\"dataframe\">\n",
              "  <thead>\n",
              "    <tr style=\"text-align: right;\">\n",
              "      <th></th>\n",
              "      <th>Location</th>\n",
              "      <th>Year</th>\n",
              "      <th>Kilometers_Driven</th>\n",
              "      <th>Fuel_Type</th>\n",
              "      <th>Transmission</th>\n",
              "      <th>Owner_Type</th>\n",
              "      <th>Mileage</th>\n",
              "      <th>Engine</th>\n",
              "      <th>Power</th>\n",
              "      <th>Seats</th>\n",
              "      <th>Price</th>\n",
              "      <th>Brand</th>\n",
              "      <th>Model</th>\n",
              "    </tr>\n",
              "  </thead>\n",
              "  <tbody>\n",
              "    <tr>\n",
              "      <th>Location</th>\n",
              "      <td>1.000000</td>\n",
              "      <td>-0.126172</td>\n",
              "      <td>0.053027</td>\n",
              "      <td>-0.059313</td>\n",
              "      <td>-0.081459</td>\n",
              "      <td>0.131622</td>\n",
              "      <td>0.041131</td>\n",
              "      <td>-0.026762</td>\n",
              "      <td>-0.047400</td>\n",
              "      <td>-0.000200</td>\n",
              "      <td>-0.067310</td>\n",
              "      <td>-0.027438</td>\n",
              "      <td>-0.027805</td>\n",
              "    </tr>\n",
              "    <tr>\n",
              "      <th>Year</th>\n",
              "      <td>-0.126172</td>\n",
              "      <td>1.000000</td>\n",
              "      <td>-0.172906</td>\n",
              "      <td>-0.124060</td>\n",
              "      <td>0.097805</td>\n",
              "      <td>-0.397242</td>\n",
              "      <td>0.292133</td>\n",
              "      <td>-0.050623</td>\n",
              "      <td>0.016456</td>\n",
              "      <td>0.013102</td>\n",
              "      <td>0.306127</td>\n",
              "      <td>0.002557</td>\n",
              "      <td>-0.032493</td>\n",
              "    </tr>\n",
              "    <tr>\n",
              "      <th>Kilometers_Driven</th>\n",
              "      <td>0.053027</td>\n",
              "      <td>-0.172906</td>\n",
              "      <td>1.000000</td>\n",
              "      <td>-0.099034</td>\n",
              "      <td>-0.025855</td>\n",
              "      <td>0.085249</td>\n",
              "      <td>-0.064219</td>\n",
              "      <td>0.090798</td>\n",
              "      <td>0.032926</td>\n",
              "      <td>0.083890</td>\n",
              "      <td>-0.011654</td>\n",
              "      <td>0.023011</td>\n",
              "      <td>-0.001894</td>\n",
              "    </tr>\n",
              "    <tr>\n",
              "      <th>Fuel_Type</th>\n",
              "      <td>-0.059313</td>\n",
              "      <td>-0.124060</td>\n",
              "      <td>-0.099034</td>\n",
              "      <td>1.000000</td>\n",
              "      <td>-0.142285</td>\n",
              "      <td>0.043490</td>\n",
              "      <td>-0.098995</td>\n",
              "      <td>-0.421618</td>\n",
              "      <td>-0.291554</td>\n",
              "      <td>-0.294297</td>\n",
              "      <td>-0.313250</td>\n",
              "      <td>-0.278195</td>\n",
              "      <td>-0.076596</td>\n",
              "    </tr>\n",
              "    <tr>\n",
              "      <th>Transmission</th>\n",
              "      <td>-0.081459</td>\n",
              "      <td>0.097805</td>\n",
              "      <td>-0.025855</td>\n",
              "      <td>-0.142285</td>\n",
              "      <td>1.000000</td>\n",
              "      <td>-0.009001</td>\n",
              "      <td>-0.358866</td>\n",
              "      <td>0.498401</td>\n",
              "      <td>0.638779</td>\n",
              "      <td>-0.075232</td>\n",
              "      <td>0.585693</td>\n",
              "      <td>0.278850</td>\n",
              "      <td>0.188959</td>\n",
              "    </tr>\n",
              "    <tr>\n",
              "      <th>Owner_Type</th>\n",
              "      <td>0.131622</td>\n",
              "      <td>-0.397242</td>\n",
              "      <td>0.085249</td>\n",
              "      <td>0.043490</td>\n",
              "      <td>-0.009001</td>\n",
              "      <td>1.000000</td>\n",
              "      <td>-0.151736</td>\n",
              "      <td>0.050249</td>\n",
              "      <td>0.024397</td>\n",
              "      <td>0.013761</td>\n",
              "      <td>-0.097787</td>\n",
              "      <td>0.036550</td>\n",
              "      <td>0.057178</td>\n",
              "    </tr>\n",
              "    <tr>\n",
              "      <th>Mileage</th>\n",
              "      <td>0.041131</td>\n",
              "      <td>0.292133</td>\n",
              "      <td>-0.064219</td>\n",
              "      <td>-0.098995</td>\n",
              "      <td>-0.358866</td>\n",
              "      <td>-0.151736</td>\n",
              "      <td>1.000000</td>\n",
              "      <td>-0.640660</td>\n",
              "      <td>-0.548210</td>\n",
              "      <td>-0.343721</td>\n",
              "      <td>-0.330352</td>\n",
              "      <td>-0.252299</td>\n",
              "      <td>-0.194064</td>\n",
              "    </tr>\n",
              "    <tr>\n",
              "      <th>Engine</th>\n",
              "      <td>-0.026762</td>\n",
              "      <td>-0.050623</td>\n",
              "      <td>0.090798</td>\n",
              "      <td>-0.421618</td>\n",
              "      <td>0.498401</td>\n",
              "      <td>0.050249</td>\n",
              "      <td>-0.640660</td>\n",
              "      <td>1.000000</td>\n",
              "      <td>0.858853</td>\n",
              "      <td>0.396019</td>\n",
              "      <td>0.656898</td>\n",
              "      <td>0.363251</td>\n",
              "      <td>0.251962</td>\n",
              "    </tr>\n",
              "    <tr>\n",
              "      <th>Power</th>\n",
              "      <td>-0.047400</td>\n",
              "      <td>0.016456</td>\n",
              "      <td>0.032926</td>\n",
              "      <td>-0.291554</td>\n",
              "      <td>0.638779</td>\n",
              "      <td>0.024397</td>\n",
              "      <td>-0.548210</td>\n",
              "      <td>0.858853</td>\n",
              "      <td>1.000000</td>\n",
              "      <td>0.098571</td>\n",
              "      <td>0.767688</td>\n",
              "      <td>0.366310</td>\n",
              "      <td>0.260856</td>\n",
              "    </tr>\n",
              "    <tr>\n",
              "      <th>Seats</th>\n",
              "      <td>-0.000200</td>\n",
              "      <td>0.013102</td>\n",
              "      <td>0.083890</td>\n",
              "      <td>-0.294297</td>\n",
              "      <td>-0.075232</td>\n",
              "      <td>0.013761</td>\n",
              "      <td>-0.343721</td>\n",
              "      <td>0.396019</td>\n",
              "      <td>0.098571</td>\n",
              "      <td>1.000000</td>\n",
              "      <td>0.052078</td>\n",
              "      <td>0.017227</td>\n",
              "      <td>0.007791</td>\n",
              "    </tr>\n",
              "    <tr>\n",
              "      <th>Price</th>\n",
              "      <td>-0.067310</td>\n",
              "      <td>0.306127</td>\n",
              "      <td>-0.011654</td>\n",
              "      <td>-0.313250</td>\n",
              "      <td>0.585693</td>\n",
              "      <td>-0.097787</td>\n",
              "      <td>-0.330352</td>\n",
              "      <td>0.656898</td>\n",
              "      <td>0.767688</td>\n",
              "      <td>0.052078</td>\n",
              "      <td>1.000000</td>\n",
              "      <td>0.327967</td>\n",
              "      <td>0.244072</td>\n",
              "    </tr>\n",
              "    <tr>\n",
              "      <th>Brand</th>\n",
              "      <td>-0.027438</td>\n",
              "      <td>0.002557</td>\n",
              "      <td>0.023011</td>\n",
              "      <td>-0.278195</td>\n",
              "      <td>0.278850</td>\n",
              "      <td>0.036550</td>\n",
              "      <td>-0.252299</td>\n",
              "      <td>0.363251</td>\n",
              "      <td>0.366310</td>\n",
              "      <td>0.017227</td>\n",
              "      <td>0.327967</td>\n",
              "      <td>1.000000</td>\n",
              "      <td>0.499343</td>\n",
              "    </tr>\n",
              "    <tr>\n",
              "      <th>Model</th>\n",
              "      <td>-0.027805</td>\n",
              "      <td>-0.032493</td>\n",
              "      <td>-0.001894</td>\n",
              "      <td>-0.076596</td>\n",
              "      <td>0.188959</td>\n",
              "      <td>0.057178</td>\n",
              "      <td>-0.194064</td>\n",
              "      <td>0.251962</td>\n",
              "      <td>0.260856</td>\n",
              "      <td>0.007791</td>\n",
              "      <td>0.244072</td>\n",
              "      <td>0.499343</td>\n",
              "      <td>1.000000</td>\n",
              "    </tr>\n",
              "  </tbody>\n",
              "</table>\n",
              "</div>\n",
              "    <div class=\"colab-df-buttons\">\n",
              "\n",
              "  <div class=\"colab-df-container\">\n",
              "    <button class=\"colab-df-convert\" onclick=\"convertToInteractive('df-862002b8-b15c-40f1-bc01-c60870858485')\"\n",
              "            title=\"Convert this dataframe to an interactive table.\"\n",
              "            style=\"display:none;\">\n",
              "\n",
              "  <svg xmlns=\"http://www.w3.org/2000/svg\" height=\"24px\" viewBox=\"0 -960 960 960\">\n",
              "    <path d=\"M120-120v-720h720v720H120Zm60-500h600v-160H180v160Zm220 220h160v-160H400v160Zm0 220h160v-160H400v160ZM180-400h160v-160H180v160Zm440 0h160v-160H620v160ZM180-180h160v-160H180v160Zm440 0h160v-160H620v160Z\"/>\n",
              "  </svg>\n",
              "    </button>\n",
              "\n",
              "  <style>\n",
              "    .colab-df-container {\n",
              "      display:flex;\n",
              "      gap: 12px;\n",
              "    }\n",
              "\n",
              "    .colab-df-convert {\n",
              "      background-color: #E8F0FE;\n",
              "      border: none;\n",
              "      border-radius: 50%;\n",
              "      cursor: pointer;\n",
              "      display: none;\n",
              "      fill: #1967D2;\n",
              "      height: 32px;\n",
              "      padding: 0 0 0 0;\n",
              "      width: 32px;\n",
              "    }\n",
              "\n",
              "    .colab-df-convert:hover {\n",
              "      background-color: #E2EBFA;\n",
              "      box-shadow: 0px 1px 2px rgba(60, 64, 67, 0.3), 0px 1px 3px 1px rgba(60, 64, 67, 0.15);\n",
              "      fill: #174EA6;\n",
              "    }\n",
              "\n",
              "    .colab-df-buttons div {\n",
              "      margin-bottom: 4px;\n",
              "    }\n",
              "\n",
              "    [theme=dark] .colab-df-convert {\n",
              "      background-color: #3B4455;\n",
              "      fill: #D2E3FC;\n",
              "    }\n",
              "\n",
              "    [theme=dark] .colab-df-convert:hover {\n",
              "      background-color: #434B5C;\n",
              "      box-shadow: 0px 1px 3px 1px rgba(0, 0, 0, 0.15);\n",
              "      filter: drop-shadow(0px 1px 2px rgba(0, 0, 0, 0.3));\n",
              "      fill: #FFFFFF;\n",
              "    }\n",
              "  </style>\n",
              "\n",
              "    <script>\n",
              "      const buttonEl =\n",
              "        document.querySelector('#df-862002b8-b15c-40f1-bc01-c60870858485 button.colab-df-convert');\n",
              "      buttonEl.style.display =\n",
              "        google.colab.kernel.accessAllowed ? 'block' : 'none';\n",
              "\n",
              "      async function convertToInteractive(key) {\n",
              "        const element = document.querySelector('#df-862002b8-b15c-40f1-bc01-c60870858485');\n",
              "        const dataTable =\n",
              "          await google.colab.kernel.invokeFunction('convertToInteractive',\n",
              "                                                    [key], {});\n",
              "        if (!dataTable) return;\n",
              "\n",
              "        const docLinkHtml = 'Like what you see? Visit the ' +\n",
              "          '<a target=\"_blank\" href=https://colab.research.google.com/notebooks/data_table.ipynb>data table notebook</a>'\n",
              "          + ' to learn more about interactive tables.';\n",
              "        element.innerHTML = '';\n",
              "        dataTable['output_type'] = 'display_data';\n",
              "        await google.colab.output.renderOutput(dataTable, element);\n",
              "        const docLink = document.createElement('div');\n",
              "        docLink.innerHTML = docLinkHtml;\n",
              "        element.appendChild(docLink);\n",
              "      }\n",
              "    </script>\n",
              "  </div>\n",
              "\n",
              "\n",
              "<div id=\"df-9fa23bcb-b750-4da4-90bb-f0fd0ba6a472\">\n",
              "  <button class=\"colab-df-quickchart\" onclick=\"quickchart('df-9fa23bcb-b750-4da4-90bb-f0fd0ba6a472')\"\n",
              "            title=\"Suggest charts.\"\n",
              "            style=\"display:none;\">\n",
              "\n",
              "<svg xmlns=\"http://www.w3.org/2000/svg\" height=\"24px\"viewBox=\"0 0 24 24\"\n",
              "     width=\"24px\">\n",
              "    <g>\n",
              "        <path d=\"M19 3H5c-1.1 0-2 .9-2 2v14c0 1.1.9 2 2 2h14c1.1 0 2-.9 2-2V5c0-1.1-.9-2-2-2zM9 17H7v-7h2v7zm4 0h-2V7h2v10zm4 0h-2v-4h2v4z\"/>\n",
              "    </g>\n",
              "</svg>\n",
              "  </button>\n",
              "\n",
              "<style>\n",
              "  .colab-df-quickchart {\n",
              "      --bg-color: #E8F0FE;\n",
              "      --fill-color: #1967D2;\n",
              "      --hover-bg-color: #E2EBFA;\n",
              "      --hover-fill-color: #174EA6;\n",
              "      --disabled-fill-color: #AAA;\n",
              "      --disabled-bg-color: #DDD;\n",
              "  }\n",
              "\n",
              "  [theme=dark] .colab-df-quickchart {\n",
              "      --bg-color: #3B4455;\n",
              "      --fill-color: #D2E3FC;\n",
              "      --hover-bg-color: #434B5C;\n",
              "      --hover-fill-color: #FFFFFF;\n",
              "      --disabled-bg-color: #3B4455;\n",
              "      --disabled-fill-color: #666;\n",
              "  }\n",
              "\n",
              "  .colab-df-quickchart {\n",
              "    background-color: var(--bg-color);\n",
              "    border: none;\n",
              "    border-radius: 50%;\n",
              "    cursor: pointer;\n",
              "    display: none;\n",
              "    fill: var(--fill-color);\n",
              "    height: 32px;\n",
              "    padding: 0;\n",
              "    width: 32px;\n",
              "  }\n",
              "\n",
              "  .colab-df-quickchart:hover {\n",
              "    background-color: var(--hover-bg-color);\n",
              "    box-shadow: 0 1px 2px rgba(60, 64, 67, 0.3), 0 1px 3px 1px rgba(60, 64, 67, 0.15);\n",
              "    fill: var(--button-hover-fill-color);\n",
              "  }\n",
              "\n",
              "  .colab-df-quickchart-complete:disabled,\n",
              "  .colab-df-quickchart-complete:disabled:hover {\n",
              "    background-color: var(--disabled-bg-color);\n",
              "    fill: var(--disabled-fill-color);\n",
              "    box-shadow: none;\n",
              "  }\n",
              "\n",
              "  .colab-df-spinner {\n",
              "    border: 2px solid var(--fill-color);\n",
              "    border-color: transparent;\n",
              "    border-bottom-color: var(--fill-color);\n",
              "    animation:\n",
              "      spin 1s steps(1) infinite;\n",
              "  }\n",
              "\n",
              "  @keyframes spin {\n",
              "    0% {\n",
              "      border-color: transparent;\n",
              "      border-bottom-color: var(--fill-color);\n",
              "      border-left-color: var(--fill-color);\n",
              "    }\n",
              "    20% {\n",
              "      border-color: transparent;\n",
              "      border-left-color: var(--fill-color);\n",
              "      border-top-color: var(--fill-color);\n",
              "    }\n",
              "    30% {\n",
              "      border-color: transparent;\n",
              "      border-left-color: var(--fill-color);\n",
              "      border-top-color: var(--fill-color);\n",
              "      border-right-color: var(--fill-color);\n",
              "    }\n",
              "    40% {\n",
              "      border-color: transparent;\n",
              "      border-right-color: var(--fill-color);\n",
              "      border-top-color: var(--fill-color);\n",
              "    }\n",
              "    60% {\n",
              "      border-color: transparent;\n",
              "      border-right-color: var(--fill-color);\n",
              "    }\n",
              "    80% {\n",
              "      border-color: transparent;\n",
              "      border-right-color: var(--fill-color);\n",
              "      border-bottom-color: var(--fill-color);\n",
              "    }\n",
              "    90% {\n",
              "      border-color: transparent;\n",
              "      border-bottom-color: var(--fill-color);\n",
              "    }\n",
              "  }\n",
              "</style>\n",
              "\n",
              "  <script>\n",
              "    async function quickchart(key) {\n",
              "      const quickchartButtonEl =\n",
              "        document.querySelector('#' + key + ' button');\n",
              "      quickchartButtonEl.disabled = true;  // To prevent multiple clicks.\n",
              "      quickchartButtonEl.classList.add('colab-df-spinner');\n",
              "      try {\n",
              "        const charts = await google.colab.kernel.invokeFunction(\n",
              "            'suggestCharts', [key], {});\n",
              "      } catch (error) {\n",
              "        console.error('Error during call to suggestCharts:', error);\n",
              "      }\n",
              "      quickchartButtonEl.classList.remove('colab-df-spinner');\n",
              "      quickchartButtonEl.classList.add('colab-df-quickchart-complete');\n",
              "    }\n",
              "    (() => {\n",
              "      let quickchartButtonEl =\n",
              "        document.querySelector('#df-9fa23bcb-b750-4da4-90bb-f0fd0ba6a472 button');\n",
              "      quickchartButtonEl.style.display =\n",
              "        google.colab.kernel.accessAllowed ? 'block' : 'none';\n",
              "    })();\n",
              "  </script>\n",
              "</div>\n",
              "    </div>\n",
              "  </div>\n"
            ]
          },
          "metadata": {},
          "execution_count": 406
        }
      ]
    },
    {
      "cell_type": "code",
      "source": [
        "# the line which connnects most of the dots - best straight line\n",
        "X = cars.drop('Price',axis = 1)\n",
        "y = cars['Price']\n",
        "from sklearn.model_selection import train_test_split\n",
        "X_train,X_test,y_train,y_test = train_test_split(X,y)"
      ],
      "metadata": {
        "id": "YQV6kuWiYT0r"
      },
      "execution_count": 410,
      "outputs": []
    },
    {
      "cell_type": "code",
      "source": [
        "X_train.shape"
      ],
      "metadata": {
        "colab": {
          "base_uri": "https://localhost:8080/"
        },
        "id": "rFNeFLFjar08",
        "outputId": "11b972ea-84e6-4ad6-bc86-20c959bdda54"
      },
      "execution_count": 411,
      "outputs": [
        {
          "output_type": "execute_result",
          "data": {
            "text/plain": [
              "(4503, 12)"
            ]
          },
          "metadata": {},
          "execution_count": 411
        }
      ]
    },
    {
      "cell_type": "code",
      "source": [
        "X_test.shape"
      ],
      "metadata": {
        "colab": {
          "base_uri": "https://localhost:8080/"
        },
        "id": "BGdAOMU4avSK",
        "outputId": "ee6ec33b-1fdb-42fa-9388-573f75da1de9"
      },
      "execution_count": 412,
      "outputs": [
        {
          "output_type": "execute_result",
          "data": {
            "text/plain": [
              "(1502, 12)"
            ]
          },
          "metadata": {},
          "execution_count": 412
        }
      ]
    },
    {
      "cell_type": "code",
      "source": [
        "from sklearn.linear_model import LinearRegression\n",
        "lr = LinearRegression()"
      ],
      "metadata": {
        "id": "zD72WtmVa26a"
      },
      "execution_count": 414,
      "outputs": []
    },
    {
      "cell_type": "code",
      "source": [
        "lr.fit(X_train, y_train)  # fit is used to train the data"
      ],
      "metadata": {
        "colab": {
          "base_uri": "https://localhost:8080/",
          "height": 74
        },
        "id": "Kymnx8Q3bBcc",
        "outputId": "f3af1be9-3c44-4987-ced8-60022e3e41c2"
      },
      "execution_count": 415,
      "outputs": [
        {
          "output_type": "execute_result",
          "data": {
            "text/plain": [
              "LinearRegression()"
            ],
            "text/html": [
              "<style>#sk-container-id-1 {color: black;background-color: white;}#sk-container-id-1 pre{padding: 0;}#sk-container-id-1 div.sk-toggleable {background-color: white;}#sk-container-id-1 label.sk-toggleable__label {cursor: pointer;display: block;width: 100%;margin-bottom: 0;padding: 0.3em;box-sizing: border-box;text-align: center;}#sk-container-id-1 label.sk-toggleable__label-arrow:before {content: \"▸\";float: left;margin-right: 0.25em;color: #696969;}#sk-container-id-1 label.sk-toggleable__label-arrow:hover:before {color: black;}#sk-container-id-1 div.sk-estimator:hover label.sk-toggleable__label-arrow:before {color: black;}#sk-container-id-1 div.sk-toggleable__content {max-height: 0;max-width: 0;overflow: hidden;text-align: left;background-color: #f0f8ff;}#sk-container-id-1 div.sk-toggleable__content pre {margin: 0.2em;color: black;border-radius: 0.25em;background-color: #f0f8ff;}#sk-container-id-1 input.sk-toggleable__control:checked~div.sk-toggleable__content {max-height: 200px;max-width: 100%;overflow: auto;}#sk-container-id-1 input.sk-toggleable__control:checked~label.sk-toggleable__label-arrow:before {content: \"▾\";}#sk-container-id-1 div.sk-estimator input.sk-toggleable__control:checked~label.sk-toggleable__label {background-color: #d4ebff;}#sk-container-id-1 div.sk-label input.sk-toggleable__control:checked~label.sk-toggleable__label {background-color: #d4ebff;}#sk-container-id-1 input.sk-hidden--visually {border: 0;clip: rect(1px 1px 1px 1px);clip: rect(1px, 1px, 1px, 1px);height: 1px;margin: -1px;overflow: hidden;padding: 0;position: absolute;width: 1px;}#sk-container-id-1 div.sk-estimator {font-family: monospace;background-color: #f0f8ff;border: 1px dotted black;border-radius: 0.25em;box-sizing: border-box;margin-bottom: 0.5em;}#sk-container-id-1 div.sk-estimator:hover {background-color: #d4ebff;}#sk-container-id-1 div.sk-parallel-item::after {content: \"\";width: 100%;border-bottom: 1px solid gray;flex-grow: 1;}#sk-container-id-1 div.sk-label:hover label.sk-toggleable__label {background-color: #d4ebff;}#sk-container-id-1 div.sk-serial::before {content: \"\";position: absolute;border-left: 1px solid gray;box-sizing: border-box;top: 0;bottom: 0;left: 50%;z-index: 0;}#sk-container-id-1 div.sk-serial {display: flex;flex-direction: column;align-items: center;background-color: white;padding-right: 0.2em;padding-left: 0.2em;position: relative;}#sk-container-id-1 div.sk-item {position: relative;z-index: 1;}#sk-container-id-1 div.sk-parallel {display: flex;align-items: stretch;justify-content: center;background-color: white;position: relative;}#sk-container-id-1 div.sk-item::before, #sk-container-id-1 div.sk-parallel-item::before {content: \"\";position: absolute;border-left: 1px solid gray;box-sizing: border-box;top: 0;bottom: 0;left: 50%;z-index: -1;}#sk-container-id-1 div.sk-parallel-item {display: flex;flex-direction: column;z-index: 1;position: relative;background-color: white;}#sk-container-id-1 div.sk-parallel-item:first-child::after {align-self: flex-end;width: 50%;}#sk-container-id-1 div.sk-parallel-item:last-child::after {align-self: flex-start;width: 50%;}#sk-container-id-1 div.sk-parallel-item:only-child::after {width: 0;}#sk-container-id-1 div.sk-dashed-wrapped {border: 1px dashed gray;margin: 0 0.4em 0.5em 0.4em;box-sizing: border-box;padding-bottom: 0.4em;background-color: white;}#sk-container-id-1 div.sk-label label {font-family: monospace;font-weight: bold;display: inline-block;line-height: 1.2em;}#sk-container-id-1 div.sk-label-container {text-align: center;}#sk-container-id-1 div.sk-container {/* jupyter's `normalize.less` sets `[hidden] { display: none; }` but bootstrap.min.css set `[hidden] { display: none !important; }` so we also need the `!important` here to be able to override the default hidden behavior on the sphinx rendered scikit-learn.org. See: https://github.com/scikit-learn/scikit-learn/issues/21755 */display: inline-block !important;position: relative;}#sk-container-id-1 div.sk-text-repr-fallback {display: none;}</style><div id=\"sk-container-id-1\" class=\"sk-top-container\"><div class=\"sk-text-repr-fallback\"><pre>LinearRegression()</pre><b>In a Jupyter environment, please rerun this cell to show the HTML representation or trust the notebook. <br />On GitHub, the HTML representation is unable to render, please try loading this page with nbviewer.org.</b></div><div class=\"sk-container\" hidden><div class=\"sk-item\"><div class=\"sk-estimator sk-toggleable\"><input class=\"sk-toggleable__control sk-hidden--visually\" id=\"sk-estimator-id-1\" type=\"checkbox\" checked><label for=\"sk-estimator-id-1\" class=\"sk-toggleable__label sk-toggleable__label-arrow\">LinearRegression</label><div class=\"sk-toggleable__content\"><pre>LinearRegression()</pre></div></div></div></div></div>"
            ]
          },
          "metadata": {},
          "execution_count": 415
        }
      ]
    },
    {
      "cell_type": "code",
      "source": [
        "lr.score"
      ],
      "metadata": {
        "id": "9Hfh-kZnbKbK"
      },
      "execution_count": null,
      "outputs": []
    },
    {
      "cell_type": "code",
      "source": [
        "lr.coef_"
      ],
      "metadata": {
        "colab": {
          "base_uri": "https://localhost:8080/"
        },
        "id": "rsDdOjt-bfm6",
        "outputId": "19c75f1c-ff6d-4007-8079-a70a7c0efcc1"
      },
      "execution_count": 416,
      "outputs": [
        {
          "output_type": "execute_result",
          "data": {
            "text/plain": [
              "array([ 5.22647786e-02,  9.85047522e-01,  1.78921943e-06, -1.52238700e+00,\n",
              "        3.08868769e+00, -2.17942125e-01, -4.63465988e-02,  2.14302749e-03,\n",
              "        1.14091164e-01, -9.12278067e-01,  4.73832118e-03,  1.46696595e-02])"
            ]
          },
          "metadata": {},
          "execution_count": 416
        }
      ]
    },
    {
      "cell_type": "code",
      "source": [
        "lr.intercept_"
      ],
      "metadata": {
        "colab": {
          "base_uri": "https://localhost:8080/"
        },
        "id": "jd-7tuohbjj6",
        "outputId": "5c3b397b-bc56-4a8b-c03e-c735dc29c2d0"
      },
      "execution_count": 417,
      "outputs": [
        {
          "output_type": "execute_result",
          "data": {
            "text/plain": [
              "-1985.4598086982132"
            ]
          },
          "metadata": {},
          "execution_count": 417
        }
      ]
    },
    {
      "cell_type": "code",
      "source": [
        "print(*lr.predict(X_test)) # Predictions for the test data"
      ],
      "metadata": {
        "colab": {
          "base_uri": "https://localhost:8080/"
        },
        "id": "zwuGq8Jybzwp",
        "outputId": "4120cd85-3820-40c3-92d6-7a7c590fd5fc"
      },
      "execution_count": 419,
      "outputs": [
        {
          "output_type": "stream",
          "name": "stdout",
          "text": [
            "-3.385840737344097 16.996608789525453 2.475857221757906 0.6288662993486014 15.258685117712503 2.4741190718941652 3.8236885755068215 11.867835900500495 3.823114008003813 6.438931516588582 2.3481165564901403 22.650480981608098 -6.389438128973097 3.425133760929157 6.807573925035513 14.543330560981303 1.2753072938694459 13.223206778342046 3.3138690530645363 16.045316803974856 -0.8154485665395441 1.4457505433101687 1.05871703906314 7.607335865994173 10.465722687285506 4.627010928481013 25.567998576016635 1.74240351449248 9.25214518422058 11.648468292622965 -0.22060477707896098 -6.995270739977059 2.079141203788595 11.32616421277612 3.3747824131919515 -1.9729571825989751 14.290761932099485 34.687955365725884 12.31683358295777 8.933912488387477 3.1944915664412292 2.609588928513176 -1.1618082782090369 9.81339959182651 0.6713444822394194 13.31235201585946 6.7928442776906195 14.633319509237026 8.15500085610529 4.814941861651732 4.434177440854455 1.4828588694663267 13.226549924537721 -6.552040487287513 4.849396921465086 -4.03815471965936 -0.19845776757256317 3.485181122825452 16.440617244684518 6.410897206975733 0.7812902722091621 24.530856301579433 9.206422615702422 3.6847779718818856 6.762406183446956 7.819657736942645 11.219622289788049 13.08998302441887 13.745776164912513 22.07318310507935 16.045426410621758 3.51284955140909 4.1034252595661656 8.219349002085892 5.2813103747334935 8.844203603873211 10.804526647460534 4.843058197890514 20.21696825421418 6.399050054456438 6.36246616662811 10.201143752118469 18.999397554871393 34.386315101783566 21.09433551158054 5.398635217173933 10.583263227569205 16.366882548879403 6.8003495729244605 32.77410695149456 18.845935781548405 12.14424429384826 2.685042101114277 0.4199663272561338 8.059265258724508 7.279355522204014 6.970368659316819 24.252244675472866 4.279857683657156 29.042405861604948 4.176386230703656 1.7547826996024014 12.802425418374924 63.03142199113563 4.714058826591327 16.08362123907 -4.896310308044576 10.818336532433932 9.65925986081379 0.7444303469740134 3.302344674873666 -1.9886654166850803 -3.1888812651725402 5.494524831162835 6.9324624613857395 5.998332571046376 20.72340449873036 5.380550303275413 -4.234628125595918 6.832156063603634 10.945473378098768 9.867657268009225 12.47323545689187 0.2239068266619597 21.81679644847668 0.9545351395013313 6.589849744929552 12.516358097624106 5.537997896644129 6.308781767187384 6.929486553551669 2.4258350481034086 23.508014507723146 12.393903366765244 21.511780638740447 6.443973460144889 3.3219395354233257 0.7709116002256451 17.283890014213966 4.71128863794911 33.252752930980705 21.068281278357517 9.775344965860086 17.011337902099058 2.104264479399717 15.466587229209154 7.18801965421585 6.750748009027575 38.2725821609522 5.326537180873402 6.998416174385966 21.987082463002253 9.530235791906534 21.073085824435793 3.2127097108932503 6.209369782879548 -0.9405491324205286 -0.3387416890473105 9.834449524365255 5.611904561798838 3.8975447088769215 1.4503132773406833 18.204184451616356 -2.293484017505307 17.998332626073307 43.30029129611535 3.827735924100125 6.819061098696011 16.3519385231491 8.527773857494822 4.8616734083927895 5.374739230796877 8.547264254042375 4.71069640108044 13.018450286801908 7.31813082688177 11.94250539509676 2.883023199686022 19.210823642370542 18.23770025098588 0.198881758698235 -1.4269187386239537 6.072294566487244 4.239183003626522 4.703174894514632 0.3882132725232168 9.26363952407246 -4.8177959241011195 4.461472032642405 9.004146107402676 1.527020247810242 7.940218139179933 3.456363978016043 1.58806475938718 13.736076354496163 5.348737914706362 8.886787220400947 9.343502507878611 1.3635610697506308 -4.0161784203548905 -1.2086084081261106 7.702942193979425 23.21227548304887 9.616348916884135 16.97263980146795 12.176469886691848 4.489423528533962 0.5411197919972892 5.78091074410986 -1.3227237960743423 3.976315281428242 6.501939976338463 10.65880345011692 6.964965073008898 6.067576817962163 7.873906327978602 -3.648513348633969 21.516341020399523 5.889581433276817 -1.632295920128172 9.759400550239434 6.766768569891838 5.777940059950197 1.402435465757435 18.08862149880656 12.441987019200951 21.94221336662781 5.186833823042662 2.1096434000919544 7.922537624302322 18.5472432379172 4.773170044468316 2.74085095564692 10.267612007415892 -1.8115402909611475 32.594299004445475 28.841771049188765 3.360778189382245 -2.016417526899886 6.815254548791017 22.801057896433804 7.199728733127131 21.63686674528776 8.464406722227295 9.245785665903895 0.11955929494888551 9.253431024693327 7.686775739147379 4.492481303720524 25.773594418948505 6.743930575662944 5.771893661173408 0.15176524472576602 8.422186615403461 -2.5281934317636114 2.742489392602465 7.749537043194778 8.331001492086898 22.677880123995237 -0.9895715353181913 9.710058864937764 29.390163790495762 1.99794342700352 6.225017580676877 32.990924192220746 9.165716152426057 7.232937044247592 8.08585796493685 5.968935560359796 2.6277785116876657 5.069048981692504 31.247794405779587 5.171096428231522 -0.21468331804294394 7.969774604063105 21.190431623898803 7.048930262601516 7.829125403064154 0.15822708149767095 54.74087182299172 -0.9814642458386516 1.2632168001578066 3.7386334767868448 4.519014742945728 0.5684409846146536 6.138646130074676 6.641774147332626 7.3223166119125835 6.408909533102133 6.1132479608859285 -4.80903742161172 4.800917032947382 17.659631819722563 5.090999872365501 -1.148204470371411 7.151594114547834 5.799750075422708 7.3832669323041955 8.712748668121776 7.580928152226534 7.955052265654331 0.3480392177527847 8.287104391901266 -3.9057044822884563 7.540166061471609 31.18706954487061 4.258464760796414 7.23002139121013 20.569738587716984 17.06467896400909 -0.03872266653775114 3.087917902343861 1.0612781799334243 13.978094351276468 11.693404808602736 5.28090345002488 1.9760457620707257 -2.7368653237770104 18.4176649015601 6.492480649672643 7.081395776302088 22.817736285947376 1.8910457676506667 19.956916386166995 9.729288009893708 4.3771104592897245 21.80710081952634 15.058617224925456 26.8518152398849 2.5567231745837944 3.828849218722098 2.4168617249656563 9.72053693765156 25.332977643020058 3.1930983308116083 4.441263828196725 23.52014944224561 1.4265520825510976 -0.9048784629396778 7.203482230789405 3.7461213491037597 3.0130481722924287 23.154532818316284 6.221672407338247 30.35277243572159 16.76421162542647 22.216018399809172 5.4649516426866285 9.09880622548917 19.503666200631187 6.879316875114455 3.796755932631413 12.740519019069325 5.685687313205335 7.2213041565319145 9.193283792548073 10.394899405034721 5.480105165050645 15.783566645500969 5.883873340950231 4.375701323550857 13.4207254738767 -2.7102571326852285 27.07252288623681 23.417102586390683 -0.9000002729746939 7.358037601886281 8.821035645180928 8.602412104854238 6.24570745474557 3.5885970450563036 6.796169027109499 18.72760656122864 5.452583258905406 5.52186398787012 2.9692702825523156 1.643100055388686 -0.537446982519441 -0.3179411911837633 7.007684634224461 6.140166122216897 25.36006282821586 53.87265387077491 3.992319453785285 7.027462124055091 7.428810868684195 1.847177346035096 19.67586570211529 8.536623950512649 7.770553851215482 -0.34108151336636183 9.326659190365717 1.2288671042799706 19.26298363546516 4.572544939836234 8.664070884151897 2.1356963259468102 20.462910353882535 10.875935657491482 12.115815706278681 5.614451052560526 -2.266340048580787 2.5502100302207964 5.868020341027659 4.163165220877772 3.6247984131787234 11.35037534121966 22.482108010467982 0.28123752162855453 16.774910268343092 9.102503828690033 7.720846366637261 2.075340583658999 13.774175909225733 18.49673410883247 4.880133151868222 6.963396737923404 0.9768710838814059 3.9171878988836397 6.934749655868245 -3.355245213281023 5.181841812837092 7.207271275201947 4.572504080315866 0.9154472305679064 5.448674673458754 16.665090961423402 13.16422326814336 14.24986650484584 26.590303442388176 18.73017999625381 6.713274250508448 -1.2959750453030665 17.035459249500718 25.78188451737833 5.778227427009597 27.073430195968285 5.064597284532056 7.357285683893906 26.500259887900256 24.4340491650496 13.062188981163445 2.6841169149070083 7.926977264963853 16.859534528323366 2.3102866968047238 22.95211193896307 7.855670215917144 3.102245287600226 7.119682694132052 13.092563350941418 6.165462238919417 5.498516073238079 -1.2532209649400556 13.907610195995858 1.626089125916451 10.23228511338516 19.58540180004229 -1.4715873572010878 -2.41013695411516 -4.1816282195486565 10.10178146072144 4.0581342535529075 -1.1268419183613787 15.213642134736574 6.27017554520944 5.576959162918001 16.39980255648061 6.0316257631222925 14.10996055103783 8.375094726513453 21.97820891065794 2.410188005938835 11.14537169883397 20.88002952525403 21.967265743941425 7.036374335548771 5.797392402834021 6.221761343169419 10.607297085496839 2.218256033578882 -3.8087092179287083 7.508674477646991 9.301232703288179 -5.699384487886391 -3.195453783580888 9.271425702548868 -0.5420253023487476 3.780451550234602 19.799125575565313 5.1392387082105415 24.78884525078297 -3.1762214659167967 68.21408501311635 -1.8382146251351514 1.3355015570693922 7.017968676583905 28.5792897471581 3.2787074072282394 13.139138870816396 20.51168528241942 2.424184981897497 2.5155332795527556 7.247252029875426 7.626221596929781 6.0128860998142954 1.2495808810003837 12.527504050942753 -4.476434308330454 11.682770474617428 -1.9622602489616838 7.435991426822284 -9.81024454146268 38.782917587397606 5.509736495891275 6.0773872267620845 10.606384955000749 0.19674799770905338 0.1325590830620058 8.626297297839983 22.69296109811944 26.75448984058562 9.899505728313898 9.85186718033583 -2.8548810227182457 2.982013479612533 0.42052966019446103 3.61793013855322 10.619321228840818 3.6566779259155737 6.428595332254872 9.359615409606477 15.336131370557268 6.565163476812131 16.705272529187596 6.063288602550756 22.838035242662045 -8.20028639111979 3.344525008190658 9.838004858588192 2.551372279875295 20.91244178762122 -0.45475836451532814 0.24806546812919805 21.486490357702905 7.186354539344393 5.801069745949462 7.2017247334640615 13.601497660209134 0.7649681803884505 6.242222732200844 8.399883624729682 -2.1997211441871514 -0.3871227214724513 3.7276857902352276 11.835497190592378 10.05593698796838 22.29152963264164 3.392797034220166 13.942332781554114 30.221370531453886 10.265975421613803 21.758681763296636 2.0596469012034504 -3.0982773489761257 28.777798281551895 17.63008651876021 25.733678521115735 8.545564428505031 2.7670957018603985 2.2851427961259105 72.79905449131138 6.545749190030847 5.020295841496363 -0.8541643479563845 2.831308747923913 25.200665889363336 6.877862843530011 0.44063317422933324 -4.917966072312993 1.7698031849329254 5.030644982282865 5.326006020251725 -6.207119362376943 6.004836743959004 5.889911457813696 8.321541635699532 16.710903441512755 26.76248605421506 5.683178587569955 20.75216142518866 7.68202910777768 4.320371711225334 18.795307259230412 -11.710278698343018 21.116560974822733 23.34773194125023 18.863920067077288 -4.471575382128776 -1.292977767549928 14.364155751969975 6.990254702350512 8.329036639893275 5.934793645054697 6.3010253003178605 14.386256900841772 -0.07425199377144054 22.412150701148676 5.948713955664061 8.474216632667776 9.171272766675656 7.350263179222338 14.630338286195865 16.84247468759463 13.292519982423983 2.701473835729985 6.568793906671999 18.142371113149466 2.174536201346882 1.0385722632634042 17.725894405351028 18.82229851390298 6.980434697046121 -8.157405958211257 20.297106199611562 30.52513581536209 24.412381039595402 17.1556917464834 8.801421956086415 21.15736507520819 12.243993837193102 14.388935362331722 5.4137367161115435 21.831343984883233 23.03229043329975 11.85040521452197 10.687280639234132 21.145188485735616 4.720710574598115 1.5329947862442168 34.99572191704442 1.6699650052328252 5.349176273467265 13.557714147176512 48.842272515447576 17.432185766451312 -0.5355001006162183 -3.0976304565833743 10.826812136732997 10.250982470540748 6.202883490112299 6.487301372239244 -0.701569575174517 10.301354922333303 15.167378668896617 -1.2010747232959602 1.7164108031065552 21.048203959144075 11.34743278480778 0.11924496582537358 6.670710590581621 22.34994157516394 -3.491676333373107 13.637777934519818 5.464860378759795 9.488173745110998 25.366208815531763 8.255510805755875 5.573746310481056 -2.7936806515340322 9.239735158239682 29.202717880018554 20.988394150060458 19.788696850694578 4.6206918210625645 6.239659552729336 13.996880214508565 -5.844572499556534 0.8527941014510816 9.931016601686224 24.73180684879094 7.991236462912411 8.920432114243795 4.578196180603072 5.457915294917257 23.161216052872078 -1.45079447492094 -1.6824226974056273 12.127783058054092 3.3173738691466497 13.559855768317448 8.891187522915516 21.803522380662343 34.28029493689883 -0.8849140218201228 11.035909763066229 4.444344592290008 4.771329452672035 5.588280000398072 6.443973460144889 9.235360516728406 1.1624011808178238 2.951526747037633 0.24193850543178996 5.9105725971624 -0.33480047625903353 9.43094828645917 10.39535330630838 8.019690867519557 6.22986537579618 -0.3690133750269524 2.92550042956168 -2.5906944453195138 5.468973331008783 9.755909700112625 6.042519453654904 12.860296419599763 10.213261663708408 12.501010088165685 1.367105262979976 7.351282852699342 24.773428072834122 0.9900601312124309 20.746357607436494 -1.321808721921343 -2.04244374110408 11.278528766863701 18.89161626091004 9.218637864204993 -0.5257563052593923 7.36773114693824 -5.473403254851291 7.978496492523391 6.061559249894799 5.588621391167862 21.516818657187514 17.544341581027084 -1.7957649877801032 5.5625900805275705 12.068980068662768 13.068888338541456 -10.5032094243129 10.177548289407241 1.2408766747851132 -3.0793463915524626 24.16006772044193 27.4208935618733 5.202796734048206 3.832864561409906 3.7544519167011003 2.9202368053827286 8.263371789297025 4.03000067191806 13.131970908932544 10.816991680178944 11.664242795406608 3.115126941815106 4.440248555029029 6.459419997042232 13.34162622622216 20.246023496391217 43.68075186415763 7.160199977582124 0.002716349364618509 8.418800008099652 9.079271638001273 18.0225900522978 22.499430763781902 5.825949566090685 12.586988793134879 8.301725631475165 20.519438395910583 12.689218189035273 28.767424626638558 23.30610071404385 2.3753862474413836 0.3800129468168052 4.7259654036681695 8.742544540158633 2.3500839402474867 -2.2494421565425 9.632221207473776 24.493062029806197 14.401919017303044 4.698196929728283 16.218923323150648 11.31158968743739 3.7163042681015668 29.104134803322495 18.20207200957907 9.730424164233 5.944623483827172 17.990475411855414 3.573359414472634 19.426732679018414 21.640952873006654 2.6525793580301524 8.492036990649694 1.9126617130561954 9.200722494261981 23.24258187524447 6.835730107730342 4.278736961622371 8.29739440355138 30.888663289802707 7.594887643397897 10.941377554510836 37.37132321212016 22.25035800939486 8.064279087760724 2.468305358715952 26.473792809652878 12.979252682688866 16.288943520152543 21.669546831090656 4.193087796700638 24.49995049646691 -11.320938007401537 5.627200990728397 5.619717608327392 4.349805509991938 35.23897652143137 10.321237619785961 21.223777426102743 1.7966654406056932 3.6027566264713187 14.063712726585436 25.229142291846074 23.13897498235042 5.235351325497959 20.29232294352164 2.5226749771702544 7.044568399482614 11.243090725122784 23.835019344484863 10.372942395213158 -3.3408532362693677 22.585707815340356 2.2507848667007693 10.283989976201156 22.517866811419253 -1.1113704852177761 9.769378209128263 29.56642571285397 25.157626954211082 16.76660049631505 10.259974141415341 5.3910200325369715 6.79704371544176 8.616715764094351 -2.822049381657962 19.36575518337031 8.021110428651127 6.430276242644368 3.0087550048738194 1.6407672320392521 10.601728798902059 11.070575640060724 6.651510036951095 17.08424132895516 19.203931576115338 4.796624922003048 2.75271851732532 8.704845516060459 4.596505515176659 2.471958811903505 15.888584879257223 4.882120453697553 7.845897549296296 -7.190538694776933 14.153593752298775 7.290718545194977 0.6313403618371467 2.636459705983725 8.199483936283968 8.036057964564407 8.822668598872724 11.006627101731738 34.52973195105028 14.974448815410824 4.599073045061687 24.59068402431126 0.9676215577953826 39.99799786713629 13.871781806846002 1.8685923105429083 31.27818778051369 6.666793045796794 18.947170432461235 12.828781286666754 13.241375684021932 6.958598953349792 7.936817971840128 13.627575865243898 5.472702921147402 3.4605847728507797 5.192971695042843 7.7551087394820115 7.372899958696962 1.6820508933953988 -1.421395528508583 34.59042688606269 5.784504539856243 12.177063569086613 10.83006553403743 4.304027994982107 4.244689577982626 -0.396051803898672 4.907823216158249 12.112167628235284 3.7406797917803942 7.528446617047166 13.028687946807622 19.892471577753895 8.710607467467526 16.16995140889503 11.978434307075304 0.1864840354912758 6.393343291462315 13.477996511809124 23.055901588925963 12.380171107624392 15.481402857356898 3.9047873058182176 25.246143337248213 31.582853691815444 12.368019737910345 5.626424367353366 5.27332120832466 18.667992517974426 12.185231745316514 4.508279426353283 21.734132073666387 24.29381911029941 0.37363279891701495 10.323620840697913 6.6588461951769204 8.906120934706905 8.268884795194026 3.2965818962845788 6.4755509432043254 4.868238512408425 2.6145859551968442 4.369247509705701 3.453015393797159 8.972362632243403 -0.5216151079985138 14.15491217235467 3.723425436218122 -3.613307666515084 21.205971630190334 -0.1297994467870467 9.294338511394244 -1.8719697593046476 5.850908444452216 6.658126855408682 17.9810385889557 1.2185875490235958 7.15189930866859 6.653383751765887 7.471731046585774 -1.4076771701445523 5.579609504410882 6.586505074707475 18.989985978745153 2.7479273110645863 7.284862263335526 6.692384835114353 6.047538401148358 -0.8940695769783815 17.948941462469065 17.610209805979366 6.579994403886303 18.424990782085388 4.793119841135649 3.7707324868767955 48.988805678540075 8.093954857187782 13.606707867195382 55.515058266330016 8.375878464382822 -5.0686847449085235 22.80032968412479 7.0614476417481455 6.775520897964725 10.527975242676575 36.209376244959 3.6221674210883066 17.56362639604231 32.52755120870961 13.512408160867608 40.53971524376857 6.400880598802814 -0.3318414002328609 7.222416992867011 33.84382741790455 6.663092580374496 1.9714619797271098 11.51328663976733 14.954325269229003 13.394552041006818 13.040183389965932 3.8974429555444203 14.090591231067947 7.215277346839002 24.12698459998228 4.774288733099866 5.437115317356984 5.5363925658730295 20.079058626531605 3.269776733784056 2.760511841365087 1.3801576730463694 3.6143257063081364 13.313683981101576 10.964582738370154 14.174149776157947 -5.469318336699644 5.936625900789295 5.257709237948347 4.944955240560603 3.648570334711394 7.7400858725700346 11.572965854867107 11.643101136570067 15.548414212886428 13.57070769440702 4.759660648520139 4.715888113687242 3.23135673527122 23.84920397217661 8.70689061577491 -0.643589626898347 7.64787925024234 6.67702346463102 4.845790789522198 1.6997838296342707 5.067024349755684 15.484807350970186 20.623307049979303 13.512034370330412 12.098388714922294 3.3550056028946074 0.292638502620548 12.250448499614777 16.05604152288106 1.0049155170440827 6.248166317188634 6.625256613963302 7.833688906000361 7.587367351204875 18.404672213556296 11.491869632309545 -1.8904657417581348 26.705081657333267 9.179923009919548 8.121699414456543 5.634940224581214 5.045123882814778 8.939828389967943 5.244721374762321 7.2706653358502535 7.946035342272808 4.195827566527214 -2.668422886375083 6.237440873412652 -3.3127098309803387 10.30201422683649 9.113358702191817 5.372118539103894 -9.24296475491542 31.165874341206745 6.117419732771168 13.917784010052173 12.381292015068311 7.3785318043851476 2.246845167959009 -1.2319739595852752 6.885333757928265 13.991942376881525 4.7696482341934825 1.7952510441737104 10.943379921442101 15.892854202279977 6.669667195591273 1.4477191810578915 4.722543744522682 4.746635401792446 0.6804417485832346 22.08715785259278 4.720696720412661 3.634083419028684 8.035053810982163 5.292097646653019 4.0644220006213345 22.60986485510807 14.495619044645991 20.360787545613903 1.3837613825451172 1.02744026106825 7.735590629642729 7.383913081398077 0.6525898036968556 9.697232859344467 -1.2080456847756977 3.5704008007803623 22.38748310289975 13.37462623520969 11.267561416069611 12.820417873424503 9.121984347508487 7.981499301798294 8.158295480341849 8.646178689831459 4.111941849864479 13.625652122541851 6.9227419631117755 24.418994562455055 6.778401518161672 -4.3022789401170485 35.68788567527827 8.871011495506082 2.6169835362522917 2.9009817174808177 22.779225264135448 18.977923586801353 22.03098161241519 6.622917788205768 10.807242752918228 11.946183470601227 20.802379087817826 -7.530709223721715 7.3273613660687715 6.4959548423480555 -1.4787943273736346 -2.5220963385686446 -2.9737055633033833 18.68687769625876 6.746338815280751 4.29134805084982 5.124971483808167 -1.2539065389651114 5.997321739438348 2.1633910125806324 27.84315687698495 6.78816188690007 9.996640719344214 7.179384312652928 12.721377930038443 20.446015569646306 13.161837753656528 4.995373464972317 16.996027401746915 -8.84346662872872 -1.586573081374354 27.842562616413943 7.26018752056325 3.0682187833269836 5.339798341438382 5.5719167405598 5.969705060133492 8.448704824547349 13.03992091998657 -12.252964423549656 4.729714753623512 4.813755416347249 6.395086152783733 1.1872000918233425 9.692296624676601 11.421710980482658 3.8304494703272667 1.6286352654042275 25.396822120904744 -0.3030735940003524 4.665894196107502 -0.3893150014891944 9.558295133181673 21.3905453470486 20.08557221772844 13.993339703493803 8.171725811688248 8.086698561233334 3.3166407250660086 6.203346689929958 7.821325442130501 4.886259110739502 17.087640674312297 14.489354930178024 11.203142100169089 21.056355642876497 6.028745667049634 -4.148496597093072 26.50899306794804 8.754704191999963 14.426364779241794 17.69546988494676 6.780626572714709 8.14200722327405 20.645457485862835 23.630295801205648 6.6075928535778985 1.3580300466737754 8.515417496892496 17.252834218268163 10.009138058494727 6.655312564612586 -0.5788061634625592 3.8924244530148826 6.9842792714689494 0.5934890550736327 -1.1943631818301128 3.024112076699339 1.5205067280128333 -1.3939675387023271 3.6186569043975396 25.17999743673272 6.578122508451997 20.34694771105228 7.583548967251318 6.404473836328634 15.035440548993847 4.431906927717137 19.605757639540343 4.566144315837846 0.9327956729350717 0.4108954559758331 -3.864510781660101 11.485236166397954 3.9219803759870047 10.05467907479715 6.45277386188036 8.936450522652422 5.6740991516867325 4.347743966186499 6.687914042155626 7.591541455034985 1.8717044562117735 4.274781107729723 17.07379080870487 21.36813619427994 4.479956767696194 1.0970202763198813 16.486926206620637 9.286600010455459 17.401125673338584 34.736511480339004 -0.28327588665342773 23.302930437753275 24.368425610964323 9.188497391635337 4.632732747774753 19.58549961261724 3.71326080584754 3.4634082782301903 6.844687098700888 5.0635047497107735 5.361831801814105 1.8113844072652228 29.926779782053927 8.84161022846024 3.306277042626789 -5.940449281921929 6.684653684179921 12.205978712262777 16.019916728550697 8.264542127122695 4.422244773908233 -0.30693686705876644 5.639031160697414 -1.6871014124453723 -0.37432962788034274 6.413123863822875 7.8779210377206255 10.020676982923078 32.85478273135118 33.40253311086576 9.348550478636525 6.244823937465071 5.800865717149009 3.4241482162731245 6.897040882808369 10.278192919663525 0.8768422264290621 19.826531060223715 3.9946457395753896 -1.4181847000431844 20.649227470913956 7.73077507881203 2.544253378520125 5.32358527916972 23.140299942118645 12.428624007503004 20.798793444826515 -5.1253163434857925 4.129490318209037 7.021234903425466 -7.2642741065201335 4.296647048137402 1.8689281204697181 3.2112391474720425 8.55050195153558 9.943102800676797 33.63296063387406 -0.49897857820951685 4.458779847405822 2.198429304976571 1.0318473426723358 1.4425495194748237 8.323044861221888 -6.8992776822478845 7.372491512153829 3.675143359286494 -1.6662991878411049 16.205035345448323 10.947075677668408 1.0946142804857573 25.151680399770157 3.9017879333055134 4.411062113735852 6.798496841377755 2.505232603724153 15.10137956935182 13.168786208185793 -5.14793217523038 2.4097048472374354 -4.4971445912162835 8.165985357252339 1.4672129471296103 13.472072516541175 20.844725280035163 12.516391319321428 -0.9664769138985321 4.7766971109681435 29.534282848982457 10.465626889189025 9.797386955320917 21.8910207922645 5.566618654628201 6.799322930391327 3.3572949139372668 5.825435260482664 14.193705252300333 2.8058822608463743 10.048507562403302 8.805549380995672 7.11189457336377 17.75724012853152 5.372676199993748 6.9829915487162 27.136558195151565 20.039132805837653 4.5689306359658985 19.76874742512382 0.49948790309349533 5.040183539481632 7.140153876472141 5.410212203562878 12.033970806305433 36.66879032437055 22.5249672196519 36.47201860998257 4.931309190655611 7.807848700724662 1.833012162481964 10.914466325606327 0.6835752619224422 22.130639107185516 14.092380450499832 35.63443015069333 -1.663250655856018 9.586875786702876 6.16571639396966 18.81419266518992 20.63526937155575 19.80109971979755 0.8131280480383793 6.6378421272524974 2.530568860660196 12.240359300053342 1.9234135015217362 9.25706059927461 5.235711769067393 6.5049166460592005 27.31719794034848 -0.20714902528607126 5.775623911093135 -1.3454785667065607 7.373808901293842 7.3640113597389245 3.0592501373414507 13.834915842007149 2.541080576709419 20.139650825168246 20.9545555520408 24.293499463830358 5.01182329730932 -0.41101685158628243 3.047733314642528 4.4245051188795514 3.6398240727460234 5.631450316112932 -9.082879387402045 9.555857816090793 7.777502104505402 26.14954074247362 3.2955822411347526 4.4280724186914995 2.3916228490838876 2.5682886861209226 22.94953916812551 21.719277204246737 1.4695097319354318 4.204810419388878 3.679248893017757 8.05592560841501 21.459339735971525 3.2566482198328686 0.11805967538430195 8.22870402301669 3.6596481770848186 -3.4669021637444075 8.11049129743924 5.137398480251477 21.125507071983066 13.511409370755928 21.66121136534798 18.36671209910469 14.492887729764107 4.164973033774004 -1.2167644504688724 11.680170383819814 4.356229949246199 17.763282987919865 10.882049694792613 -5.796276348074116 1.7566534444092667 -1.8245929888066712 -3.7517721657065977 5.970257286980768 11.321521280799743 -0.18967533102227208 9.978704615082734 7.043179164445064 2.911045966514621 12.341890876401521 5.049590980371931 8.42925131818788 9.119165622880928 -1.0160982129702916 11.680522383988773 -2.483296180351317 -1.1954658882755211 7.873700811650224 3.706925800599265 9.575300764827261 5.990487982680179 2.6261921691511816 13.540856473420263 2.2452726204546707 7.925809319418931 10.093701501054966 -0.7180163279740555 4.299828548641472 8.068384963942208 -1.4725675520737695 5.492782173588694 25.024396610617487 3.550700785203844 7.21413642424568 8.017340538604913 45.56261129589507 4.219159828605825 0.9090633618397987 7.974425412242226 -3.4921838664026836 10.629864585324412 5.31016999366102 -5.925575795095028 2.0888839724511854 6.800532877678734 13.196133194192726 24.904310817674514 20.593172048278348 0.10906004853814011 3.0842921044834384 3.705837742021913 -0.43965366501538483 9.378972035822244 6.185971370782227 4.905190191637075 3.14655547599682 6.229006544824642 7.014535264518599 24.728290611514467 6.760428156063199 2.2935733319420706 6.265724560791568 31.020847273900927 8.449718912066146 0.16076244093301284 11.451452811651734 5.945103403214034\n"
          ]
        }
      ]
    },
    {
      "cell_type": "code",
      "source": [
        "from  sklearn.tree import DecisionTreeRegressor\n",
        "dtr = DecisionTreeRegressor()"
      ],
      "metadata": {
        "id": "gUtuQFWga5k4"
      },
      "execution_count": 420,
      "outputs": []
    },
    {
      "cell_type": "code",
      "source": [
        "dtr.fit(X_train, y_train)"
      ],
      "metadata": {
        "colab": {
          "base_uri": "https://localhost:8080/",
          "height": 74
        },
        "id": "r2RvlvledALZ",
        "outputId": "84769f06-06cf-446c-d900-d204d3127a08"
      },
      "execution_count": 423,
      "outputs": [
        {
          "output_type": "execute_result",
          "data": {
            "text/plain": [
              "DecisionTreeRegressor()"
            ],
            "text/html": [
              "<style>#sk-container-id-3 {color: black;background-color: white;}#sk-container-id-3 pre{padding: 0;}#sk-container-id-3 div.sk-toggleable {background-color: white;}#sk-container-id-3 label.sk-toggleable__label {cursor: pointer;display: block;width: 100%;margin-bottom: 0;padding: 0.3em;box-sizing: border-box;text-align: center;}#sk-container-id-3 label.sk-toggleable__label-arrow:before {content: \"▸\";float: left;margin-right: 0.25em;color: #696969;}#sk-container-id-3 label.sk-toggleable__label-arrow:hover:before {color: black;}#sk-container-id-3 div.sk-estimator:hover label.sk-toggleable__label-arrow:before {color: black;}#sk-container-id-3 div.sk-toggleable__content {max-height: 0;max-width: 0;overflow: hidden;text-align: left;background-color: #f0f8ff;}#sk-container-id-3 div.sk-toggleable__content pre {margin: 0.2em;color: black;border-radius: 0.25em;background-color: #f0f8ff;}#sk-container-id-3 input.sk-toggleable__control:checked~div.sk-toggleable__content {max-height: 200px;max-width: 100%;overflow: auto;}#sk-container-id-3 input.sk-toggleable__control:checked~label.sk-toggleable__label-arrow:before {content: \"▾\";}#sk-container-id-3 div.sk-estimator input.sk-toggleable__control:checked~label.sk-toggleable__label {background-color: #d4ebff;}#sk-container-id-3 div.sk-label input.sk-toggleable__control:checked~label.sk-toggleable__label {background-color: #d4ebff;}#sk-container-id-3 input.sk-hidden--visually {border: 0;clip: rect(1px 1px 1px 1px);clip: rect(1px, 1px, 1px, 1px);height: 1px;margin: -1px;overflow: hidden;padding: 0;position: absolute;width: 1px;}#sk-container-id-3 div.sk-estimator {font-family: monospace;background-color: #f0f8ff;border: 1px dotted black;border-radius: 0.25em;box-sizing: border-box;margin-bottom: 0.5em;}#sk-container-id-3 div.sk-estimator:hover {background-color: #d4ebff;}#sk-container-id-3 div.sk-parallel-item::after {content: \"\";width: 100%;border-bottom: 1px solid gray;flex-grow: 1;}#sk-container-id-3 div.sk-label:hover label.sk-toggleable__label {background-color: #d4ebff;}#sk-container-id-3 div.sk-serial::before {content: \"\";position: absolute;border-left: 1px solid gray;box-sizing: border-box;top: 0;bottom: 0;left: 50%;z-index: 0;}#sk-container-id-3 div.sk-serial {display: flex;flex-direction: column;align-items: center;background-color: white;padding-right: 0.2em;padding-left: 0.2em;position: relative;}#sk-container-id-3 div.sk-item {position: relative;z-index: 1;}#sk-container-id-3 div.sk-parallel {display: flex;align-items: stretch;justify-content: center;background-color: white;position: relative;}#sk-container-id-3 div.sk-item::before, #sk-container-id-3 div.sk-parallel-item::before {content: \"\";position: absolute;border-left: 1px solid gray;box-sizing: border-box;top: 0;bottom: 0;left: 50%;z-index: -1;}#sk-container-id-3 div.sk-parallel-item {display: flex;flex-direction: column;z-index: 1;position: relative;background-color: white;}#sk-container-id-3 div.sk-parallel-item:first-child::after {align-self: flex-end;width: 50%;}#sk-container-id-3 div.sk-parallel-item:last-child::after {align-self: flex-start;width: 50%;}#sk-container-id-3 div.sk-parallel-item:only-child::after {width: 0;}#sk-container-id-3 div.sk-dashed-wrapped {border: 1px dashed gray;margin: 0 0.4em 0.5em 0.4em;box-sizing: border-box;padding-bottom: 0.4em;background-color: white;}#sk-container-id-3 div.sk-label label {font-family: monospace;font-weight: bold;display: inline-block;line-height: 1.2em;}#sk-container-id-3 div.sk-label-container {text-align: center;}#sk-container-id-3 div.sk-container {/* jupyter's `normalize.less` sets `[hidden] { display: none; }` but bootstrap.min.css set `[hidden] { display: none !important; }` so we also need the `!important` here to be able to override the default hidden behavior on the sphinx rendered scikit-learn.org. See: https://github.com/scikit-learn/scikit-learn/issues/21755 */display: inline-block !important;position: relative;}#sk-container-id-3 div.sk-text-repr-fallback {display: none;}</style><div id=\"sk-container-id-3\" class=\"sk-top-container\"><div class=\"sk-text-repr-fallback\"><pre>DecisionTreeRegressor()</pre><b>In a Jupyter environment, please rerun this cell to show the HTML representation or trust the notebook. <br />On GitHub, the HTML representation is unable to render, please try loading this page with nbviewer.org.</b></div><div class=\"sk-container\" hidden><div class=\"sk-item\"><div class=\"sk-estimator sk-toggleable\"><input class=\"sk-toggleable__control sk-hidden--visually\" id=\"sk-estimator-id-3\" type=\"checkbox\" checked><label for=\"sk-estimator-id-3\" class=\"sk-toggleable__label sk-toggleable__label-arrow\">DecisionTreeRegressor</label><div class=\"sk-toggleable__content\"><pre>DecisionTreeRegressor()</pre></div></div></div></div></div>"
            ]
          },
          "metadata": {},
          "execution_count": 423
        }
      ]
    },
    {
      "cell_type": "code",
      "source": [],
      "metadata": {
        "id": "0SRBJH9EdIkK"
      },
      "execution_count": null,
      "outputs": []
    }
  ]
}